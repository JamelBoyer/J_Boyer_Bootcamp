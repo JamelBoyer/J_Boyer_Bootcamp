{
 "cells": [
  {
   "cell_type": "markdown",
   "metadata": {},
   "source": [
    "### Plotting a Visual Takeover\n",
    "\n",
    "Your company has recently adopted a new digital dashboard initiative that is aiming to convert all existing company reports to reports that include interactive hvPlot visualizations. The CIO firmly believes that adding interactive visualizations will help users of the report glean more insight from the data they're working with.\n",
    "\n",
    "The CIO also believes the company is falling behind in terms of reporting paradigms; while there are new and flashy visualization technologies out there, the company has mostly been using Matplotlib. It's time for an upgrade."
   ]
  },
  {
   "cell_type": "code",
   "execution_count": 8,
   "metadata": {},
   "outputs": [],
   "source": [
    "# Import libraries and dependencies\n",
    "import pandas as pd\n",
    "from pathlib import Path"
   ]
  },
  {
   "cell_type": "code",
   "execution_count": 9,
   "metadata": {},
   "outputs": [],
   "source": [
    "# Import hvplot\n",
    "import hvplot.pandas"
   ]
  },
  {
   "cell_type": "markdown",
   "metadata": {},
   "source": [
    "### Prepare Data"
   ]
  },
  {
   "cell_type": "code",
   "execution_count": 11,
   "metadata": {},
   "outputs": [
    {
     "data": {
      "text/html": [
       "<div>\n",
       "<style scoped>\n",
       "    .dataframe tbody tr th:only-of-type {\n",
       "        vertical-align: middle;\n",
       "    }\n",
       "\n",
       "    .dataframe tbody tr th {\n",
       "        vertical-align: top;\n",
       "    }\n",
       "\n",
       "    .dataframe thead th {\n",
       "        text-align: right;\n",
       "    }\n",
       "</style>\n",
       "<table border=\"1\" class=\"dataframe\">\n",
       "  <thead>\n",
       "    <tr style=\"text-align: right;\">\n",
       "      <th></th>\n",
       "      <th>Symbol</th>\n",
       "      <th>Name</th>\n",
       "      <th>Sector</th>\n",
       "      <th>Price</th>\n",
       "      <th>Price/Earnings</th>\n",
       "      <th>Dividend Yield</th>\n",
       "      <th>Earnings/Share</th>\n",
       "      <th>52 Week Low</th>\n",
       "      <th>52 Week High</th>\n",
       "      <th>Market Cap</th>\n",
       "      <th>EBITDA</th>\n",
       "      <th>Price/Sales</th>\n",
       "      <th>Price/Book</th>\n",
       "      <th>SEC Filings</th>\n",
       "    </tr>\n",
       "  </thead>\n",
       "  <tbody>\n",
       "    <tr>\n",
       "      <th>0</th>\n",
       "      <td>MMM</td>\n",
       "      <td>3M Company</td>\n",
       "      <td>Industrials</td>\n",
       "      <td>222.89</td>\n",
       "      <td>24.31</td>\n",
       "      <td>2.332862</td>\n",
       "      <td>7.92</td>\n",
       "      <td>259.77</td>\n",
       "      <td>175.490</td>\n",
       "      <td>138721055226</td>\n",
       "      <td>9.048000e+09</td>\n",
       "      <td>4.390271</td>\n",
       "      <td>11.34</td>\n",
       "      <td>http://www.sec.gov/cgi-bin/browse-edgar?action...</td>\n",
       "    </tr>\n",
       "    <tr>\n",
       "      <th>1</th>\n",
       "      <td>AOS</td>\n",
       "      <td>A.O. Smith Corp</td>\n",
       "      <td>Industrials</td>\n",
       "      <td>60.24</td>\n",
       "      <td>27.76</td>\n",
       "      <td>1.147959</td>\n",
       "      <td>1.70</td>\n",
       "      <td>68.39</td>\n",
       "      <td>48.925</td>\n",
       "      <td>10783419933</td>\n",
       "      <td>6.010000e+08</td>\n",
       "      <td>3.575483</td>\n",
       "      <td>6.35</td>\n",
       "      <td>http://www.sec.gov/cgi-bin/browse-edgar?action...</td>\n",
       "    </tr>\n",
       "    <tr>\n",
       "      <th>2</th>\n",
       "      <td>ABT</td>\n",
       "      <td>Abbott Laboratories</td>\n",
       "      <td>Health Care</td>\n",
       "      <td>56.27</td>\n",
       "      <td>22.51</td>\n",
       "      <td>1.908982</td>\n",
       "      <td>0.26</td>\n",
       "      <td>64.60</td>\n",
       "      <td>42.280</td>\n",
       "      <td>102121042306</td>\n",
       "      <td>5.744000e+09</td>\n",
       "      <td>3.740480</td>\n",
       "      <td>3.19</td>\n",
       "      <td>http://www.sec.gov/cgi-bin/browse-edgar?action...</td>\n",
       "    </tr>\n",
       "    <tr>\n",
       "      <th>3</th>\n",
       "      <td>ABBV</td>\n",
       "      <td>AbbVie Inc.</td>\n",
       "      <td>Health Care</td>\n",
       "      <td>108.48</td>\n",
       "      <td>19.41</td>\n",
       "      <td>2.499560</td>\n",
       "      <td>3.29</td>\n",
       "      <td>125.86</td>\n",
       "      <td>60.050</td>\n",
       "      <td>181386347059</td>\n",
       "      <td>1.031000e+10</td>\n",
       "      <td>6.291571</td>\n",
       "      <td>26.14</td>\n",
       "      <td>http://www.sec.gov/cgi-bin/browse-edgar?action...</td>\n",
       "    </tr>\n",
       "    <tr>\n",
       "      <th>4</th>\n",
       "      <td>ACN</td>\n",
       "      <td>Accenture plc</td>\n",
       "      <td>Information Technology</td>\n",
       "      <td>150.51</td>\n",
       "      <td>25.47</td>\n",
       "      <td>1.714470</td>\n",
       "      <td>5.44</td>\n",
       "      <td>162.60</td>\n",
       "      <td>114.820</td>\n",
       "      <td>98765855553</td>\n",
       "      <td>5.643228e+09</td>\n",
       "      <td>2.604117</td>\n",
       "      <td>10.62</td>\n",
       "      <td>http://www.sec.gov/cgi-bin/browse-edgar?action...</td>\n",
       "    </tr>\n",
       "  </tbody>\n",
       "</table>\n",
       "</div>"
      ],
      "text/plain": [
       "  Symbol                 Name                  Sector   Price  Price/Earnings  \\\n",
       "0    MMM           3M Company             Industrials  222.89           24.31   \n",
       "1    AOS      A.O. Smith Corp             Industrials   60.24           27.76   \n",
       "2    ABT  Abbott Laboratories             Health Care   56.27           22.51   \n",
       "3   ABBV          AbbVie Inc.             Health Care  108.48           19.41   \n",
       "4    ACN        Accenture plc  Information Technology  150.51           25.47   \n",
       "\n",
       "   Dividend Yield  Earnings/Share  52 Week Low  52 Week High    Market Cap  \\\n",
       "0        2.332862            7.92       259.77       175.490  138721055226   \n",
       "1        1.147959            1.70        68.39        48.925   10783419933   \n",
       "2        1.908982            0.26        64.60        42.280  102121042306   \n",
       "3        2.499560            3.29       125.86        60.050  181386347059   \n",
       "4        1.714470            5.44       162.60       114.820   98765855553   \n",
       "\n",
       "         EBITDA  Price/Sales  Price/Book  \\\n",
       "0  9.048000e+09     4.390271       11.34   \n",
       "1  6.010000e+08     3.575483        6.35   \n",
       "2  5.744000e+09     3.740480        3.19   \n",
       "3  1.031000e+10     6.291571       26.14   \n",
       "4  5.643228e+09     2.604117       10.62   \n",
       "\n",
       "                                         SEC Filings  \n",
       "0  http://www.sec.gov/cgi-bin/browse-edgar?action...  \n",
       "1  http://www.sec.gov/cgi-bin/browse-edgar?action...  \n",
       "2  http://www.sec.gov/cgi-bin/browse-edgar?action...  \n",
       "3  http://www.sec.gov/cgi-bin/browse-edgar?action...  \n",
       "4  http://www.sec.gov/cgi-bin/browse-edgar?action...  "
      ]
     },
     "metadata": {},
     "output_type": "display_data"
    },
    {
     "data": {
      "text/html": [
       "<div>\n",
       "<style scoped>\n",
       "    .dataframe tbody tr th:only-of-type {\n",
       "        vertical-align: middle;\n",
       "    }\n",
       "\n",
       "    .dataframe tbody tr th {\n",
       "        vertical-align: top;\n",
       "    }\n",
       "\n",
       "    .dataframe thead th {\n",
       "        text-align: right;\n",
       "    }\n",
       "</style>\n",
       "<table border=\"1\" class=\"dataframe\">\n",
       "  <thead>\n",
       "    <tr style=\"text-align: right;\">\n",
       "      <th></th>\n",
       "      <th>Symbol</th>\n",
       "      <th>Name</th>\n",
       "      <th>Sector</th>\n",
       "      <th>Price</th>\n",
       "      <th>Price/Earnings</th>\n",
       "      <th>Dividend Yield</th>\n",
       "      <th>Earnings/Share</th>\n",
       "      <th>52 Week Low</th>\n",
       "      <th>52 Week High</th>\n",
       "      <th>Market Cap</th>\n",
       "      <th>EBITDA</th>\n",
       "      <th>Price/Sales</th>\n",
       "      <th>Price/Book</th>\n",
       "      <th>SEC Filings</th>\n",
       "    </tr>\n",
       "  </thead>\n",
       "  <tbody>\n",
       "    <tr>\n",
       "      <th>500</th>\n",
       "      <td>XYL</td>\n",
       "      <td>Xylem Inc.</td>\n",
       "      <td>Industrials</td>\n",
       "      <td>70.24</td>\n",
       "      <td>30.94</td>\n",
       "      <td>1.170079</td>\n",
       "      <td>1.83</td>\n",
       "      <td>76.81</td>\n",
       "      <td>46.86</td>\n",
       "      <td>12915021000</td>\n",
       "      <td>7.220000e+08</td>\n",
       "      <td>2.726209</td>\n",
       "      <td>5.31</td>\n",
       "      <td>http://www.sec.gov/cgi-bin/browse-edgar?action...</td>\n",
       "    </tr>\n",
       "    <tr>\n",
       "      <th>501</th>\n",
       "      <td>YUM</td>\n",
       "      <td>Yum! Brands Inc</td>\n",
       "      <td>Consumer Discretionary</td>\n",
       "      <td>76.30</td>\n",
       "      <td>27.25</td>\n",
       "      <td>1.797080</td>\n",
       "      <td>4.07</td>\n",
       "      <td>86.93</td>\n",
       "      <td>62.85</td>\n",
       "      <td>27003303098</td>\n",
       "      <td>2.289000e+09</td>\n",
       "      <td>6.313636</td>\n",
       "      <td>212.08</td>\n",
       "      <td>http://www.sec.gov/cgi-bin/browse-edgar?action...</td>\n",
       "    </tr>\n",
       "    <tr>\n",
       "      <th>502</th>\n",
       "      <td>ZBH</td>\n",
       "      <td>Zimmer Biomet Holdings</td>\n",
       "      <td>Health Care</td>\n",
       "      <td>115.53</td>\n",
       "      <td>14.32</td>\n",
       "      <td>0.794834</td>\n",
       "      <td>9.01</td>\n",
       "      <td>133.49</td>\n",
       "      <td>108.17</td>\n",
       "      <td>24454698119</td>\n",
       "      <td>2.007400e+09</td>\n",
       "      <td>3.164895</td>\n",
       "      <td>2.39</td>\n",
       "      <td>http://www.sec.gov/cgi-bin/browse-edgar?action...</td>\n",
       "    </tr>\n",
       "    <tr>\n",
       "      <th>503</th>\n",
       "      <td>ZION</td>\n",
       "      <td>Zions Bancorp</td>\n",
       "      <td>Financials</td>\n",
       "      <td>50.71</td>\n",
       "      <td>17.73</td>\n",
       "      <td>1.480933</td>\n",
       "      <td>2.60</td>\n",
       "      <td>55.61</td>\n",
       "      <td>38.43</td>\n",
       "      <td>10670678640</td>\n",
       "      <td>0.000000e+00</td>\n",
       "      <td>3.794579</td>\n",
       "      <td>1.42</td>\n",
       "      <td>http://www.sec.gov/cgi-bin/browse-edgar?action...</td>\n",
       "    </tr>\n",
       "    <tr>\n",
       "      <th>504</th>\n",
       "      <td>ZTS</td>\n",
       "      <td>Zoetis</td>\n",
       "      <td>Health Care</td>\n",
       "      <td>71.51</td>\n",
       "      <td>32.80</td>\n",
       "      <td>0.682372</td>\n",
       "      <td>1.65</td>\n",
       "      <td>80.13</td>\n",
       "      <td>52.00</td>\n",
       "      <td>35991109776</td>\n",
       "      <td>1.734000e+09</td>\n",
       "      <td>9.280896</td>\n",
       "      <td>18.09</td>\n",
       "      <td>http://www.sec.gov/cgi-bin/browse-edgar?action...</td>\n",
       "    </tr>\n",
       "  </tbody>\n",
       "</table>\n",
       "</div>"
      ],
      "text/plain": [
       "    Symbol                    Name                  Sector   Price  \\\n",
       "500    XYL              Xylem Inc.             Industrials   70.24   \n",
       "501    YUM         Yum! Brands Inc  Consumer Discretionary   76.30   \n",
       "502    ZBH  Zimmer Biomet Holdings             Health Care  115.53   \n",
       "503   ZION           Zions Bancorp              Financials   50.71   \n",
       "504    ZTS                  Zoetis             Health Care   71.51   \n",
       "\n",
       "     Price/Earnings  Dividend Yield  Earnings/Share  52 Week Low  \\\n",
       "500           30.94        1.170079            1.83        76.81   \n",
       "501           27.25        1.797080            4.07        86.93   \n",
       "502           14.32        0.794834            9.01       133.49   \n",
       "503           17.73        1.480933            2.60        55.61   \n",
       "504           32.80        0.682372            1.65        80.13   \n",
       "\n",
       "     52 Week High   Market Cap        EBITDA  Price/Sales  Price/Book  \\\n",
       "500         46.86  12915021000  7.220000e+08     2.726209        5.31   \n",
       "501         62.85  27003303098  2.289000e+09     6.313636      212.08   \n",
       "502        108.17  24454698119  2.007400e+09     3.164895        2.39   \n",
       "503         38.43  10670678640  0.000000e+00     3.794579        1.42   \n",
       "504         52.00  35991109776  1.734000e+09     9.280896       18.09   \n",
       "\n",
       "                                           SEC Filings  \n",
       "500  http://www.sec.gov/cgi-bin/browse-edgar?action...  \n",
       "501  http://www.sec.gov/cgi-bin/browse-edgar?action...  \n",
       "502  http://www.sec.gov/cgi-bin/browse-edgar?action...  \n",
       "503  http://www.sec.gov/cgi-bin/browse-edgar?action...  \n",
       "504  http://www.sec.gov/cgi-bin/browse-edgar?action...  "
      ]
     },
     "metadata": {},
     "output_type": "display_data"
    }
   ],
   "source": [
    "# Read in the CSV as a DataFrame\n",
    "sp500_companies_csv = pd.read_csv(\n",
    "    Path('../Resources/sp500_companies.csv')\n",
    ")\n",
    "\n",
    "# Review the DataFrame\n",
    "display(sp500_companies_csv.head())\n",
    "display(sp500_companies_csv.tail())"
   ]
  },
  {
   "cell_type": "code",
   "execution_count": 4,
   "metadata": {},
   "outputs": [],
   "source": [
    "sector_count = sp500_companies_csv['Sector'].value_counts()\n",
    "\n",
    "# Count the frequency of each sector from the list of companies\n",
    "sector_count = sp500_companies_csv['Sector'].value_counts()\n",
    "\n",
    "# Grab the `Symbol` and `Market Cap` columns\n",
    "market_cap = sp500_companies_csv.loc[:, ['Symbol', 'Market Cap']]\n",
    "\n",
    "# Set the 'Symbol' as the index\n",
    "market_cap.set_index(market_cap['Symbol'], inplace=True)\n",
    "\n",
    "# Drop the extra 'Symbol' column\n",
    "market_cap.drop(columns=['Symbol'], inplace=True)\n",
    "\n",
    "# Filter down to 20 companies with the largest market caps\n",
    "top_20_market_cap = market_cap.nlargest(20, 'Market Cap')"
   ]
  },
  {
   "cell_type": "markdown",
   "metadata": {},
   "source": [
    "### 1. Create Plot Using simple hvplot"
   ]
  },
  {
   "cell_type": "code",
   "execution_count": 5,
   "metadata": {},
   "outputs": [
    {
     "data": {
      "application/vnd.holoviews_exec.v0+json": "",
      "text/html": [
       "<div id='1001'>\n",
       "\n",
       "\n",
       "\n",
       "\n",
       "\n",
       "  <div class=\"bk-root\" id=\"4db393db-c3fa-4082-8e95-887272aba9ba\" data-root-id=\"1001\"></div>\n",
       "</div>\n",
       "<script type=\"application/javascript\">(function(root) {\n",
       "  function embed_document(root) {\n",
       "    var docs_json = {\"3b5eb155-ecea-4c80-995b-888a6abc3559\":{\"roots\":{\"references\":[{\"attributes\":{},\"id\":\"1016\",\"type\":\"CategoricalTicker\"},{\"attributes\":{\"margin\":[5,5,5,5],\"name\":\"HSpacer01526\",\"sizing_mode\":\"stretch_width\"},\"id\":\"1002\",\"type\":\"Spacer\"},{\"attributes\":{\"axis\":{\"id\":\"1015\"},\"grid_line_color\":null,\"ticker\":null},\"id\":\"1017\",\"type\":\"Grid\"},{\"attributes\":{\"children\":[{\"id\":\"1002\"},{\"id\":\"1006\"},{\"id\":\"1063\"}],\"margin\":[0,0,0,0],\"name\":\"Row01522\",\"tags\":[\"embedded\"]},\"id\":\"1001\",\"type\":\"Row\"},{\"attributes\":{\"callback\":null,\"renderers\":[{\"id\":\"1041\"}],\"tags\":[\"hv_created\"],\"tooltips\":[[\"Symbol\",\"@{Symbol}\"],[\"Market Cap\",\"@{Market_Cap}\"]]},\"id\":\"1005\",\"type\":\"HoverTool\"},{\"attributes\":{\"line_alpha\":0.2,\"line_color\":\"#1f77b3\",\"line_width\":2,\"x\":{\"field\":\"Symbol\"},\"y\":{\"field\":\"Market Cap\"}},\"id\":\"1040\",\"type\":\"Line\"},{\"attributes\":{},\"id\":\"1023\",\"type\":\"PanTool\"},{\"attributes\":{},\"id\":\"1024\",\"type\":\"WheelZoomTool\"},{\"attributes\":{},\"id\":\"1026\",\"type\":\"ResetTool\"},{\"attributes\":{\"overlay\":{\"id\":\"1027\"}},\"id\":\"1025\",\"type\":\"BoxZoomTool\"},{\"attributes\":{},\"id\":\"1043\",\"type\":\"CategoricalTickFormatter\"},{\"attributes\":{\"factors\":[\"AAPL\",\"GOOGL\",\"GOOG\",\"MSFT\",\"AMZN\",\"FB\",\"JPM\",\"JNJ\",\"XOM\",\"BAC\",\"WMT\",\"WFC\",\"V\",\"BRK.B\",\"T\",\"HD\",\"CVX\",\"UNH\",\"INTC\",\"PFE\"],\"tags\":[[[\"Symbol\",\"Symbol\",null]]]},\"id\":\"1003\",\"type\":\"FactorRange\"},{\"attributes\":{\"axis\":{\"id\":\"1018\"},\"dimension\":1,\"grid_line_color\":null,\"ticker\":null},\"id\":\"1021\",\"type\":\"Grid\"},{\"attributes\":{\"margin\":[5,5,5,5],\"name\":\"HSpacer01527\",\"sizing_mode\":\"stretch_width\"},\"id\":\"1063\",\"type\":\"Spacer\"},{\"attributes\":{\"source\":{\"id\":\"1035\"}},\"id\":\"1042\",\"type\":\"CDSView\"},{\"attributes\":{\"text\":\"Top 20 Market Cap Companies (in billions)\",\"text_color\":{\"value\":\"black\"},\"text_font_size\":{\"value\":\"12pt\"}},\"id\":\"1007\",\"type\":\"Title\"},{\"attributes\":{\"axis_label\":\"Symbol\",\"bounds\":\"auto\",\"formatter\":{\"id\":\"1043\"},\"major_label_orientation\":\"horizontal\",\"ticker\":{\"id\":\"1016\"}},\"id\":\"1015\",\"type\":\"CategoricalAxis\"},{\"attributes\":{},\"id\":\"1045\",\"type\":\"BasicTickFormatter\"},{\"attributes\":{\"end\":869608283227.1,\"reset_end\":869608283227.1,\"reset_start\":148405292741.9,\"start\":148405292741.9,\"tags\":[[[\"Market Cap\",\"Market Cap\",null]]]},\"id\":\"1004\",\"type\":\"Range1d\"},{\"attributes\":{\"data\":{\"Market Cap\":[809508034020,733823966137,728535558140,689978437468,685873374731,523423036576,386613611000,353062464971,326148660000,321478200969,304680931618,281463620775,270038723213,261401203633,226713270000,223378633329,218978820159,218834811333,211536000000,208505541949],\"Market_Cap\":[809508034020,733823966137,728535558140,689978437468,685873374731,523423036576,386613611000,353062464971,326148660000,321478200969,304680931618,281463620775,270038723213,261401203633,226713270000,223378633329,218978820159,218834811333,211536000000,208505541949],\"Symbol\":[\"AAPL\",\"GOOGL\",\"GOOG\",\"MSFT\",\"AMZN\",\"FB\",\"JPM\",\"JNJ\",\"XOM\",\"BAC\",\"WMT\",\"WFC\",\"V\",\"BRK.B\",\"T\",\"HD\",\"CVX\",\"UNH\",\"INTC\",\"PFE\"]},\"selected\":{\"id\":\"1036\"},\"selection_policy\":{\"id\":\"1052\"}},\"id\":\"1035\",\"type\":\"ColumnDataSource\"},{\"attributes\":{\"line_alpha\":0.1,\"line_color\":\"#1f77b3\",\"line_width\":2,\"x\":{\"field\":\"Symbol\"},\"y\":{\"field\":\"Market Cap\"}},\"id\":\"1039\",\"type\":\"Line\"},{\"attributes\":{\"bottom_units\":\"screen\",\"fill_alpha\":0.5,\"fill_color\":\"lightgrey\",\"left_units\":\"screen\",\"level\":\"overlay\",\"line_alpha\":1.0,\"line_color\":\"black\",\"line_dash\":[4,4],\"line_width\":2,\"right_units\":\"screen\",\"top_units\":\"screen\"},\"id\":\"1027\",\"type\":\"BoxAnnotation\"},{\"attributes\":{},\"id\":\"1036\",\"type\":\"Selection\"},{\"attributes\":{},\"id\":\"1011\",\"type\":\"CategoricalScale\"},{\"attributes\":{},\"id\":\"1013\",\"type\":\"LinearScale\"},{\"attributes\":{\"axis_label\":\"Market Cap\",\"bounds\":\"auto\",\"formatter\":{\"id\":\"1045\"},\"major_label_orientation\":\"horizontal\",\"ticker\":{\"id\":\"1019\"}},\"id\":\"1018\",\"type\":\"LinearAxis\"},{\"attributes\":{\"active_drag\":\"auto\",\"active_inspect\":\"auto\",\"active_multi\":null,\"active_scroll\":\"auto\",\"active_tap\":\"auto\",\"tools\":[{\"id\":\"1005\"},{\"id\":\"1022\"},{\"id\":\"1023\"},{\"id\":\"1024\"},{\"id\":\"1025\"},{\"id\":\"1026\"}]},\"id\":\"1028\",\"type\":\"Toolbar\"},{\"attributes\":{},\"id\":\"1022\",\"type\":\"SaveTool\"},{\"attributes\":{\"below\":[{\"id\":\"1015\"}],\"center\":[{\"id\":\"1017\"},{\"id\":\"1021\"}],\"left\":[{\"id\":\"1018\"}],\"margin\":[5,5,5,5],\"min_border_bottom\":10,\"min_border_left\":10,\"min_border_right\":10,\"min_border_top\":10,\"plot_height\":300,\"plot_width\":700,\"renderers\":[{\"id\":\"1041\"}],\"sizing_mode\":\"fixed\",\"title\":{\"id\":\"1007\"},\"toolbar\":{\"id\":\"1028\"},\"x_range\":{\"id\":\"1003\"},\"x_scale\":{\"id\":\"1011\"},\"y_range\":{\"id\":\"1004\"},\"y_scale\":{\"id\":\"1013\"}},\"id\":\"1006\",\"subtype\":\"Figure\",\"type\":\"Plot\"},{\"attributes\":{\"data_source\":{\"id\":\"1035\"},\"glyph\":{\"id\":\"1038\"},\"hover_glyph\":null,\"muted_glyph\":{\"id\":\"1040\"},\"nonselection_glyph\":{\"id\":\"1039\"},\"selection_glyph\":null,\"view\":{\"id\":\"1042\"}},\"id\":\"1041\",\"type\":\"GlyphRenderer\"},{\"attributes\":{},\"id\":\"1019\",\"type\":\"BasicTicker\"},{\"attributes\":{},\"id\":\"1052\",\"type\":\"UnionRenderers\"},{\"attributes\":{\"line_color\":\"#1f77b3\",\"line_width\":2,\"x\":{\"field\":\"Symbol\"},\"y\":{\"field\":\"Market Cap\"}},\"id\":\"1038\",\"type\":\"Line\"}],\"root_ids\":[\"1001\"]},\"title\":\"Bokeh Application\",\"version\":\"2.2.3\"}};\n",
       "    var render_items = [{\"docid\":\"3b5eb155-ecea-4c80-995b-888a6abc3559\",\"root_ids\":[\"1001\"],\"roots\":{\"1001\":\"4db393db-c3fa-4082-8e95-887272aba9ba\"}}];\n",
       "    root.Bokeh.embed.embed_items_notebook(docs_json, render_items);\n",
       "  }\n",
       "  if (root.Bokeh !== undefined && root.Bokeh.Panel !== undefined) {\n",
       "    embed_document(root);\n",
       "  } else {\n",
       "    var attempts = 0;\n",
       "    var timer = setInterval(function(root) {\n",
       "      if (root.Bokeh !== undefined && root.Bokeh.Panel !== undefined) {\n",
       "        clearInterval(timer);\n",
       "        embed_document(root);\n",
       "      } else if (document.readyState == \"complete\") {\n",
       "        attempts++;\n",
       "        if (attempts > 100) {\n",
       "          clearInterval(timer);\n",
       "          console.log(\"Bokeh: ERROR: Unable to run BokehJS code because BokehJS library is missing\");\n",
       "        }\n",
       "      }\n",
       "    }, 10, root)\n",
       "  }\n",
       "})(window);</script>"
      ],
      "text/plain": [
       ":Curve   [Symbol]   (Market Cap)"
      ]
     },
     "execution_count": 5,
     "metadata": {
      "application/vnd.holoviews_exec.v0+json": {
       "id": "1001"
      }
     },
     "output_type": "execute_result"
    }
   ],
   "source": [
    "# Use the top_20_market_cap DataFrame to generate standard hvplot\n",
    "# YOUR CODE HERE\n"
   ]
  },
  {
   "cell_type": "markdown",
   "metadata": {},
   "source": [
    "### 2. Create a line plot using hvPlot.line"
   ]
  },
  {
   "cell_type": "code",
   "execution_count": 6,
   "metadata": {},
   "outputs": [
    {
     "data": {
      "application/vnd.holoviews_exec.v0+json": "",
      "text/html": [
       "<div id='1105'>\n",
       "\n",
       "\n",
       "\n",
       "\n",
       "\n",
       "  <div class=\"bk-root\" id=\"530f34f2-5640-4b3e-bf10-1dd81fd7d042\" data-root-id=\"1105\"></div>\n",
       "</div>\n",
       "<script type=\"application/javascript\">(function(root) {\n",
       "  function embed_document(root) {\n",
       "    var docs_json = {\"b5896e8a-bc54-4252-a26b-a5b94a25ccb4\":{\"roots\":{\"references\":[{\"attributes\":{\"source\":{\"id\":\"1139\"}},\"id\":\"1146\",\"type\":\"CDSView\"},{\"attributes\":{\"bottom_units\":\"screen\",\"fill_alpha\":0.5,\"fill_color\":\"lightgrey\",\"left_units\":\"screen\",\"level\":\"overlay\",\"line_alpha\":1.0,\"line_color\":\"black\",\"line_dash\":[4,4],\"line_width\":2,\"right_units\":\"screen\",\"top_units\":\"screen\"},\"id\":\"1131\",\"type\":\"BoxAnnotation\"},{\"attributes\":{\"data\":{\"Market Cap\":[809508034020,733823966137,728535558140,689978437468,685873374731,523423036576,386613611000,353062464971,326148660000,321478200969,304680931618,281463620775,270038723213,261401203633,226713270000,223378633329,218978820159,218834811333,211536000000,208505541949],\"Market_Cap\":[809508034020,733823966137,728535558140,689978437468,685873374731,523423036576,386613611000,353062464971,326148660000,321478200969,304680931618,281463620775,270038723213,261401203633,226713270000,223378633329,218978820159,218834811333,211536000000,208505541949],\"Symbol\":[\"AAPL\",\"GOOGL\",\"GOOG\",\"MSFT\",\"AMZN\",\"FB\",\"JPM\",\"JNJ\",\"XOM\",\"BAC\",\"WMT\",\"WFC\",\"V\",\"BRK.B\",\"T\",\"HD\",\"CVX\",\"UNH\",\"INTC\",\"PFE\"]},\"selected\":{\"id\":\"1140\"},\"selection_policy\":{\"id\":\"1156\"}},\"id\":\"1139\",\"type\":\"ColumnDataSource\"},{\"attributes\":{\"below\":[{\"id\":\"1119\"}],\"center\":[{\"id\":\"1121\"},{\"id\":\"1125\"}],\"left\":[{\"id\":\"1122\"}],\"margin\":[5,5,5,5],\"min_border_bottom\":10,\"min_border_left\":10,\"min_border_right\":10,\"min_border_top\":10,\"plot_height\":300,\"plot_width\":700,\"renderers\":[{\"id\":\"1145\"}],\"sizing_mode\":\"fixed\",\"title\":{\"id\":\"1111\"},\"toolbar\":{\"id\":\"1132\"},\"x_range\":{\"id\":\"1107\"},\"x_scale\":{\"id\":\"1115\"},\"y_range\":{\"id\":\"1108\"},\"y_scale\":{\"id\":\"1117\"}},\"id\":\"1110\",\"subtype\":\"Figure\",\"type\":\"Plot\"},{\"attributes\":{\"end\":869608283227.1,\"reset_end\":869608283227.1,\"reset_start\":148405292741.9,\"start\":148405292741.9,\"tags\":[[[\"Market Cap\",\"Market Cap\",null]]]},\"id\":\"1108\",\"type\":\"Range1d\"},{\"attributes\":{\"line_alpha\":0.1,\"line_color\":\"#1f77b3\",\"line_width\":2,\"x\":{\"field\":\"Symbol\"},\"y\":{\"field\":\"Market Cap\"}},\"id\":\"1143\",\"type\":\"Line\"},{\"attributes\":{\"line_color\":\"#1f77b3\",\"line_width\":2,\"x\":{\"field\":\"Symbol\"},\"y\":{\"field\":\"Market Cap\"}},\"id\":\"1142\",\"type\":\"Line\"},{\"attributes\":{\"margin\":[5,5,5,5],\"name\":\"HSpacer01708\",\"sizing_mode\":\"stretch_width\"},\"id\":\"1167\",\"type\":\"Spacer\"},{\"attributes\":{\"callback\":null,\"renderers\":[{\"id\":\"1145\"}],\"tags\":[\"hv_created\"],\"tooltips\":[[\"Symbol\",\"@{Symbol}\"],[\"Market Cap\",\"@{Market_Cap}\"]]},\"id\":\"1109\",\"type\":\"HoverTool\"},{\"attributes\":{},\"id\":\"1126\",\"type\":\"SaveTool\"},{\"attributes\":{},\"id\":\"1127\",\"type\":\"PanTool\"},{\"attributes\":{},\"id\":\"1149\",\"type\":\"BasicTickFormatter\"},{\"attributes\":{},\"id\":\"1156\",\"type\":\"UnionRenderers\"},{\"attributes\":{\"axis\":{\"id\":\"1122\"},\"dimension\":1,\"grid_line_color\":null,\"ticker\":null},\"id\":\"1125\",\"type\":\"Grid\"},{\"attributes\":{},\"id\":\"1128\",\"type\":\"WheelZoomTool\"},{\"attributes\":{\"children\":[{\"id\":\"1106\"},{\"id\":\"1110\"},{\"id\":\"1167\"}],\"margin\":[0,0,0,0],\"name\":\"Row01703\",\"tags\":[\"embedded\"]},\"id\":\"1105\",\"type\":\"Row\"},{\"attributes\":{\"active_drag\":\"auto\",\"active_inspect\":\"auto\",\"active_multi\":null,\"active_scroll\":\"auto\",\"active_tap\":\"auto\",\"tools\":[{\"id\":\"1109\"},{\"id\":\"1126\"},{\"id\":\"1127\"},{\"id\":\"1128\"},{\"id\":\"1129\"},{\"id\":\"1130\"}]},\"id\":\"1132\",\"type\":\"Toolbar\"},{\"attributes\":{\"overlay\":{\"id\":\"1131\"}},\"id\":\"1129\",\"type\":\"BoxZoomTool\"},{\"attributes\":{},\"id\":\"1115\",\"type\":\"CategoricalScale\"},{\"attributes\":{\"line_alpha\":0.2,\"line_color\":\"#1f77b3\",\"line_width\":2,\"x\":{\"field\":\"Symbol\"},\"y\":{\"field\":\"Market Cap\"}},\"id\":\"1144\",\"type\":\"Line\"},{\"attributes\":{\"axis_label\":\"Symbol\",\"bounds\":\"auto\",\"formatter\":{\"id\":\"1147\"},\"major_label_orientation\":\"horizontal\",\"ticker\":{\"id\":\"1120\"}},\"id\":\"1119\",\"type\":\"CategoricalAxis\"},{\"attributes\":{\"margin\":[5,5,5,5],\"name\":\"HSpacer01707\",\"sizing_mode\":\"stretch_width\"},\"id\":\"1106\",\"type\":\"Spacer\"},{\"attributes\":{},\"id\":\"1130\",\"type\":\"ResetTool\"},{\"attributes\":{},\"id\":\"1117\",\"type\":\"LinearScale\"},{\"attributes\":{\"factors\":[\"AAPL\",\"GOOGL\",\"GOOG\",\"MSFT\",\"AMZN\",\"FB\",\"JPM\",\"JNJ\",\"XOM\",\"BAC\",\"WMT\",\"WFC\",\"V\",\"BRK.B\",\"T\",\"HD\",\"CVX\",\"UNH\",\"INTC\",\"PFE\"],\"tags\":[[[\"Symbol\",\"Symbol\",null]]]},\"id\":\"1107\",\"type\":\"FactorRange\"},{\"attributes\":{\"text\":\"Top 20 Market Cap Companies (in billions)\",\"text_color\":{\"value\":\"black\"},\"text_font_size\":{\"value\":\"12pt\"}},\"id\":\"1111\",\"type\":\"Title\"},{\"attributes\":{},\"id\":\"1120\",\"type\":\"CategoricalTicker\"},{\"attributes\":{\"data_source\":{\"id\":\"1139\"},\"glyph\":{\"id\":\"1142\"},\"hover_glyph\":null,\"muted_glyph\":{\"id\":\"1144\"},\"nonselection_glyph\":{\"id\":\"1143\"},\"selection_glyph\":null,\"view\":{\"id\":\"1146\"}},\"id\":\"1145\",\"type\":\"GlyphRenderer\"},{\"attributes\":{},\"id\":\"1140\",\"type\":\"Selection\"},{\"attributes\":{\"axis\":{\"id\":\"1119\"},\"grid_line_color\":null,\"ticker\":null},\"id\":\"1121\",\"type\":\"Grid\"},{\"attributes\":{},\"id\":\"1147\",\"type\":\"CategoricalTickFormatter\"},{\"attributes\":{},\"id\":\"1123\",\"type\":\"BasicTicker\"},{\"attributes\":{\"axis_label\":\"Market Cap\",\"bounds\":\"auto\",\"formatter\":{\"id\":\"1149\"},\"major_label_orientation\":\"horizontal\",\"ticker\":{\"id\":\"1123\"}},\"id\":\"1122\",\"type\":\"LinearAxis\"}],\"root_ids\":[\"1105\"]},\"title\":\"Bokeh Application\",\"version\":\"2.2.3\"}};\n",
       "    var render_items = [{\"docid\":\"b5896e8a-bc54-4252-a26b-a5b94a25ccb4\",\"root_ids\":[\"1105\"],\"roots\":{\"1105\":\"530f34f2-5640-4b3e-bf10-1dd81fd7d042\"}}];\n",
       "    root.Bokeh.embed.embed_items_notebook(docs_json, render_items);\n",
       "  }\n",
       "  if (root.Bokeh !== undefined && root.Bokeh.Panel !== undefined) {\n",
       "    embed_document(root);\n",
       "  } else {\n",
       "    var attempts = 0;\n",
       "    var timer = setInterval(function(root) {\n",
       "      if (root.Bokeh !== undefined && root.Bokeh.Panel !== undefined) {\n",
       "        clearInterval(timer);\n",
       "        embed_document(root);\n",
       "      } else if (document.readyState == \"complete\") {\n",
       "        attempts++;\n",
       "        if (attempts > 100) {\n",
       "          clearInterval(timer);\n",
       "          console.log(\"Bokeh: ERROR: Unable to run BokehJS code because BokehJS library is missing\");\n",
       "        }\n",
       "      }\n",
       "    }, 10, root)\n",
       "  }\n",
       "})(window);</script>"
      ],
      "text/plain": [
       ":Curve   [Symbol]   (Market Cap)"
      ]
     },
     "execution_count": 6,
     "metadata": {
      "application/vnd.holoviews_exec.v0+json": {
       "id": "1105"
      }
     },
     "output_type": "execute_result"
    }
   ],
   "source": [
    "# Use the top_20_market_cap DataFrame to plot a hvplot line plot\n",
    "# YOUR CODE HERE\n"
   ]
  },
  {
   "cell_type": "markdown",
   "metadata": {},
   "source": [
    "### 3. Create Bar Plot Using hvplot.bar"
   ]
  },
  {
   "cell_type": "code",
   "execution_count": 7,
   "metadata": {},
   "outputs": [
    {
     "data": {
      "application/vnd.holoviews_exec.v0+json": "",
      "text/html": [
       "<div id='1209'>\n",
       "\n",
       "\n",
       "\n",
       "\n",
       "\n",
       "  <div class=\"bk-root\" id=\"ceebfd6e-0035-45a9-8ed8-9bb499719ce3\" data-root-id=\"1209\"></div>\n",
       "</div>\n",
       "<script type=\"application/javascript\">(function(root) {\n",
       "  function embed_document(root) {\n",
       "    var docs_json = {\"de732603-5650-445f-ac37-99fd8df04214\":{\"roots\":{\"references\":[{\"attributes\":{},\"id\":\"1224\",\"type\":\"CategoricalTicker\"},{\"attributes\":{\"axis\":{\"id\":\"1226\"},\"dimension\":1,\"grid_line_color\":null,\"ticker\":null},\"id\":\"1229\",\"type\":\"Grid\"},{\"attributes\":{},\"id\":\"1251\",\"type\":\"CategoricalTickFormatter\"},{\"attributes\":{},\"id\":\"1227\",\"type\":\"BasicTicker\"},{\"attributes\":{\"data_source\":{\"id\":\"1243\"},\"glyph\":{\"id\":\"1246\"},\"hover_glyph\":null,\"muted_glyph\":{\"id\":\"1248\"},\"nonselection_glyph\":{\"id\":\"1247\"},\"selection_glyph\":null,\"view\":{\"id\":\"1250\"}},\"id\":\"1249\",\"type\":\"GlyphRenderer\"},{\"attributes\":{\"callback\":null,\"renderers\":[{\"id\":\"1249\"}],\"tags\":[\"hv_created\"],\"tooltips\":[[\"Symbol\",\"@{Symbol}\"],[\"Market Cap\",\"@{Market_Cap}\"]]},\"id\":\"1213\",\"type\":\"HoverTool\"},{\"attributes\":{\"bottom_units\":\"screen\",\"fill_alpha\":0.5,\"fill_color\":\"lightgrey\",\"left_units\":\"screen\",\"level\":\"overlay\",\"line_alpha\":1.0,\"line_color\":\"black\",\"line_dash\":[4,4],\"line_width\":2,\"right_units\":\"screen\",\"top_units\":\"screen\"},\"id\":\"1235\",\"type\":\"BoxAnnotation\"},{\"attributes\":{\"fill_alpha\":{\"value\":0.1},\"fill_color\":{\"value\":\"#1f77b3\"},\"line_alpha\":{\"value\":0.1},\"top\":{\"field\":\"Market_Cap\"},\"width\":{\"value\":0.8},\"x\":{\"field\":\"Symbol\"}},\"id\":\"1247\",\"type\":\"VBar\"},{\"attributes\":{\"source\":{\"id\":\"1243\"}},\"id\":\"1250\",\"type\":\"CDSView\"},{\"attributes\":{\"end\":869608283227.1,\"reset_end\":869608283227.1,\"reset_start\":0.0,\"tags\":[[[\"Market Cap\",\"Market Cap\",null]]]},\"id\":\"1212\",\"type\":\"Range1d\"},{\"attributes\":{\"active_drag\":\"auto\",\"active_inspect\":\"auto\",\"active_multi\":null,\"active_scroll\":\"auto\",\"active_tap\":\"auto\",\"tools\":[{\"id\":\"1213\"},{\"id\":\"1230\"},{\"id\":\"1231\"},{\"id\":\"1232\"},{\"id\":\"1233\"},{\"id\":\"1234\"}]},\"id\":\"1236\",\"type\":\"Toolbar\"},{\"attributes\":{\"fill_color\":{\"value\":\"#1f77b3\"},\"top\":{\"field\":\"Market_Cap\"},\"width\":{\"value\":0.8},\"x\":{\"field\":\"Symbol\"}},\"id\":\"1246\",\"type\":\"VBar\"},{\"attributes\":{},\"id\":\"1230\",\"type\":\"SaveTool\"},{\"attributes\":{},\"id\":\"1231\",\"type\":\"PanTool\"},{\"attributes\":{},\"id\":\"1253\",\"type\":\"BasicTickFormatter\"},{\"attributes\":{},\"id\":\"1232\",\"type\":\"WheelZoomTool\"},{\"attributes\":{\"below\":[{\"id\":\"1223\"}],\"center\":[{\"id\":\"1225\"},{\"id\":\"1229\"}],\"left\":[{\"id\":\"1226\"}],\"margin\":[5,5,5,5],\"min_border_bottom\":10,\"min_border_left\":10,\"min_border_right\":10,\"min_border_top\":10,\"plot_height\":300,\"plot_width\":700,\"renderers\":[{\"id\":\"1249\"}],\"sizing_mode\":\"fixed\",\"title\":{\"id\":\"1215\"},\"toolbar\":{\"id\":\"1236\"},\"x_range\":{\"id\":\"1211\"},\"x_scale\":{\"id\":\"1219\"},\"y_range\":{\"id\":\"1212\"},\"y_scale\":{\"id\":\"1221\"}},\"id\":\"1214\",\"subtype\":\"Figure\",\"type\":\"Plot\"},{\"attributes\":{\"overlay\":{\"id\":\"1235\"}},\"id\":\"1233\",\"type\":\"BoxZoomTool\"},{\"attributes\":{\"factors\":[\"AAPL\",\"GOOGL\",\"GOOG\",\"MSFT\",\"AMZN\",\"FB\",\"JPM\",\"JNJ\",\"XOM\",\"BAC\",\"WMT\",\"WFC\",\"V\",\"BRK.B\",\"T\",\"HD\",\"CVX\",\"UNH\",\"INTC\",\"PFE\"],\"tags\":[[[\"Symbol\",\"Symbol\",null]]]},\"id\":\"1211\",\"type\":\"FactorRange\"},{\"attributes\":{},\"id\":\"1219\",\"type\":\"CategoricalScale\"},{\"attributes\":{\"fill_alpha\":{\"value\":0.2},\"fill_color\":{\"value\":\"#1f77b3\"},\"line_alpha\":{\"value\":0.2},\"top\":{\"field\":\"Market_Cap\"},\"width\":{\"value\":0.8},\"x\":{\"field\":\"Symbol\"}},\"id\":\"1248\",\"type\":\"VBar\"},{\"attributes\":{\"margin\":[5,5,5,5],\"name\":\"HSpacer01889\",\"sizing_mode\":\"stretch_width\"},\"id\":\"1271\",\"type\":\"Spacer\"},{\"attributes\":{\"axis_label\":\"Symbol\",\"bounds\":\"auto\",\"formatter\":{\"id\":\"1251\"},\"major_label_orientation\":\"horizontal\",\"ticker\":{\"id\":\"1224\"}},\"id\":\"1223\",\"type\":\"CategoricalAxis\"},{\"attributes\":{},\"id\":\"1260\",\"type\":\"UnionRenderers\"},{\"attributes\":{},\"id\":\"1244\",\"type\":\"Selection\"},{\"attributes\":{},\"id\":\"1234\",\"type\":\"ResetTool\"},{\"attributes\":{},\"id\":\"1221\",\"type\":\"LinearScale\"},{\"attributes\":{\"children\":[{\"id\":\"1210\"},{\"id\":\"1214\"},{\"id\":\"1271\"}],\"margin\":[0,0,0,0],\"name\":\"Row01884\",\"tags\":[\"embedded\"]},\"id\":\"1209\",\"type\":\"Row\"},{\"attributes\":{\"text\":\"Top 20 Market Cap Companies (in billions)\",\"text_color\":{\"value\":\"black\"},\"text_font_size\":{\"value\":\"12pt\"}},\"id\":\"1215\",\"type\":\"Title\"},{\"attributes\":{\"axis\":{\"id\":\"1223\"},\"grid_line_color\":null,\"ticker\":null},\"id\":\"1225\",\"type\":\"Grid\"},{\"attributes\":{\"margin\":[5,5,5,5],\"name\":\"HSpacer01888\",\"sizing_mode\":\"stretch_width\"},\"id\":\"1210\",\"type\":\"Spacer\"},{\"attributes\":{\"axis_label\":\"Market Cap\",\"bounds\":\"auto\",\"formatter\":{\"id\":\"1253\"},\"major_label_orientation\":\"horizontal\",\"ticker\":{\"id\":\"1227\"}},\"id\":\"1226\",\"type\":\"LinearAxis\"},{\"attributes\":{\"data\":{\"Market_Cap\":[809508034020,733823966137,728535558140,689978437468,685873374731,523423036576,386613611000,353062464971,326148660000,321478200969,304680931618,281463620775,270038723213,261401203633,226713270000,223378633329,218978820159,218834811333,211536000000,208505541949],\"Symbol\":[\"AAPL\",\"GOOGL\",\"GOOG\",\"MSFT\",\"AMZN\",\"FB\",\"JPM\",\"JNJ\",\"XOM\",\"BAC\",\"WMT\",\"WFC\",\"V\",\"BRK.B\",\"T\",\"HD\",\"CVX\",\"UNH\",\"INTC\",\"PFE\"]},\"selected\":{\"id\":\"1244\"},\"selection_policy\":{\"id\":\"1260\"}},\"id\":\"1243\",\"type\":\"ColumnDataSource\"}],\"root_ids\":[\"1209\"]},\"title\":\"Bokeh Application\",\"version\":\"2.2.3\"}};\n",
       "    var render_items = [{\"docid\":\"de732603-5650-445f-ac37-99fd8df04214\",\"root_ids\":[\"1209\"],\"roots\":{\"1209\":\"ceebfd6e-0035-45a9-8ed8-9bb499719ce3\"}}];\n",
       "    root.Bokeh.embed.embed_items_notebook(docs_json, render_items);\n",
       "  }\n",
       "  if (root.Bokeh !== undefined && root.Bokeh.Panel !== undefined) {\n",
       "    embed_document(root);\n",
       "  } else {\n",
       "    var attempts = 0;\n",
       "    var timer = setInterval(function(root) {\n",
       "      if (root.Bokeh !== undefined && root.Bokeh.Panel !== undefined) {\n",
       "        clearInterval(timer);\n",
       "        embed_document(root);\n",
       "      } else if (document.readyState == \"complete\") {\n",
       "        attempts++;\n",
       "        if (attempts > 100) {\n",
       "          clearInterval(timer);\n",
       "          console.log(\"Bokeh: ERROR: Unable to run BokehJS code because BokehJS library is missing\");\n",
       "        }\n",
       "      }\n",
       "    }, 10, root)\n",
       "  }\n",
       "})(window);</script>"
      ],
      "text/plain": [
       ":Bars   [Symbol]   (Market Cap)"
      ]
     },
     "execution_count": 7,
     "metadata": {
      "application/vnd.holoviews_exec.v0+json": {
       "id": "1209"
      }
     },
     "output_type": "execute_result"
    }
   ],
   "source": [
    "# Use the top_20_market_cap DataFrame to plot a hvplot bar chart\n",
    "# YOUR CODE HERE\n"
   ]
  },
  {
   "cell_type": "markdown",
   "metadata": {},
   "source": [
    "### 4. Create Scatter Plots Using hvplot"
   ]
  },
  {
   "cell_type": "code",
   "execution_count": 8,
   "metadata": {},
   "outputs": [
    {
     "data": {
      "application/vnd.holoviews_exec.v0+json": "",
      "text/html": [
       "<div id='1313'>\n",
       "\n",
       "\n",
       "\n",
       "\n",
       "\n",
       "  <div class=\"bk-root\" id=\"5faa7bcc-010d-4b4b-add0-becc48fc3cfe\" data-root-id=\"1313\"></div>\n",
       "</div>\n",
       "<script type=\"application/javascript\">(function(root) {\n",
       "  function embed_document(root) {\n",
       "    var docs_json = {\"20e697c8-45d6-407d-be45-26a438964179\":{\"roots\":{\"references\":[{\"attributes\":{\"below\":[{\"id\":\"1327\"}],\"center\":[{\"id\":\"1330\"},{\"id\":\"1334\"}],\"left\":[{\"id\":\"1331\"}],\"margin\":[5,5,5,5],\"min_border_bottom\":10,\"min_border_left\":10,\"min_border_right\":10,\"min_border_top\":10,\"plot_height\":300,\"plot_width\":700,\"renderers\":[{\"id\":\"1354\"}],\"sizing_mode\":\"fixed\",\"title\":{\"id\":\"1319\"},\"toolbar\":{\"id\":\"1341\"},\"x_range\":{\"id\":\"1315\"},\"x_scale\":{\"id\":\"1323\"},\"y_range\":{\"id\":\"1316\"},\"y_scale\":{\"id\":\"1325\"}},\"id\":\"1318\",\"subtype\":\"Figure\",\"type\":\"Plot\"},{\"attributes\":{},\"id\":\"1337\",\"type\":\"WheelZoomTool\"},{\"attributes\":{\"axis\":{\"id\":\"1331\"},\"dimension\":1,\"grid_line_color\":null,\"ticker\":null},\"id\":\"1334\",\"type\":\"Grid\"},{\"attributes\":{\"overlay\":{\"id\":\"1340\"}},\"id\":\"1338\",\"type\":\"BoxZoomTool\"},{\"attributes\":{},\"id\":\"1323\",\"type\":\"LinearScale\"},{\"attributes\":{\"children\":[{\"id\":\"1314\"},{\"id\":\"1318\"},{\"id\":\"1376\"}],\"margin\":[0,0,0,0],\"name\":\"Row02047\",\"tags\":[\"embedded\"]},\"id\":\"1313\",\"type\":\"Row\"},{\"attributes\":{\"axis_label\":\"Earnings/Share\",\"bounds\":\"auto\",\"formatter\":{\"id\":\"1356\"},\"major_label_orientation\":\"horizontal\",\"ticker\":{\"id\":\"1328\"}},\"id\":\"1327\",\"type\":\"LinearAxis\"},{\"attributes\":{},\"id\":\"1339\",\"type\":\"ResetTool\"},{\"attributes\":{},\"id\":\"1325\",\"type\":\"LinearScale\"},{\"attributes\":{\"fill_color\":{\"value\":\"#1f77b3\"},\"line_color\":{\"value\":\"#1f77b3\"},\"size\":{\"units\":\"screen\",\"value\":5.477225575051661},\"x\":{\"field\":\"Earnings/Share\"},\"y\":{\"field\":\"Price\"}},\"id\":\"1351\",\"type\":\"Scatter\"},{\"attributes\":{\"text\":\"Top 20 Market Cap Companies (in billions) - EPS versus Price\",\"text_color\":{\"value\":\"black\"},\"text_font_size\":{\"value\":\"12pt\"}},\"id\":\"1319\",\"type\":\"Title\"},{\"attributes\":{\"margin\":[5,5,5,5],\"name\":\"HSpacer02051\",\"sizing_mode\":\"stretch_width\"},\"id\":\"1314\",\"type\":\"Spacer\"},{\"attributes\":{},\"id\":\"1365\",\"type\":\"UnionRenderers\"},{\"attributes\":{},\"id\":\"1328\",\"type\":\"BasicTicker\"},{\"attributes\":{\"axis\":{\"id\":\"1327\"},\"grid_line_color\":null,\"ticker\":null},\"id\":\"1330\",\"type\":\"Grid\"},{\"attributes\":{\"data\":{\"Earnings/Share\":{\"__ndarray__\":\"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\",\"dtype\":\"float64\",\"order\":\"little\",\"shape\":[505]},\"Earnings_over_Share\":{\"__ndarray__\":\"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\",\"dtype\":\"float64\",\"order\":\"little\",\"shape\":[505]},\"Price\":{\"__ndarray__\":\"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\",\"dtype\":\"float64\",\"order\":\"little\",\"shape\":[505]}},\"selected\":{\"id\":\"1349\"},\"selection_policy\":{\"id\":\"1365\"}},\"id\":\"1348\",\"type\":\"ColumnDataSource\"},{\"attributes\":{},\"id\":\"1356\",\"type\":\"BasicTickFormatter\"},{\"attributes\":{},\"id\":\"1332\",\"type\":\"BasicTicker\"},{\"attributes\":{\"axis_label\":\"Price\",\"bounds\":\"auto\",\"formatter\":{\"id\":\"1358\"},\"major_label_orientation\":\"horizontal\",\"ticker\":{\"id\":\"1332\"}},\"id\":\"1331\",\"type\":\"LinearAxis\"},{\"attributes\":{\"data_source\":{\"id\":\"1348\"},\"glyph\":{\"id\":\"1351\"},\"hover_glyph\":null,\"muted_glyph\":{\"id\":\"1353\"},\"nonselection_glyph\":{\"id\":\"1352\"},\"selection_glyph\":null,\"view\":{\"id\":\"1355\"}},\"id\":\"1354\",\"type\":\"GlyphRenderer\"},{\"attributes\":{\"end\":47.18000000000001,\"reset_end\":47.18000000000001,\"reset_start\":-31.1,\"start\":-31.1,\"tags\":[[[\"Earnings/Share\",\"Earnings/Share\",null]]]},\"id\":\"1315\",\"type\":\"Range1d\"},{\"attributes\":{\"end\":1986.384,\"reset_end\":1986.384,\"reset_start\":-177.50400000000002,\"start\":-177.50400000000002,\"tags\":[[[\"Price\",\"Price\",null]]]},\"id\":\"1316\",\"type\":\"Range1d\"},{\"attributes\":{\"bottom_units\":\"screen\",\"fill_alpha\":0.5,\"fill_color\":\"lightgrey\",\"left_units\":\"screen\",\"level\":\"overlay\",\"line_alpha\":1.0,\"line_color\":\"black\",\"line_dash\":[4,4],\"line_width\":2,\"right_units\":\"screen\",\"top_units\":\"screen\"},\"id\":\"1340\",\"type\":\"BoxAnnotation\"},{\"attributes\":{\"source\":{\"id\":\"1348\"}},\"id\":\"1355\",\"type\":\"CDSView\"},{\"attributes\":{},\"id\":\"1349\",\"type\":\"Selection\"},{\"attributes\":{},\"id\":\"1358\",\"type\":\"BasicTickFormatter\"},{\"attributes\":{\"callback\":null,\"renderers\":[{\"id\":\"1354\"}],\"tags\":[\"hv_created\"],\"tooltips\":[[\"Earnings/Share\",\"@{Earnings_over_Share}\"],[\"Price\",\"@{Price}\"]]},\"id\":\"1317\",\"type\":\"HoverTool\"},{\"attributes\":{\"margin\":[5,5,5,5],\"name\":\"HSpacer02052\",\"sizing_mode\":\"stretch_width\"},\"id\":\"1376\",\"type\":\"Spacer\"},{\"attributes\":{\"active_drag\":\"auto\",\"active_inspect\":\"auto\",\"active_multi\":null,\"active_scroll\":\"auto\",\"active_tap\":\"auto\",\"tools\":[{\"id\":\"1317\"},{\"id\":\"1335\"},{\"id\":\"1336\"},{\"id\":\"1337\"},{\"id\":\"1338\"},{\"id\":\"1339\"}]},\"id\":\"1341\",\"type\":\"Toolbar\"},{\"attributes\":{\"fill_alpha\":{\"value\":0.2},\"fill_color\":{\"value\":\"#1f77b3\"},\"line_alpha\":{\"value\":0.2},\"line_color\":{\"value\":\"#1f77b3\"},\"size\":{\"units\":\"screen\",\"value\":5.477225575051661},\"x\":{\"field\":\"Earnings/Share\"},\"y\":{\"field\":\"Price\"}},\"id\":\"1353\",\"type\":\"Scatter\"},{\"attributes\":{},\"id\":\"1335\",\"type\":\"SaveTool\"},{\"attributes\":{\"fill_alpha\":{\"value\":0.1},\"fill_color\":{\"value\":\"#1f77b3\"},\"line_alpha\":{\"value\":0.1},\"line_color\":{\"value\":\"#1f77b3\"},\"size\":{\"units\":\"screen\",\"value\":5.477225575051661},\"x\":{\"field\":\"Earnings/Share\"},\"y\":{\"field\":\"Price\"}},\"id\":\"1352\",\"type\":\"Scatter\"},{\"attributes\":{},\"id\":\"1336\",\"type\":\"PanTool\"}],\"root_ids\":[\"1313\"]},\"title\":\"Bokeh Application\",\"version\":\"2.2.3\"}};\n",
       "    var render_items = [{\"docid\":\"20e697c8-45d6-407d-be45-26a438964179\",\"root_ids\":[\"1313\"],\"roots\":{\"1313\":\"5faa7bcc-010d-4b4b-add0-becc48fc3cfe\"}}];\n",
       "    root.Bokeh.embed.embed_items_notebook(docs_json, render_items);\n",
       "  }\n",
       "  if (root.Bokeh !== undefined && root.Bokeh.Panel !== undefined) {\n",
       "    embed_document(root);\n",
       "  } else {\n",
       "    var attempts = 0;\n",
       "    var timer = setInterval(function(root) {\n",
       "      if (root.Bokeh !== undefined && root.Bokeh.Panel !== undefined) {\n",
       "        clearInterval(timer);\n",
       "        embed_document(root);\n",
       "      } else if (document.readyState == \"complete\") {\n",
       "        attempts++;\n",
       "        if (attempts > 100) {\n",
       "          clearInterval(timer);\n",
       "          console.log(\"Bokeh: ERROR: Unable to run BokehJS code because BokehJS library is missing\");\n",
       "        }\n",
       "      }\n",
       "    }, 10, root)\n",
       "  }\n",
       "})(window);</script>"
      ],
      "text/plain": [
       ":Scatter   [Earnings/Share]   (Price)"
      ]
     },
     "execution_count": 8,
     "metadata": {
      "application/vnd.holoviews_exec.v0+json": {
       "id": "1313"
      }
     },
     "output_type": "execute_result"
    }
   ],
   "source": [
    "# Use the sp500_companies_csv DataFrame to plot a scatter plot displaying the relationship between price vs. earnings/share\n",
    "# YOUR CODE HERE\n"
   ]
  },
  {
   "cell_type": "code",
   "execution_count": 9,
   "metadata": {},
   "outputs": [
    {
     "data": {
      "application/vnd.holoviews_exec.v0+json": "",
      "text/html": [
       "<div id='1418'>\n",
       "\n",
       "\n",
       "\n",
       "\n",
       "\n",
       "  <div class=\"bk-root\" id=\"78f1ad11-8cef-4ab7-9239-c405011fb23c\" data-root-id=\"1418\"></div>\n",
       "</div>\n",
       "<script type=\"application/javascript\">(function(root) {\n",
       "  function embed_document(root) {\n",
       "    var docs_json = {\"2fd4421a-e212-41a8-bacc-44092f193926\":{\"roots\":{\"references\":[{\"attributes\":{},\"id\":\"1441\",\"type\":\"PanTool\"},{\"attributes\":{},\"id\":\"1461\",\"type\":\"BasicTickFormatter\"},{\"attributes\":{},\"id\":\"1470\",\"type\":\"UnionRenderers\"},{\"attributes\":{\"fill_alpha\":{\"value\":0.1},\"fill_color\":{\"value\":\"#1f77b3\"},\"line_alpha\":{\"value\":0.1},\"line_color\":{\"value\":\"#1f77b3\"},\"size\":{\"units\":\"screen\",\"value\":5.477225575051661},\"x\":{\"field\":\"Earnings/Share\"},\"y\":{\"field\":\"Price\"}},\"id\":\"1457\",\"type\":\"Scatter\"},{\"attributes\":{\"below\":[{\"id\":\"1432\"}],\"center\":[{\"id\":\"1435\"},{\"id\":\"1439\"}],\"left\":[{\"id\":\"1436\"}],\"margin\":[5,5,5,5],\"min_border_bottom\":10,\"min_border_left\":10,\"min_border_right\":10,\"min_border_top\":10,\"plot_height\":300,\"plot_width\":700,\"renderers\":[{\"id\":\"1459\"}],\"sizing_mode\":\"fixed\",\"title\":{\"id\":\"1424\"},\"toolbar\":{\"id\":\"1446\"},\"x_range\":{\"id\":\"1420\"},\"x_scale\":{\"id\":\"1428\"},\"y_range\":{\"id\":\"1421\"},\"y_scale\":{\"id\":\"1430\"}},\"id\":\"1423\",\"subtype\":\"Figure\",\"type\":\"Plot\"},{\"attributes\":{\"data\":{\"Earnings/Share\":{\"__ndarray__\":\"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\",\"dtype\":\"float64\",\"order\":\"little\",\"shape\":[505]},\"Earnings_over_Share\":{\"__ndarray__\":\"rkfhehSuH0AzMzMzMzP7P6RwPQrXo9A/UrgehetRCkDD9Shcj8IVQHsUrkfhevQ/uB6F61G4HUAfhetRuB4LQMP1KFyPwhhAuB6F61G4nj+F61G4HoX7vwAAAAAAABdApHA9CtcjKECF61G4HgUmQM3MzMzMzABAUrgehetRK0CkcD0K16P8P4/C9ShcjyBApHA9CtejFkAfhetRuB75P1K4HoXrUfw/uB6F61G4BkD2KFyPwvUCQM3MzMzMLENAw/UoXI9CLEBmZmZmZmb6P7gehetRuBJAhetRuB5FNkCF61G4HkU2QD0K16NwPRVApHA9CtejGEBxPQrXo3AFQEjhehSuRw9A16NwPQrX8z8zMzMzMzMHQFK4HoXrUei/hetRuB6F/z8K16NwPQoFQOF6FK5H4SJAPQrXo3A9+j+F61G4HoUHQI/C9ShcjwRAZmZmZmZmAECamZmZmZkXwOF6FK5H4QBAhetRuB6FGEDsUbgehesHQLgehetRuCxApHA9CtejEkDD9Shcj8INwDMzMzMzM/8/ZmZmZmZmIkBcj8L1KFwJQDMzMzMzMxRAXI/C9ShcAUDhehSuR+HKv1K4HoXrUQRAKVyPwvUoIkAK16NwPQoTQOF6FK5H4QTAzczMzMzMDkDsUbgehQtGQHE9CtejcBlA4XoUrkfhCEDXo3A9CtfTvzMzMzMzM+s/zczMzMzM+D+kcD0K16P0P+xRuB6F6wVAmpmZmZmZEkCF61G4HoUjQHsUrkfheg5A4XoUrkfhJ0DNzMzMzEw+QLgehetRuP4/cT0K16PwKkCamZmZmZnhP3E9CtejcAdA7FG4HoXrsT8fhetRuJ44wDMzMzMzMwVACtejcD0KEEAzMzMzMzP7P4/C9ShcjwxAmpmZmZmZ/T9xPQrXo3Dtv65H4XoUruc/H4XrUbgeB0CamZmZmZkLQClcj8L1KBBAw/UoXI/CD0CkcD0K16MMQClcj8L1KPQ/KVyPwvUoAkAK16NwPQr7P3sUrkfhegZApHA9CtejDEDXo3A9CtcJQAAAAAAAAPA/j8L1KFyP8j9xPQrXo3D9PzMzMzMzM/O/w/UoXI/C+T8K16NwPQpBQMP1KFyPwhnAZmZmZmZmE0CamZmZmZnpP2ZmZmZmZiBAXI/C9ShcB0DNzMzMzMwcQI/C9ShcjxLAZmZmZmZmDECF61G4HoURQI/C9Shcj/4/zczMzMzMCMApXI/C9SgKQLgehetRuM6/4XoUrkfhJ0DXo3A9Ctf/P9ejcD0K1/c/UrgehetRBEA9CtejcD0CQPYoXI/C9RJAhetRuB6FEEBcj8L1KFz3PxSuR+F6FCbAzczMzMzM5L9mZmZmZmYQQOxRuB6FayFA9ihcj8L16L9cj8L1KFwYQClcj8L1KOS/UrgehetR8D9I4XoUrkf9P0jhehSuRxhA9ihcj8J1IECkcD0K16MTQNejcD0K1wVAPQrXo3A9DEB7FK5H4XoOQDMzMzMzMxFAj8L1KFyPGkDD9Shcj8ITQNejcD0K1/8/j8L1KFyPG8CF61G4HoUBQKRwPQrXoxVAXI/C9Shc/z9cj8L1KFz/P3sUrkfheghAuB6F61G4EUApXI/C9SgOQKRwPQrXoxNAmpmZmZmZFEBxPQrXo3D5Pylcj8L1KBJASOF6FK5HE0D2KFyPwvUIQClcj8L1KOw/exSuR+F67L8zMzMzMzMBQD0K16NwPSRAuB6F61G4GkAfhetRuB7xv4/C9ShcjxBArkfhehSuD0AK16NwPQoHQI/C9ShcjwhAzczMzMzMAkAUrkfhehQKwLgehetRuN6/rkfhehSu/7+F61G4HoUFwClcj8L1KBBAUrgehetR/D8UrkfhehT6PxSuR+F6FBlAzczMzMzMCkD2KFyPwrU3QK5H4XoUrgdArkfhehSu8z/2KFyPwvX8P+F6FK5H4QJAj8L1KFyPFUBcj8L1KFwHQBSuR+F6FP4/CtejcD0KGkCPwvUoXI8VQBSuR+F6FABAAAAAAAAADECkcD0K1yMmQIXrUbgehfs/zczMzMzMBkB7FK5H4foswI/C9ShcjxBAXI/C9Shc8z/sUbgehevxP9ejcD0K1/8/9ihcj8L1+D+kcD0K16MTQGZmZmZmZv4/rkfhehSuA0BSuB6F61EIQAAAAAAAAAhA16NwPQrX8z8K16NwPQr7P4XrUbgehQVAexSuR+F6AkCamZmZmRkjQArXo3A9Cue/cT0K16Nw9T8pXI/C9SgGQAAAAAAAABhAZmZmZmZmEkBmZmZmZuYjQEjhehSuR/k/uB6F61E4IUD2KFyPwvUSQArXo3A9CiRA9ihcj8L14L+PwvUoXI/2P9ejcD0K1wdAuB6F61G4EUApXI/C9SgCQFyPwvUoXBFAw/UoXI/CF0BI4XoUrkf1PzMzMzMzM/O/zczMzMzMCEBxPQrXo/AzwOF6FK5H4co/zczMzMzM8D8fhetRuB4FQNejcD0K1xlApHA9CtejAEAfhetRuB75P1K4HoXrUfA/16NwPQrX9z89CtejcD0QQAAAAAAAAPA/zczMzMxMKECF61G4HoUHQAAAAAAAAPA/cT0K16NwE0CuR+F6FK4TQEjhehSuR+E/SOF6FK5HFECuR+F6FK7/P/YoXI/C9QJAcT0K16NwGECPwvUoXI8UQNejcD0K1/c/MzMzMzMzFEDD9Shcj8INQK5H4XoUrhZA7FG4HoXrBUBSuB6F61HoP3E9CtejcN0/w/UoXI/CGEBxPQrXo3ADQGZmZmZmZhRA9ihcj8L12D9cj8L1KFz7PzMzMzMzMxlA9ihcj8L16D9SuB6F61EiQDMzMzMzM/8/7FG4HoXr8T+kcD0K16MZQJqZmZmZmek/exSuR+F6hD+F61G4HoUXQPYoXI/C9QhAexSuR+F6BkBmZmZmZmYAQNejcD0K1w9AhetRuB4FIUAUrkfhehQcQHE9CtejcCJAFK5H4XoUBkAK16NwPQoLQB+F61G4HtU/mpmZmZmZyb97FK5H4XoiQAAAAAAAAPg/UrgehetRG0DhehSuR+H+P65H4XoUrgtAAAAAAACAKEDhehSuR2EhQHE9CtejcAtArkfhehSu/z8zMzMzMzMFwGZmZmZmZhtAXI/C9ShcBUD2KFyPwvUGQIXrUbgehRpAhetRuB6F9z8zMzMzMzMNQHsUrkfhegjA16NwPQrXDUBxPQrXo3AZQD0K16NwvTZAH4XrUbgeB0BmZmZmZmb2Pylcj8L1KOQ/exSuR+F6LEC4HoXrUbj+P3sUrkfhegpAH4XrUbge5T9xPQrXo3ARQMP1KFyPwgdA4XoUrkfhBkD2KFyPwvUoQArXo3A9iiJAj8L1KFyP/j9cj8L1KFwUQArXo3A9CvM/mpmZmZmZ9T+4HoXrUbgIQEjhehSuR/G/w/UoXI/C7T9I4XoUrkcRQJqZmZmZmRnAKVyPwvUo8D/2KFyPwvX8PwAAAAAAAPQ/uB6F61G48j8AAAAAAAAawOF6FK5H4fK/exSuR+F69L97FK5H4Xr0v0jhehSuxyZAPQrXo3A99j8UrkfhehQEQFK4HoXrUfA/j8L1KFyPAsApXI/C9SgAQHsUrkfhujJArkfhehSuE0BxPQrXo/AmQD0K16NwPQZA16NwPQrXAcBmZmZmZmYQQI/C9ShcjwRA9ihcj8J1JUAAAAAAAADovylcj8L1KBNAj8L1KFyP+j+amZmZmZkBQAAAAAAAABNASOF6FK5HHED2KFyPwvUcQKRwPQrXo/w/FK5H4XoUAkCF61G4HoX3PwrXo3A9Cg1ACtejcD0K7z9xPQrXo3ARQB+F61G4HgVAw/UoXI8CPMAUrkfhehQMQD0K16NwPQZA7FG4HoXrEUBcj8L1KNwjQJqZmZmZmQ9AH4XrUbgeC8DNzMzMzMwkQArXo3A9CvO/PQrXo3A9GUBSuB6F61EGQEjhehSuRxFAFK5H4XpURUAAAAAAAAASQGZmZmZmZhZA16NwPQrXBUB7FK5H4XoIQPYoXI/CdSNAAAAAAAAA/D89CtejcD0bQArXo3A9Cvc/FK5H4XoUG0CkcD0K16PAv2ZmZmZmZvo/exSuR+F69D8AAAAAAAAWQFK4HoXrUQbAexSuR+F6EEDNzMzMzMwbQOxRuB6F6/E/4XoUrkfh+j/hehSuR+H2P/YoXI/C9R5AAAAAAAAA8D9SuB6F61H8P0jhehSuRwNAj8L1KFyPAkBmZmZmZmYZQDMzMzMzMxNAw/UoXI/CIkCkcD0K16MGQB+F61G4Hh5AzczMzMzMH0BI4XoUrkfRP9ejcD0K1+M/pHA9CtejEEBI4XoUrkfxv7gehetRuBRApHA9CtejBECuR+F6FK4DQM3MzMzMzBVAXI/C9SicMkAfhetRuB4cQAAAAAAAABlApHA9CtejFUApXI/C9SjsP2ZmZmZmZiJAPQrXo3A9BEBI4XoUrkcXQJqZmZmZGSBAhetRuB6F/z/sUbgehesUQKRwPQrXowBAcT0K16NwBUDsUbgehesRQMP1KFyPwsW/SOF6FK5HA0DXo3A9CtfrP6RwPQrXowBAAAAAAAAAE0C4HoXrUbgAQNejcD0K1xJA16NwPQrXEkAAAAAAAAAAAM3MzMzMzAxAPQrXo3A98j/Xo3A9CtcNQFK4HoXrURVAFK5H4XoUHkBI4XoUrkcNQDMzMzMzM+s/PQrXo3A9HUDNzMzMzMwWQGZmZmZmZhZAZmZmZmZmDEB7FK5H4XoaQK5H4XoUrgtAAAAAAAAAEkBI4XoUrkcJQGZmZmZmZgpArkfhehSuH0DsUbgehevpP3E9CtejcPk/cT0K16Nw+T8pXI/C9SgTQClcj8L1KAxASOF6FK5H8T8UrkfhehQaQM3MzMzMzNw/zczMzMzM3D8K16NwPQorQDMzMzMzMxxA7FG4HoVrJUB7FK5H4XoWQHE9CtejcC9AzczMzMzMFkCPwvUoXI8cQIXrUbgehRFAZmZmZmZmBEB7FK5H4XoiQIXrUbgehQVAw/UoXI/C/T9xPQrXo3ALQJqZmZmZmQtAcT0K16NwHUCkcD0K16PwP7gehetRuBJAZmZmZmZmBkBSuB6F61ERQM3MzMzMzAhAj8L1KFyPEUA9CtejcD0OQEjhehSuRwVAUrgehetRyD9SuB6F61EOQEjhehSuRxBAexSuR+F6BkCkcD0K16P0P1K4HoXrUeA/KVyPwvUoBkCkcD0K16PoPwrXo3A9ChJAPQrXo3A94r+PwvUoXI8IQB+F61G4HhZAFK5H4XoUHUCuR+F6FK4BQOF6FK5H4eI/j8L1KFyPAkDsUbgehesBwEjhehSuR/0/SOF6FK5HEECF61G4HgUiQM3MzMzMzARAZmZmZmZm+j8=\",\"dtype\":\"float64\",\"order\":\"little\",\"shape\":[505]},\"Price\":{\"__ndarray__\":\"FK5H4Xrca0AfhetRuB5OQMP1KFyPIkxAH4XrUbgeW0C4HoXrUdBiQIXrUbgedVBAhetRuB4tYkCF61G4HiVnQLgehetRaFtAcT0K16NwJkAfhetRuB4kQAAAAAAAQGZA7FG4HoVjZkAAAAAAANBUQDMzMzMzQ1BAmpmZmZkZY0AfhetRuD5PQMP1KFyPAlBA7FG4HoVLWkCF61G4HqVcQK5H4XoUHltAH4XrUbiWa0AUrkfhelRTQGZmZmZmhmRAMzMzMzMTbkBSuB6F65FCQKRwPQrXg1ZASOF6FK59j0Bcj8L1KEyPQDMzMzMzA1BAAAAAAAAalUDsUbgehUtKQM3MzMzMTEhAcT0K16OwT0D2KFyPwhVWQKRwPQrXI01ACtejcD2yYECkcD0K1wNTQAAAAAAAEGNAMzMzMzPjVkAzMzMzMwNSQKRwPQrXo2VAXI/C9SgcVUCamZmZmRlMQOxRuB6Fq1RAmpmZmZk5WEB7FK5H4ZpiQArXo3A90mxAmpmZmZkBYUA9CtejcN1CQHsUrkfhGkNAzczMzMxkY0AAAAAAAOBGQOF6FK5HUVZAzczMzMysREAzMzMzM3M4QJqZmZmZGVBACtejcD1KVUApXI/C9chBQKRwPQrXM1pAAAAAAAAQW0DD9Shcj3SGQK5H4XoUXmNA4XoUrkexW0AAAAAAAIA7QLgehetROENAPQrXo3C9PUBI4XoUrkdPQClcj8L1iElArkfhehRuakA9CtejcO1nQMP1KFyPMlFAcT0K16N8c0CuR+F6FNZ/QHE9CtejMDlAw/UoXI+adEC4HoXrUfhJQPYoXI/CBVxAMzMzMzMzOUC4HoXrUbhLQLgehetRWE9ACtejcD2ybEAK16NwPapPQK5H4XoUnlZAFK5H4XpUQEDD9ShcjwI3QClcj8L1aEJACtejcD1qRkAzMzMzM/NWQLgehetRqFBA9ihcj8IVUEBxPQrXo7BQQEjhehSuP2JAmpmZmZnJW0D2KFyPwvVEQGZmZmZm5klA4XoUrkfBVkDXo3A9ChdZQJqZmZmZ2TlAMzMzMzMzMEBcj8L1KJxOQHsUrkfhukJAMzMzMzNzSEBmZmZmZsp1QI/C9ShcjwZAMzMzMzMTXEBcj8L1KKBwQBSuR+F6jGFAcT0K16OwR0BxPQrXo6hnQFyPwvUoDFlA9ihcj8KVUUAK16NwPapiQMP1KFyPYkNASOF6FK73UUC4HoXrURhFQFK4HoXrIVVA4XoUrkchY0DD9Shcj+JEQM3MzMzMjEVACtejcD3KUkDNzMzMzDxRQLgehetRGENA7FG4HoVLVkAfhetRuL5BQHsUrkfhgmFAH4XrUbieSkAfhetRuK5SQI/C9ShcF2pAMzMzMzNzPEDsUbgehVNmQPYoXI/C9TNApHA9CtfzWUCamZmZmdk+QFyPwvUoPElAj8L1KFy3ZEAzMzMzM6NRQGZmZmZmRkZACtejcD0KV0CF61G4HtVWQArXo3A9+lFAhetRuB41Y0A9CtejcJ1JQM3MzMzMbExAuB6F61F4QUA9CtejcL1YQJqZmZmZGVJAH4XrUbjeNkAUrkfhepQ1QMP1KFyP4kVAZmZmZmbGV0CF61G4HmVZQKRwPQrXU1JAzczMzMwMWEA9CtejcA1RQOxRuB6FO11Aj8L1KFyfWEAUrkfhepRSQIXrUbgehThAexSuR+H6VkA9CtejcD1IQBSuR+F6ZFdACtejcD3aU0DD9Shcj4JEQHE9Ctej8F9AKVyPwvUITUBSuB6F6/FeQMP1KFyPIl1AmpmZmZmZUEDhehSuRwFSQOxRuB6Fq0FAw/UoXI9CWUAAAAAAACBHQAAAAAAAgFxASOF6FK6feUDhehSuR6FLQClcj8L1SGtAH4XrUbhuYEBSuB6F6yFuQK5H4XoUDkxAPQrXo3D9QUBSuB6F68FeQK5H4XoULk5AZmZmZmZWUkCkcD0K12NTQBSuR+F6BFNAAAAAAAAoYUDD9Shcj3JlQDMzMzMzE0pA16NwPQoHW0BxPQrXo+htQI/C9ShcL1dAmpmZmZkZP0CkcD0K16M+QJqZmZmZoWBAexSuR+E6R0ApXI/C9WhEQEjhehSup0tASOF6FK43VEBxPQrXo/BGQFyPwvUo3CRAKVyPwvVIUUC4HoXrUThPQAAAAAAAAENAKVyPwvUoMUDsUbgehSs/QHE9CtejkE5AcT0K16OQXECamZmZmcFpQGZmZmZm5ixAH4XrUbieNUAfhetRuP5KQAAAAAAAYERApHA9CtcTWECuR+F6FI5TQPYoXI/CJVlAMzMzMzPLbkAAAAAAAMA+QJqZmZmZKXBAFK5H4Xq0R0BSuB6F65EzQIXrUbgexUdAexSuR+G6YkDsUbgehatKQB+F61G4HlhArkfhehT+V0CkcD0K16M2QEjhehSuN1BAZmZmZma2UUAAAAAAAIBFQBSuR+F6FC5ACtejcD2qU0BmZmZmZmZDQNejcD0Kp2ZAcT0K16NAYkB7FK5H4RpAQAAAAAAAwDJA7FG4HoXrM0BSuB6F62VwQDMzMzMzMy5ApHA9CtcrbEApXI/C9ShlQD0K16Nw3UVAzczMzMyEY0DhehSuRzFqQHsUrkfh+lRAZmZmZmbmVUAAAAAAAGBFQAAAAAAAwFBAexSuR+FyYkBmZmZmZgZMQNejcD0KVzVAAAAAAABAYUAAAAAAABhjQFK4HoXr3XdA7FG4HoXrP0AfhetRuM5XQClcj8L1CEBApHA9CtezXEApXI/C9WhPQEjhehSul11A16NwPQqXX0BmZmZmZkZCQLgehetR+FpAKVyPwvWoOEBSuB6F6+FZQB+F61G4flBAFK5H4XoUNEBcj8L1KOxbQIXrUbgeBSxAzczMzMzMMEDD9Shcj6JYQOxRuB6FK05AhetRuB7lUUBSuB6F65E7QMP1KFyP4kdA4XoUrkfZaEAfhetRuK5kQI/C9ShcR2RAH4XrUbj+RUCuR+F6FI5NQFyPwvUo3DdAPQrXo3CNUkDXo3A9CndSQK5H4XoUbkNAzczMzMzkdEBmZmZmZgZHQHE9CtejwFdAw/UoXI9yWkAzMzMzM0tmQK5H4XoULk1AAAAAAAAAOEBcj8L1KFwvQIXrUbgeZU9AXI/C9Si8YECkcD0K19NTQD0K16NwDWpAmpmZmZlZRECkcD0K1xNkQAAAAAAAADBA16NwPQpXWUDXo3A9Ct9jQI/C9Shcx2JAuB6F61GYU0A9CtejcF1LQKRwPQrXI0ZAAAAAAADIgkAAAAAAAMBAQKRwPQrXA05AmpmZmZn5U0AAAAAAAABEQHE9CtejQFVAKVyPwvVYVUCF61G4HglwQHE9CtejoFJA16NwPQpXRUCF61G4HsVdQB+F61G4/k5AFK5H4XoEY0CF61G4HuVJQI/C9Shcr1hAAAAAAACgQ0A9CtejcM1SQFK4HoXrUUBAw/UoXI/CKkDNzMzMzOxLQDMzMzMzQ29AKVyPwvXoO0DhehSuR2E6QK5H4XoUTkJAzczMzMxML0AzMzMzM7MvQOF6FK5HKWJAMzMzMzPzQEAfhetRuD5PQMP1KFyPgjZArkfhehRuOUA9CtejcJ1HQBSuR+F6HGFAzczMzMwMWEBcj8L1KEB0QOF6FK5HAUxAAAAAAAAAOEBxPQrXozBOQHE9CtejMGtA16NwPQqHb0CuR+F6FB5RQArXo3A9+lJAMzMzMzMzS0DsUbgehWtHQB+F61G4vlBAzczMzMz8W0C4HoXrUdBlQHE9CtejcEBArkfhehTuTkAUrkfhehRSQHsUrkfhqlBAj8L1KFyPMkCamZmZmYlbQKRwPQrXA1JAXI/C9SgcVUBxPQrXo9BAQB+F61G4HkNAKVyPwvUYWUBcj8L1KBxXQPYoXI/ClVJAhetRuB4lZUBcj8L1KKxiQBSuR+F6VFlAMzMzMzOTW0CF61G4HoU9QArXo3A9AmJACtejcD04nEBxPQrXozBOQK5H4XoUDlRAKVyPwvWISUAK16NwPSpNQLgehetR2FlAPQrXo3BdR0BI4XoUro9mQOxRuB6FqzxA9ihcj8LVYUBmZmZmZjZTQPYoXI/CNU9A4XoUrkfBQEB7FK5H4RpYQKRwPQrXoylApHA9CteDVUBI4XoUrtdoQEjhehSux0dAmpmZmZkpX0AK16NwPcpLQFK4HoXrKXRAZmZmZmbmMUBcj8L1KFxPQHE9CtejUFZA4XoUrkchSkCPwvUoXFdmQFK4HoXrqWBAZmZmZmY2cECkcD0K18NSQM3MzMzMnF5AUrgeheupZUBSuB6F6wFaQDMzMzMz+2NAzczMzMzMQUCamZmZmdlQQD0K16NwnVVAuB6F61G4R0CPwvUoXE9FQNejcD0K11lAZmZmZmY6eEBxPQrXo7BIQPYoXI/CBWNAw/UoXI/CWEDXo3A9CqdWQNejcD0Kl2NAMzMzMzOzRUBxPQrXo9BLQOxRuB6FG2NAw/UoXI/iSkDD9Shcj6JYQDMzMzMzo1FAuB6F61GAYkAzMzMzM3NQQNejcD0KlzlAPQrXo3B9QUBI4XoUrqdUQAAAAAAAgExAj8L1KFx/WUDNzMzMzGxIQNejcD0Kx1FA4XoUrkfRV0CamZmZmRk9QArXo3A9alhAhetRuB7FS0CF61G4HqVKQHE9Ctej8F9APQrXo3Dla0CamZmZmWlYQOF6FK5HIThAuB6F61HgYEBmZmZmZlZZQI/C9Shc12hASOF6FK7nWEDhehSuR0FXQNejcD0Kl1JA4XoUrkchVEB7FK5H4UpUQFyPwvUofFBAAAAAAACwcUBmZmZmZgZEQEjhehSuR0FA7FG4HoULQUB7FK5H4XpSQDMzMzMzU0pA9ihcj8J1QEB7FK5H4SJqQEjhehSuRypAZmZmZmbmJ0DXo3A9CjdfQI/C9Shcr09AH4XrUbgOa0BSuB6F61FbQEjhehSuP2RAH4XrUbjeX0BI4XoUrrdcQI/C9Shc70dAAAAAAACwU0DhehSuR7FVQBSuR+F6NFxA9ihcj8J1SUBI4XoUrmdaQFK4HoXrEVdAhetRuB6FSEAzMzMzM/NiQHsUrkfhWkBA16NwPQp3XEDsUbgehYtQQK5H4XoUXl5A4XoUrkcBWUCuR+F6FA5RQEjhehSux1NA4XoUrkf5Z0AAAAAAAMBNQDMzMzMzs0tA9ihcj8JVS0D2KFyPwgVUQI/C9ShczzJA16NwPQp3TkDNzMzMzMxAQGZmZmZmnmRAj8L1KFyPPEDsUbgehQtjQKRwPQrXY1xAKVyPwvUoZUC4HoXrUThFQM3MzMzMzD1AKVyPwvVoT0DhehSuR6FEQI/C9Shcj1FAMzMzMzMTU0BSuB6F6+FcQHsUrkfhWklAcT0K16PgUUA=\",\"dtype\":\"float64\",\"order\":\"little\",\"shape\":[505]}},\"selected\":{\"id\":\"1454\"},\"selection_policy\":{\"id\":\"1470\"}},\"id\":\"1453\",\"type\":\"ColumnDataSource\"},{\"attributes\":{},\"id\":\"1463\",\"type\":\"BasicTickFormatter\"},{\"attributes\":{},\"id\":\"1442\",\"type\":\"WheelZoomTool\"},{\"attributes\":{\"fill_alpha\":{\"value\":0.2},\"fill_color\":{\"value\":\"#1f77b3\"},\"line_alpha\":{\"value\":0.2},\"line_color\":{\"value\":\"#1f77b3\"},\"size\":{\"units\":\"screen\",\"value\":5.477225575051661},\"x\":{\"field\":\"Earnings/Share\"},\"y\":{\"field\":\"Price\"}},\"id\":\"1458\",\"type\":\"Scatter\"},{\"attributes\":{\"overlay\":{\"id\":\"1445\"}},\"id\":\"1443\",\"type\":\"BoxZoomTool\"},{\"attributes\":{\"text\":\"Top 20 Market Cap Companies (in billions) - EPS versus Price\",\"text_color\":{\"value\":\"black\"},\"text_font_size\":{\"value\":\"12pt\"}},\"id\":\"1424\",\"type\":\"Title\"},{\"attributes\":{\"axis_label\":\"Earnings/Share\",\"bounds\":\"auto\",\"formatter\":{\"id\":\"1461\"},\"major_label_orientation\":\"horizontal\",\"ticker\":{\"id\":\"1433\"}},\"id\":\"1432\",\"type\":\"LinearAxis\"},{\"attributes\":{\"data_source\":{\"id\":\"1453\"},\"glyph\":{\"id\":\"1456\"},\"hover_glyph\":null,\"muted_glyph\":{\"id\":\"1458\"},\"nonselection_glyph\":{\"id\":\"1457\"},\"selection_glyph\":null,\"view\":{\"id\":\"1460\"}},\"id\":\"1459\",\"type\":\"GlyphRenderer\"},{\"attributes\":{\"children\":[{\"id\":\"1419\"},{\"id\":\"1423\"},{\"id\":\"1481\"}],\"margin\":[0,0,0,0],\"name\":\"Row02239\",\"tags\":[\"embedded\"]},\"id\":\"1418\",\"type\":\"Row\"},{\"attributes\":{},\"id\":\"1428\",\"type\":\"LinearScale\"},{\"attributes\":{\"axis\":{\"id\":\"1436\"},\"dimension\":1,\"grid_line_color\":null,\"ticker\":null},\"id\":\"1439\",\"type\":\"Grid\"},{\"attributes\":{},\"id\":\"1444\",\"type\":\"ResetTool\"},{\"attributes\":{},\"id\":\"1430\",\"type\":\"LinearScale\"},{\"attributes\":{\"fill_color\":{\"value\":\"#1f77b3\"},\"line_color\":{\"value\":\"#1f77b3\"},\"size\":{\"units\":\"screen\",\"value\":5.477225575051661},\"x\":{\"field\":\"Earnings/Share\"},\"y\":{\"field\":\"Price\"}},\"id\":\"1456\",\"type\":\"Scatter\"},{\"attributes\":{},\"id\":\"1433\",\"type\":\"BasicTicker\"},{\"attributes\":{\"axis\":{\"id\":\"1432\"},\"grid_line_color\":null,\"ticker\":null},\"id\":\"1435\",\"type\":\"Grid\"},{\"attributes\":{\"end\":47.18000000000001,\"reset_end\":47.18000000000001,\"reset_start\":-31.1,\"start\":-31.1,\"tags\":[[[\"Earnings/Share\",\"Earnings/Share\",null]]]},\"id\":\"1420\",\"type\":\"Range1d\"},{\"attributes\":{},\"id\":\"1454\",\"type\":\"Selection\"},{\"attributes\":{\"margin\":[5,5,5,5],\"name\":\"HSpacer02243\",\"sizing_mode\":\"stretch_width\"},\"id\":\"1419\",\"type\":\"Spacer\"},{\"attributes\":{},\"id\":\"1437\",\"type\":\"BasicTicker\"},{\"attributes\":{\"axis_label\":\"Price\",\"bounds\":\"auto\",\"formatter\":{\"id\":\"1463\"},\"major_label_orientation\":\"horizontal\",\"ticker\":{\"id\":\"1437\"}},\"id\":\"1436\",\"type\":\"LinearAxis\"},{\"attributes\":{\"bottom_units\":\"screen\",\"fill_alpha\":0.5,\"fill_color\":\"lightgrey\",\"left_units\":\"screen\",\"level\":\"overlay\",\"line_alpha\":1.0,\"line_color\":\"black\",\"line_dash\":[4,4],\"line_width\":2,\"right_units\":\"screen\",\"top_units\":\"screen\"},\"id\":\"1445\",\"type\":\"BoxAnnotation\"},{\"attributes\":{\"margin\":[5,5,5,5],\"name\":\"HSpacer02244\",\"sizing_mode\":\"stretch_width\"},\"id\":\"1481\",\"type\":\"Spacer\"},{\"attributes\":{\"end\":1986.384,\"reset_end\":1986.384,\"reset_start\":-177.50400000000002,\"start\":-177.50400000000002,\"tags\":[[[\"Price\",\"Price\",null]]]},\"id\":\"1421\",\"type\":\"Range1d\"},{\"attributes\":{\"active_drag\":\"auto\",\"active_inspect\":\"auto\",\"active_multi\":null,\"active_scroll\":\"auto\",\"active_tap\":\"auto\",\"tools\":[{\"id\":\"1422\"},{\"id\":\"1440\"},{\"id\":\"1441\"},{\"id\":\"1442\"},{\"id\":\"1443\"},{\"id\":\"1444\"}]},\"id\":\"1446\",\"type\":\"Toolbar\"},{\"attributes\":{\"callback\":null,\"renderers\":[{\"id\":\"1459\"}],\"tags\":[\"hv_created\"],\"tooltips\":[[\"Earnings/Share\",\"@{Earnings_over_Share}\"],[\"Price\",\"@{Price}\"]]},\"id\":\"1422\",\"type\":\"HoverTool\"},{\"attributes\":{\"source\":{\"id\":\"1453\"}},\"id\":\"1460\",\"type\":\"CDSView\"},{\"attributes\":{},\"id\":\"1440\",\"type\":\"SaveTool\"}],\"root_ids\":[\"1418\"]},\"title\":\"Bokeh Application\",\"version\":\"2.2.3\"}};\n",
       "    var render_items = [{\"docid\":\"2fd4421a-e212-41a8-bacc-44092f193926\",\"root_ids\":[\"1418\"],\"roots\":{\"1418\":\"78f1ad11-8cef-4ab7-9239-c405011fb23c\"}}];\n",
       "    root.Bokeh.embed.embed_items_notebook(docs_json, render_items);\n",
       "  }\n",
       "  if (root.Bokeh !== undefined && root.Bokeh.Panel !== undefined) {\n",
       "    embed_document(root);\n",
       "  } else {\n",
       "    var attempts = 0;\n",
       "    var timer = setInterval(function(root) {\n",
       "      if (root.Bokeh !== undefined && root.Bokeh.Panel !== undefined) {\n",
       "        clearInterval(timer);\n",
       "        embed_document(root);\n",
       "      } else if (document.readyState == \"complete\") {\n",
       "        attempts++;\n",
       "        if (attempts > 100) {\n",
       "          clearInterval(timer);\n",
       "          console.log(\"Bokeh: ERROR: Unable to run BokehJS code because BokehJS library is missing\");\n",
       "        }\n",
       "      }\n",
       "    }, 10, root)\n",
       "  }\n",
       "})(window);</script>"
      ],
      "text/plain": [
       ":Scatter   [Earnings/Share]   (Price)"
      ]
     },
     "execution_count": 9,
     "metadata": {
      "application/vnd.holoviews_exec.v0+json": {
       "id": "1418"
      }
     },
     "output_type": "execute_result"
    }
   ],
   "source": [
    "# Use the sp500_companies_csv DataFrame to plot a scatter plot displaying the relationship between price vs. earnings/share\n",
    "# Create the scatter plot using hvplot and the \"kind\" parameter\n",
    "# YOUR CODE HERE\n"
   ]
  },
  {
   "cell_type": "code",
   "execution_count": null,
   "metadata": {},
   "outputs": [],
   "source": []
  }
 ],
 "metadata": {
  "interpreter": {
   "hash": "818f98e3acb0f00ff33d89b131253f508694b5c991f8fbffa352bfaeafca2825"
  },
  "kernelspec": {
   "display_name": "Python [conda env:pyvizenv25]",
   "language": "python",
   "name": "python3"
  },
  "language_info": {
   "codemirror_mode": {
    "name": "ipython",
    "version": 3
   },
   "file_extension": ".py",
   "mimetype": "text/x-python",
   "name": "python",
   "nbconvert_exporter": "python",
   "pygments_lexer": "ipython3",
   "version": "3.7.11"
  }
 },
 "nbformat": 4,
 "nbformat_minor": 4
}
