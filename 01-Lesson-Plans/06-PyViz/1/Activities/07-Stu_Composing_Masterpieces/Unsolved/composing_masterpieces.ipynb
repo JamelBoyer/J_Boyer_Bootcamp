{
 "cells": [
  {
   "cell_type": "markdown",
   "metadata": {},
   "source": [
    "# Composing Masterpieces\n",
    "\n",
    "In your role as a data analyst for a video streaming service, you have been asked by your manager to compare and contrast the subscriber data for various international regions over the last several years. \n",
    "\n",
    "Use your knowledge of compose and overlay plots to create visualizations to gather the data requested by your manager. "
   ]
  },
  {
   "cell_type": "code",
   "execution_count": 9,
   "metadata": {},
   "outputs": [],
   "source": [
    "# Import the required libraries and dependencies\n",
    "import pandas as pd\n",
    "import hvplot.pandas\n",
    "from pathlib import Path"
   ]
  },
  {
   "cell_type": "markdown",
   "metadata": {},
   "source": [
    "## Step 1: Prepare the Subscriber Numbers DataFrame"
   ]
  },
  {
   "cell_type": "code",
   "execution_count": 13,
   "metadata": {},
   "outputs": [
    {
     "name": "stdout",
     "output_type": "stream",
     "text": [
      "                              Area      Years  Subscribers\n",
      "0         United States and Canada  Q1 - 2018     60909000\n",
      "1   Europe, Middle East and Africa  Q1 - 2018     29339000\n",
      "2                    Latin America  Q1 - 2018     21260000\n",
      "3                     Asia-Pacific  Q1 - 2018      7394000\n",
      "4         United States and Canada  Q2 - 2018     61870000\n",
      "5   Europe, Middle East and Africa  Q2 - 2018     31317000\n",
      "6                    Latin America  Q2 - 2018     22795000\n",
      "7                     Asia-Pacific  Q2 - 2018      8372000\n",
      "8         United States and Canada  Q3 - 2018     63010000\n",
      "9   Europe, Middle East and Africa  Q3 - 2018     33836000\n",
      "10                   Latin America  Q3 - 2018     24115000\n",
      "11                    Asia-Pacific  Q3 - 2018      9461000\n",
      "12        United States and Canada  Q4 - 2018     64757000\n",
      "13  Europe, Middle East and Africa  Q4 - 2018     37818000\n",
      "14                   Latin America  Q4 - 2018     26077000\n",
      "15                    Asia-Pacific  Q4 - 2018     10607000\n",
      "16        United States and Canada  Q1 - 2019     66633000\n",
      "17  Europe, Middle East and Africa  Q1 - 2019     42542000\n",
      "18                   Latin America  Q1 - 2019     27547000\n",
      "19                    Asia-Pacific  Q1 - 2019     12141000\n",
      "20        United States and Canada  Q2 - 2019     66501000\n",
      "21  Europe, Middle East and Africa  Q2 - 2019     44229000\n",
      "22                   Latin America  Q2 - 2019     27890000\n",
      "23                    Asia-Pacific  Q2 - 2019     12942000\n",
      "24        United States and Canada  Q3 - 2019     67114000\n",
      "25  Europe, Middle East and Africa  Q3 - 2019     47355000\n",
      "26                   Latin America  Q3 - 2019     29380000\n",
      "27                    Asia-Pacific  Q3 - 2019     14485000\n",
      "28        United States and Canada  Q4 - 2019     67662000\n",
      "29  Europe, Middle East and Africa  Q4 - 2019     51778000\n",
      "30                   Latin America  Q4 - 2019     31417000\n",
      "31                    Asia-Pacific  Q4 - 2019     16233000\n",
      "32        United States and Canada  Q1 - 2020     69969000\n",
      "33  Europe, Middle East and Africa  Q1 - 2020     58734000\n",
      "34                   Latin America  Q1 - 2020     34318000\n",
      "35                    Asia-Pacific  Q1 - 2020     19835000\n",
      "36        United States and Canada  Q2 - 2020     72904000\n",
      "37  Europe, Middle East and Africa  Q2 - 2020     61483000\n",
      "38                   Latin America  Q2 - 2020     36068000\n",
      "39                    Asia-Pacific  Q2 - 2020     22492000\n"
     ]
    }
   ],
   "source": [
    "# Read subscriber_numbers.csv file into a Pandas DataFrame\n",
    "\n",
    "subscribers_df = pd.read_csv(Path(\"../Resources\\subscriber_numbers.csv\"))\n",
    "subscribers_df.head()\n",
    "print(subscribers_df)\n"
   ]
  },
  {
   "cell_type": "markdown",
   "metadata": {},
   "source": [
    "## Step 2: Using both a compose plot and and overlay plot, compare the subscriber numbers for each region for the periods \"Q1 - 2018\", \"Q1 - 2019\", and \"Q1 - 2020\"."
   ]
  },
  {
   "cell_type": "code",
   "execution_count": null,
   "metadata": {},
   "outputs": [],
   "source": [
    "# Create a DataFrame that slices the subscriber data for Q1 - 2018.\n",
    "q1_2018 = # YOUR CODE HERE\n",
    "\n",
    "# Set the index of the DataFrame to Area\n",
    "q1_2018 = # YOUR CODE HERE\n",
    "\n",
    "# Create a bar chart of the Q1 - 2018 data\n",
    "q1_2018_plot = # YOUR CODE HERE\n",
    "\n",
    "# Show the bar chart\n",
    "q1_2018_plot"
   ]
  },
  {
   "cell_type": "code",
   "execution_count": null,
   "metadata": {},
   "outputs": [],
   "source": [
    "# Create a DataFrame that slices the subscriber data for Q1 - 2019.\n",
    "q1_2019 = # YOUR CODE HERE\n",
    "\n",
    "# Set the index of the DataFrame to Area\n",
    "q1_2019 = # YOUR CODE HERE\n",
    "\n",
    "# Create a bar chart of the Q1 - 2019 data\n",
    "q1_2019_plot = # YOUR CODE HERE\n",
    "\n",
    "# Show the bar chart\n",
    "q1_2019_plot"
   ]
  },
  {
   "cell_type": "code",
   "execution_count": null,
   "metadata": {},
   "outputs": [],
   "source": [
    "# Create a DataFrame that slices the subscriber data for Q1 - 2020.\n",
    "q1_2020 = # YOUR CODE HERE\n",
    "\n",
    "# Set the index of the DataFrame to Area\n",
    "q1_2020 = # YOUR CODE HERE\n",
    "\n",
    "# Create a bar chart of the Q1 - 2020 data\n",
    "q1_2020_plot = # YOUR CODE HERE\n",
    "\n",
    "# Show the bar chart\n",
    "q1_2020_plot"
   ]
  },
  {
   "cell_type": "markdown",
   "metadata": {},
   "source": [
    "## Create a compose plot to visualize the Q1 data"
   ]
  },
  {
   "cell_type": "code",
   "execution_count": null,
   "metadata": {},
   "outputs": [],
   "source": [
    "# Create a compose plot to visualize the Q1 data side-by-side\n",
    "# YOUR CODE HERE\n"
   ]
  },
  {
   "cell_type": "markdown",
   "metadata": {},
   "source": [
    "## Create an overlay plot for the Q1 data\n",
    "\n",
    "> Hint: Does the order of the plots change the visualization?"
   ]
  },
  {
   "cell_type": "code",
   "execution_count": null,
   "metadata": {},
   "outputs": [],
   "source": [
    "# Create an overlay plot to visualize the Q1 data\n",
    "# YOUR CODE HERE\n"
   ]
  },
  {
   "cell_type": "markdown",
   "metadata": {},
   "source": [
    "**Question:** How does the rate of growth compare across each region over the time periods being analyzed?\n",
    "\n",
    "**Answer:** # YOUR ANSWER HERE"
   ]
  },
  {
   "cell_type": "markdown",
   "metadata": {},
   "source": [
    "## Step 3: Using both a compose plot and and overlay plot, combare the time series trends in subscriber numbers for the two largest regions detailed in the dataset, the \"United States and Canada\" region and the \"Europe, Middle East and Africa\" region."
   ]
  },
  {
   "cell_type": "code",
   "execution_count": null,
   "metadata": {},
   "outputs": [],
   "source": [
    "# Create a DataFrame that slices the subscriber data for the United States and Canada\n",
    "us_canada_subscribers = # YOUR CODE HERE\n",
    "\n",
    "# Set the index of the DataFrame to Years\n",
    "us_canada_subscribers = # YOUR CODE HERE\n",
    "\n",
    "# Create a line plot of the US and Canada data\n",
    "us_canada_plot = # YOUR CODE HERE\n",
    "\n",
    "# Show the plot\n",
    "us_canada_plot"
   ]
  },
  {
   "cell_type": "code",
   "execution_count": null,
   "metadata": {},
   "outputs": [],
   "source": [
    "# Create a DataFrame that slices the subscriber data for the Europe, Middle East and Africa area\n",
    "emea_subscribers = # YOUR CODE HERE\n",
    "\n",
    "# Set the index of the DataFrame to Years\n",
    "emea_subscribers = # YOUR CODE HERE\n",
    "\n",
    "# Create a line plot of the Europe, Middle East and Africa data\n",
    "emea_plot = # YOUR CODE HERE\n",
    "\n",
    "# Show the plot\n",
    "emea_plot"
   ]
  },
  {
   "cell_type": "markdown",
   "metadata": {},
   "source": [
    "## Create a compose plot to visualize the subscriber time series data for the two regions"
   ]
  },
  {
   "cell_type": "code",
   "execution_count": null,
   "metadata": {},
   "outputs": [],
   "source": [
    "# Create a compose plot to visualize the subscriber time series data for the two regions\n",
    "# YOUR CODE HERE"
   ]
  },
  {
   "cell_type": "markdown",
   "metadata": {},
   "source": [
    "## Create an overlay plot for the subcriber time series data"
   ]
  },
  {
   "cell_type": "code",
   "execution_count": null,
   "metadata": {},
   "outputs": [],
   "source": [
    "# Create an overlay plot to visualize the subscriber time series data for the two regions\n",
    "# YOUR CODE HERE"
   ]
  },
  {
   "cell_type": "markdown",
   "metadata": {},
   "source": [
    "**Question:** How does the rate of growth over the time series compare across the two regions?\n",
    "\n",
    "**Answer:** # YOUR ANSWER HERE  "
   ]
  },
  {
   "cell_type": "markdown",
   "metadata": {},
   "source": [
    "## Step 4: Answer the following question:"
   ]
  },
  {
   "cell_type": "markdown",
   "metadata": {},
   "source": [
    "**Question:** Given the information in these visualizations, toward what region would you recommend that advertising dollars be focused?\n",
    "\n",
    "**Answer:** # YOUR ANSWER HERE"
   ]
  },
  {
   "cell_type": "code",
   "execution_count": null,
   "metadata": {},
   "outputs": [],
   "source": []
  }
 ],
 "metadata": {
  "kernel_info": {
   "name": "python3"
  },
  "kernelspec": {
   "display_name": "Python 3",
   "language": "python",
   "name": "python3"
  },
  "language_info": {
   "codemirror_mode": {
    "name": "ipython",
    "version": 3
   },
   "file_extension": ".py",
   "mimetype": "text/x-python",
   "name": "python",
   "nbconvert_exporter": "python",
   "pygments_lexer": "ipython3",
   "version": "3.7.11"
  },
  "nteract": {
   "version": "0.12.3"
  }
 },
 "nbformat": 4,
 "nbformat_minor": 4
}
