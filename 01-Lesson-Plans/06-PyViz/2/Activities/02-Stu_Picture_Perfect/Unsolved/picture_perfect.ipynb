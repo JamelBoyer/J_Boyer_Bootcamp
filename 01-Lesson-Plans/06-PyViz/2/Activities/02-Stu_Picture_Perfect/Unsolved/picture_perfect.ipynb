{
 "cells": [
  {
   "cell_type": "markdown",
   "metadata": {},
   "source": [
    "# Picture Perfect\n",
    "\n",
    "Still in your role as a data analyst for a video streaming service, you have now been asked by your manager to compare and contrast the revenue numbers by quarter for the various international regions.\n",
    "\n",
    "Be sure to consult the [HvPlot Customization](https://hvplot.holoviz.org/user_guide/Customization.html) page for additional opportunities of aesthetic improvement."
   ]
  },
  {
   "cell_type": "code",
   "execution_count": 7,
   "metadata": {},
   "outputs": [],
   "source": [
    "# Import the required libraries and dependencies\n",
    "import pandas as pd\n",
    "import hvplot.pandas\n",
    "from pathlib import Path"
   ]
  },
  {
   "cell_type": "markdown",
   "metadata": {},
   "source": [
    "## Step 1: Prepare the Regional Revenue DataFrame"
   ]
  },
  {
   "cell_type": "code",
   "execution_count": 12,
   "metadata": {},
   "outputs": [
    {
     "data": {
      "text/html": [
       "<div>\n",
       "<style scoped>\n",
       "    .dataframe tbody tr th:only-of-type {\n",
       "        vertical-align: middle;\n",
       "    }\n",
       "\n",
       "    .dataframe tbody tr th {\n",
       "        vertical-align: top;\n",
       "    }\n",
       "\n",
       "    .dataframe thead th {\n",
       "        text-align: right;\n",
       "    }\n",
       "</style>\n",
       "<table border=\"1\" class=\"dataframe\">\n",
       "  <thead>\n",
       "    <tr style=\"text-align: right;\">\n",
       "      <th></th>\n",
       "      <th>Area</th>\n",
       "      <th>Years</th>\n",
       "      <th>Revenue</th>\n",
       "    </tr>\n",
       "  </thead>\n",
       "  <tbody>\n",
       "    <tr>\n",
       "      <th>0</th>\n",
       "      <td>United States and Canada</td>\n",
       "      <td>Q1 - 2018</td>\n",
       "      <td>1976157000</td>\n",
       "    </tr>\n",
       "    <tr>\n",
       "      <th>1</th>\n",
       "      <td>Europe, Middle East and Africa</td>\n",
       "      <td>Q1 - 2018</td>\n",
       "      <td>886649000</td>\n",
       "    </tr>\n",
       "    <tr>\n",
       "      <th>2</th>\n",
       "      <td>Latin America</td>\n",
       "      <td>Q1 - 2018</td>\n",
       "      <td>540182000</td>\n",
       "    </tr>\n",
       "    <tr>\n",
       "      <th>3</th>\n",
       "      <td>Asia-Pacific</td>\n",
       "      <td>Q1 - 2018</td>\n",
       "      <td>199117000</td>\n",
       "    </tr>\n",
       "    <tr>\n",
       "      <th>4</th>\n",
       "      <td>United States and Canada</td>\n",
       "      <td>Q2 - 2018</td>\n",
       "      <td>2049546000</td>\n",
       "    </tr>\n",
       "    <tr>\n",
       "      <th>5</th>\n",
       "      <td>Europe, Middle East and Africa</td>\n",
       "      <td>Q2 - 2018</td>\n",
       "      <td>975497000</td>\n",
       "    </tr>\n",
       "    <tr>\n",
       "      <th>6</th>\n",
       "      <td>Latin America</td>\n",
       "      <td>Q2 - 2018</td>\n",
       "      <td>568071000</td>\n",
       "    </tr>\n",
       "    <tr>\n",
       "      <th>7</th>\n",
       "      <td>Asia-Pacific</td>\n",
       "      <td>Q2 - 2018</td>\n",
       "      <td>221252000</td>\n",
       "    </tr>\n",
       "    <tr>\n",
       "      <th>8</th>\n",
       "      <td>United States and Canada</td>\n",
       "      <td>Q3 - 2018</td>\n",
       "      <td>2094850000</td>\n",
       "    </tr>\n",
       "    <tr>\n",
       "      <th>9</th>\n",
       "      <td>Europe, Middle East and Africa</td>\n",
       "      <td>Q3 - 2018</td>\n",
       "      <td>1004749000</td>\n",
       "    </tr>\n",
       "    <tr>\n",
       "      <th>10</th>\n",
       "      <td>Latin America</td>\n",
       "      <td>Q3 - 2018</td>\n",
       "      <td>562307000</td>\n",
       "    </tr>\n",
       "    <tr>\n",
       "      <th>11</th>\n",
       "      <td>Asia-Pacific</td>\n",
       "      <td>Q3 - 2018</td>\n",
       "      <td>248691000</td>\n",
       "    </tr>\n",
       "    <tr>\n",
       "      <th>12</th>\n",
       "      <td>United States and Canada</td>\n",
       "      <td>Q4 - 2018</td>\n",
       "      <td>2160979000</td>\n",
       "    </tr>\n",
       "    <tr>\n",
       "      <th>13</th>\n",
       "      <td>Europe, Middle East and Africa</td>\n",
       "      <td>Q4 - 2018</td>\n",
       "      <td>1096812000</td>\n",
       "    </tr>\n",
       "    <tr>\n",
       "      <th>14</th>\n",
       "      <td>Latin America</td>\n",
       "      <td>Q4 - 2018</td>\n",
       "      <td>567137000</td>\n",
       "    </tr>\n",
       "    <tr>\n",
       "      <th>15</th>\n",
       "      <td>Asia-Pacific</td>\n",
       "      <td>Q4 - 2018</td>\n",
       "      <td>276756000</td>\n",
       "    </tr>\n",
       "    <tr>\n",
       "      <th>16</th>\n",
       "      <td>United States and Canada</td>\n",
       "      <td>Q1 - 2019</td>\n",
       "      <td>2256851000</td>\n",
       "    </tr>\n",
       "    <tr>\n",
       "      <th>17</th>\n",
       "      <td>Europe, Middle East and Africa</td>\n",
       "      <td>Q1 - 2019</td>\n",
       "      <td>1233379000</td>\n",
       "    </tr>\n",
       "    <tr>\n",
       "      <th>18</th>\n",
       "      <td>Latin America</td>\n",
       "      <td>Q1 - 2019</td>\n",
       "      <td>630472000</td>\n",
       "    </tr>\n",
       "    <tr>\n",
       "      <th>19</th>\n",
       "      <td>Asia-Pacific</td>\n",
       "      <td>Q1 - 2019</td>\n",
       "      <td>319602000</td>\n",
       "    </tr>\n",
       "    <tr>\n",
       "      <th>20</th>\n",
       "      <td>United States and Canada</td>\n",
       "      <td>Q2 - 2019</td>\n",
       "      <td>2501199000</td>\n",
       "    </tr>\n",
       "    <tr>\n",
       "      <th>21</th>\n",
       "      <td>Europe, Middle East and Africa</td>\n",
       "      <td>Q2 - 2019</td>\n",
       "      <td>1319087000</td>\n",
       "    </tr>\n",
       "    <tr>\n",
       "      <th>22</th>\n",
       "      <td>Latin America</td>\n",
       "      <td>Q2 - 2019</td>\n",
       "      <td>677136000</td>\n",
       "    </tr>\n",
       "    <tr>\n",
       "      <th>23</th>\n",
       "      <td>Asia-Pacific</td>\n",
       "      <td>Q2 - 2019</td>\n",
       "      <td>349494000</td>\n",
       "    </tr>\n",
       "    <tr>\n",
       "      <th>24</th>\n",
       "      <td>United States and Canada</td>\n",
       "      <td>Q3 - 2019</td>\n",
       "      <td>2621250000</td>\n",
       "    </tr>\n",
       "    <tr>\n",
       "      <th>25</th>\n",
       "      <td>Europe, Middle East and Africa</td>\n",
       "      <td>Q3 - 2019</td>\n",
       "      <td>1428040000</td>\n",
       "    </tr>\n",
       "    <tr>\n",
       "      <th>26</th>\n",
       "      <td>Latin America</td>\n",
       "      <td>Q3 - 2019</td>\n",
       "      <td>741434000</td>\n",
       "    </tr>\n",
       "    <tr>\n",
       "      <th>27</th>\n",
       "      <td>Asia-Pacific</td>\n",
       "      <td>Q3 - 2019</td>\n",
       "      <td>382304000</td>\n",
       "    </tr>\n",
       "    <tr>\n",
       "      <th>28</th>\n",
       "      <td>United States and Canada</td>\n",
       "      <td>Q4 - 2019</td>\n",
       "      <td>2671908000</td>\n",
       "    </tr>\n",
       "    <tr>\n",
       "      <th>29</th>\n",
       "      <td>Europe, Middle East and Africa</td>\n",
       "      <td>Q4 - 2019</td>\n",
       "      <td>1562561000</td>\n",
       "    </tr>\n",
       "    <tr>\n",
       "      <th>30</th>\n",
       "      <td>Latin America</td>\n",
       "      <td>Q4 - 2019</td>\n",
       "      <td>746392000</td>\n",
       "    </tr>\n",
       "    <tr>\n",
       "      <th>31</th>\n",
       "      <td>Asia-Pacific</td>\n",
       "      <td>Q4 - 2019</td>\n",
       "      <td>418121000</td>\n",
       "    </tr>\n",
       "    <tr>\n",
       "      <th>32</th>\n",
       "      <td>United States and Canada</td>\n",
       "      <td>Q1 - 2020</td>\n",
       "      <td>2702776000</td>\n",
       "    </tr>\n",
       "    <tr>\n",
       "      <th>33</th>\n",
       "      <td>Europe, Middle East and Africa</td>\n",
       "      <td>Q1 - 2020</td>\n",
       "      <td>1723474000</td>\n",
       "    </tr>\n",
       "    <tr>\n",
       "      <th>34</th>\n",
       "      <td>Latin America</td>\n",
       "      <td>Q1 - 2020</td>\n",
       "      <td>793453000</td>\n",
       "    </tr>\n",
       "    <tr>\n",
       "      <th>35</th>\n",
       "      <td>Asia-Pacific</td>\n",
       "      <td>Q1 - 2020</td>\n",
       "      <td>483660000</td>\n",
       "    </tr>\n",
       "    <tr>\n",
       "      <th>36</th>\n",
       "      <td>United States and Canada</td>\n",
       "      <td>Q2 - 2020</td>\n",
       "      <td>2839670000</td>\n",
       "    </tr>\n",
       "    <tr>\n",
       "      <th>37</th>\n",
       "      <td>Europe, Middle East and Africa</td>\n",
       "      <td>Q2 - 2020</td>\n",
       "      <td>1892537000</td>\n",
       "    </tr>\n",
       "    <tr>\n",
       "      <th>38</th>\n",
       "      <td>Latin America</td>\n",
       "      <td>Q2 - 2020</td>\n",
       "      <td>785368000</td>\n",
       "    </tr>\n",
       "    <tr>\n",
       "      <th>39</th>\n",
       "      <td>Asia-Pacific</td>\n",
       "      <td>Q2 - 2020</td>\n",
       "      <td>569140000</td>\n",
       "    </tr>\n",
       "  </tbody>\n",
       "</table>\n",
       "</div>"
      ],
      "text/plain": [
       "                              Area      Years     Revenue\n",
       "0         United States and Canada  Q1 - 2018  1976157000\n",
       "1   Europe, Middle East and Africa  Q1 - 2018   886649000\n",
       "2                    Latin America  Q1 - 2018   540182000\n",
       "3                     Asia-Pacific  Q1 - 2018   199117000\n",
       "4         United States and Canada  Q2 - 2018  2049546000\n",
       "5   Europe, Middle East and Africa  Q2 - 2018   975497000\n",
       "6                    Latin America  Q2 - 2018   568071000\n",
       "7                     Asia-Pacific  Q2 - 2018   221252000\n",
       "8         United States and Canada  Q3 - 2018  2094850000\n",
       "9   Europe, Middle East and Africa  Q3 - 2018  1004749000\n",
       "10                   Latin America  Q3 - 2018   562307000\n",
       "11                    Asia-Pacific  Q3 - 2018   248691000\n",
       "12        United States and Canada  Q4 - 2018  2160979000\n",
       "13  Europe, Middle East and Africa  Q4 - 2018  1096812000\n",
       "14                   Latin America  Q4 - 2018   567137000\n",
       "15                    Asia-Pacific  Q4 - 2018   276756000\n",
       "16        United States and Canada  Q1 - 2019  2256851000\n",
       "17  Europe, Middle East and Africa  Q1 - 2019  1233379000\n",
       "18                   Latin America  Q1 - 2019   630472000\n",
       "19                    Asia-Pacific  Q1 - 2019   319602000\n",
       "20        United States and Canada  Q2 - 2019  2501199000\n",
       "21  Europe, Middle East and Africa  Q2 - 2019  1319087000\n",
       "22                   Latin America  Q2 - 2019   677136000\n",
       "23                    Asia-Pacific  Q2 - 2019   349494000\n",
       "24        United States and Canada  Q3 - 2019  2621250000\n",
       "25  Europe, Middle East and Africa  Q3 - 2019  1428040000\n",
       "26                   Latin America  Q3 - 2019   741434000\n",
       "27                    Asia-Pacific  Q3 - 2019   382304000\n",
       "28        United States and Canada  Q4 - 2019  2671908000\n",
       "29  Europe, Middle East and Africa  Q4 - 2019  1562561000\n",
       "30                   Latin America  Q4 - 2019   746392000\n",
       "31                    Asia-Pacific  Q4 - 2019   418121000\n",
       "32        United States and Canada  Q1 - 2020  2702776000\n",
       "33  Europe, Middle East and Africa  Q1 - 2020  1723474000\n",
       "34                   Latin America  Q1 - 2020   793453000\n",
       "35                    Asia-Pacific  Q1 - 2020   483660000\n",
       "36        United States and Canada  Q2 - 2020  2839670000\n",
       "37  Europe, Middle East and Africa  Q2 - 2020  1892537000\n",
       "38                   Latin America  Q2 - 2020   785368000\n",
       "39                    Asia-Pacific  Q2 - 2020   569140000"
      ]
     },
     "execution_count": 12,
     "metadata": {},
     "output_type": "execute_result"
    }
   ],
   "source": [
    "# Read in regional_revenue.csv file into a Pandas DataFrame\n",
    "regional_revenue_df = pd.read_csv(Path(\"../Resources/regional_revenue.csv\"))\n",
    "\n",
    "# Review the DataFrame\n",
    "regional_revenue_df\n"
   ]
  },
  {
   "cell_type": "markdown",
   "metadata": {},
   "source": [
    "## Step 2: Create a plot that visualizes the growth in revenue for the United States and Canada"
   ]
  },
  {
   "cell_type": "code",
   "execution_count": 17,
   "metadata": {},
   "outputs": [
    {
     "data": {},
     "metadata": {},
     "output_type": "display_data"
    },
    {
     "data": {
      "application/vnd.holoviews_exec.v0+json": "",
      "text/html": [
       "<div id='1123'>\n",
       "\n",
       "\n",
       "\n",
       "\n",
       "\n",
       "  <div class=\"bk-root\" id=\"d68e8ab8-befd-442d-af8a-b6fe26f30891\" data-root-id=\"1123\"></div>\n",
       "</div>\n",
       "<script type=\"application/javascript\">(function(root) {\n",
       "  function embed_document(root) {\n",
       "    var docs_json = {\"ccb0e95d-4b4e-45d8-9d1e-81706d9b85ca\":{\"defs\":[{\"extends\":null,\"module\":null,\"name\":\"ReactiveHTML1\",\"overrides\":[],\"properties\":[]},{\"extends\":null,\"module\":null,\"name\":\"FlexBox1\",\"overrides\":[],\"properties\":[{\"default\":\"flex-start\",\"kind\":null,\"name\":\"align_content\"},{\"default\":\"flex-start\",\"kind\":null,\"name\":\"align_items\"},{\"default\":\"row\",\"kind\":null,\"name\":\"flex_direction\"},{\"default\":\"wrap\",\"kind\":null,\"name\":\"flex_wrap\"},{\"default\":\"flex-start\",\"kind\":null,\"name\":\"justify_content\"}]},{\"extends\":null,\"module\":null,\"name\":\"TemplateActions1\",\"overrides\":[],\"properties\":[{\"default\":0,\"kind\":null,\"name\":\"open_modal\"},{\"default\":0,\"kind\":null,\"name\":\"close_modal\"}]},{\"extends\":null,\"module\":null,\"name\":\"MaterialTemplateActions1\",\"overrides\":[],\"properties\":[{\"default\":0,\"kind\":null,\"name\":\"open_modal\"},{\"default\":0,\"kind\":null,\"name\":\"close_modal\"}]}],\"roots\":{\"references\":[{\"attributes\":{\"children\":[{\"id\":\"1124\"},{\"id\":\"1128\"},{\"id\":\"1192\"}],\"margin\":[0,0,0,0],\"name\":\"Row01805\",\"tags\":[\"embedded\"]},\"id\":\"1123\",\"type\":\"Row\"},{\"attributes\":{},\"id\":\"1148\",\"type\":\"ResetTool\"},{\"attributes\":{},\"id\":\"1144\",\"type\":\"SaveTool\"},{\"attributes\":{},\"id\":\"1146\",\"type\":\"WheelZoomTool\"},{\"attributes\":{\"axis\":{\"id\":\"1137\"},\"coordinates\":null,\"grid_line_color\":null,\"group\":null,\"ticker\":null},\"id\":\"1139\",\"type\":\"Grid\"},{\"attributes\":{\"coordinates\":null,\"data_source\":{\"id\":\"1157\"},\"glyph\":{\"id\":\"1160\"},\"group\":null,\"hover_glyph\":null,\"muted_glyph\":{\"id\":\"1162\"},\"nonselection_glyph\":{\"id\":\"1161\"},\"selection_glyph\":{\"id\":\"1165\"},\"view\":{\"id\":\"1164\"}},\"id\":\"1163\",\"type\":\"GlyphRenderer\"},{\"attributes\":{\"overlay\":{\"id\":\"1149\"}},\"id\":\"1147\",\"type\":\"BoxZoomTool\"},{\"attributes\":{\"axis_label\":\"Years\",\"coordinates\":null,\"formatter\":{\"id\":\"1167\"},\"group\":null,\"major_label_policy\":{\"id\":\"1168\"},\"ticker\":{\"id\":\"1138\"}},\"id\":\"1137\",\"type\":\"CategoricalAxis\"},{\"attributes\":{},\"id\":\"1167\",\"type\":\"CategoricalTickFormatter\"},{\"attributes\":{},\"id\":\"1179\",\"type\":\"UnionRenderers\"},{\"attributes\":{},\"id\":\"1170\",\"type\":\"BasicTickFormatter\"},{\"attributes\":{},\"id\":\"1168\",\"type\":\"AllLabels\"},{\"attributes\":{\"end\":2926021300.0,\"reset_end\":2926021300.0,\"reset_start\":1889805700.0,\"start\":1889805700.0,\"tags\":[[[\"Revenue\",\"Revenue\",null]]]},\"id\":\"1126\",\"type\":\"Range1d\"},{\"attributes\":{},\"id\":\"1133\",\"type\":\"CategoricalScale\"},{\"attributes\":{\"coordinates\":null,\"group\":null,\"text\":\"Revenue\",\"text_color\":\"black\",\"text_font_size\":\"12pt\"},\"id\":\"1129\",\"type\":\"Title\"},{\"attributes\":{\"margin\":[5,5,5,5],\"name\":\"HSpacer01810\",\"sizing_mode\":\"stretch_width\"},\"id\":\"1192\",\"type\":\"Spacer\"},{\"attributes\":{},\"id\":\"1171\",\"type\":\"AllLabels\"},{\"attributes\":{\"factors\":[\"Q1 - 2018\",\"Q2 - 2018\",\"Q3 - 2018\",\"Q4 - 2018\",\"Q1 - 2019\",\"Q2 - 2019\",\"Q3 - 2019\",\"Q4 - 2019\",\"Q1 - 2020\",\"Q2 - 2020\"],\"tags\":[[[\"Years\",\"Years\",null]]]},\"id\":\"1125\",\"type\":\"FactorRange\"},{\"attributes\":{\"tools\":[{\"id\":\"1127\"},{\"id\":\"1144\"},{\"id\":\"1145\"},{\"id\":\"1146\"},{\"id\":\"1147\"},{\"id\":\"1148\"}]},\"id\":\"1150\",\"type\":\"Toolbar\"},{\"attributes\":{\"margin\":[5,5,5,5],\"name\":\"HSpacer01809\",\"sizing_mode\":\"stretch_width\"},\"id\":\"1124\",\"type\":\"Spacer\"},{\"attributes\":{},\"id\":\"1135\",\"type\":\"LinearScale\"},{\"attributes\":{},\"id\":\"1141\",\"type\":\"BasicTicker\"},{\"attributes\":{\"below\":[{\"id\":\"1137\"}],\"center\":[{\"id\":\"1139\"},{\"id\":\"1143\"}],\"height\":300,\"left\":[{\"id\":\"1140\"}],\"margin\":[5,5,5,5],\"min_border_bottom\":10,\"min_border_left\":10,\"min_border_right\":10,\"min_border_top\":10,\"renderers\":[{\"id\":\"1163\"}],\"sizing_mode\":\"fixed\",\"title\":{\"id\":\"1129\"},\"toolbar\":{\"id\":\"1150\"},\"width\":700,\"x_range\":{\"id\":\"1125\"},\"x_scale\":{\"id\":\"1133\"},\"y_range\":{\"id\":\"1126\"},\"y_scale\":{\"id\":\"1135\"}},\"id\":\"1128\",\"subtype\":\"Figure\",\"type\":\"Plot\"},{\"attributes\":{},\"id\":\"1138\",\"type\":\"CategoricalTicker\"},{\"attributes\":{\"axis_label\":\"\",\"coordinates\":null,\"formatter\":{\"id\":\"1170\"},\"group\":null,\"major_label_policy\":{\"id\":\"1171\"},\"ticker\":{\"id\":\"1141\"}},\"id\":\"1140\",\"type\":\"LinearAxis\"},{\"attributes\":{\"axis\":{\"id\":\"1140\"},\"coordinates\":null,\"dimension\":1,\"grid_line_color\":null,\"group\":null,\"ticker\":null},\"id\":\"1143\",\"type\":\"Grid\"},{\"attributes\":{\"source\":{\"id\":\"1157\"}},\"id\":\"1164\",\"type\":\"CDSView\"},{\"attributes\":{\"callback\":null,\"renderers\":[{\"id\":\"1163\"}],\"tags\":[\"hv_created\"],\"tooltips\":[[\"Years\",\"@{Years}\"],[\"Revenue\",\"@{Revenue}\"]]},\"id\":\"1127\",\"type\":\"HoverTool\"},{\"attributes\":{\"line_color\":\"#30a2da\",\"line_width\":2,\"x\":{\"field\":\"Years\"},\"y\":{\"field\":\"Revenue\"}},\"id\":\"1165\",\"type\":\"Line\"},{\"attributes\":{\"line_color\":\"#30a2da\",\"line_width\":2,\"x\":{\"field\":\"Years\"},\"y\":{\"field\":\"Revenue\"}},\"id\":\"1160\",\"type\":\"Line\"},{\"attributes\":{\"line_alpha\":0.2,\"line_color\":\"#30a2da\",\"line_width\":2,\"x\":{\"field\":\"Years\"},\"y\":{\"field\":\"Revenue\"}},\"id\":\"1162\",\"type\":\"Line\"},{\"attributes\":{},\"id\":\"1158\",\"type\":\"Selection\"},{\"attributes\":{\"data\":{\"Revenue\":[1976157000,2049546000,2094850000,2160979000,2256851000,2501199000,2621250000,2671908000,2702776000,2839670000],\"Years\":[\"Q1 - 2018\",\"Q2 - 2018\",\"Q3 - 2018\",\"Q4 - 2018\",\"Q1 - 2019\",\"Q2 - 2019\",\"Q3 - 2019\",\"Q4 - 2019\",\"Q1 - 2020\",\"Q2 - 2020\"]},\"selected\":{\"id\":\"1158\"},\"selection_policy\":{\"id\":\"1179\"}},\"id\":\"1157\",\"type\":\"ColumnDataSource\"},{\"attributes\":{\"bottom_units\":\"screen\",\"coordinates\":null,\"fill_alpha\":0.5,\"fill_color\":\"lightgrey\",\"group\":null,\"left_units\":\"screen\",\"level\":\"overlay\",\"line_alpha\":1.0,\"line_color\":\"black\",\"line_dash\":[4,4],\"line_width\":2,\"right_units\":\"screen\",\"syncable\":false,\"top_units\":\"screen\"},\"id\":\"1149\",\"type\":\"BoxAnnotation\"},{\"attributes\":{\"line_alpha\":0.1,\"line_color\":\"#30a2da\",\"line_width\":2,\"x\":{\"field\":\"Years\"},\"y\":{\"field\":\"Revenue\"}},\"id\":\"1161\",\"type\":\"Line\"},{\"attributes\":{},\"id\":\"1145\",\"type\":\"PanTool\"}],\"root_ids\":[\"1123\"]},\"title\":\"Bokeh Application\",\"version\":\"2.4.1\"}};\n",
       "    var render_items = [{\"docid\":\"ccb0e95d-4b4e-45d8-9d1e-81706d9b85ca\",\"root_ids\":[\"1123\"],\"roots\":{\"1123\":\"d68e8ab8-befd-442d-af8a-b6fe26f30891\"}}];\n",
       "    root.Bokeh.embed.embed_items_notebook(docs_json, render_items);\n",
       "  }\n",
       "  if (root.Bokeh !== undefined && root.Bokeh.Panel !== undefined) {\n",
       "    embed_document(root);\n",
       "  } else {\n",
       "    var attempts = 0;\n",
       "    var timer = setInterval(function(root) {\n",
       "      if (root.Bokeh !== undefined && root.Bokeh.Panel !== undefined) {\n",
       "        clearInterval(timer);\n",
       "        embed_document(root);\n",
       "      } else if (document.readyState == \"complete\") {\n",
       "        attempts++;\n",
       "        if (attempts > 200) {\n",
       "          clearInterval(timer);\n",
       "          console.log(\"Bokeh: ERROR: Unable to run BokehJS code because BokehJS library is missing\");\n",
       "        }\n",
       "      }\n",
       "    }, 25, root)\n",
       "  }\n",
       "})(window);</script>"
      ],
      "text/plain": [
       ":Curve   [Years]   (Revenue)"
      ]
     },
     "execution_count": 17,
     "metadata": {
      "application/vnd.holoviews_exec.v0+json": {
       "id": "1123"
      }
     },
     "output_type": "execute_result"
    }
   ],
   "source": [
    "# Create a DataFrame that slices the subscriber data for the United States and Canada\n",
    "us_canada_revenue = regional_revenue_df.loc[regional_revenue_df['Area'] == 'United States and Canada']\n",
    "\n",
    "# Set the index of the DataFrame to Years\n",
    "us_canada_revenue = us_canada_revenue.set_index('Years')\n",
    "\n",
    "# Create a line plot of the US and Canada Revenue data\n",
    "us_canada_revenue['Revenue'].hvplot()\n"
   ]
  },
  {
   "cell_type": "markdown",
   "metadata": {},
   "source": [
    "## Step 3: Add x- and y-axis labels to your plot. Rotate the x-axis plot ticks 45 degrees."
   ]
  },
  {
   "cell_type": "code",
   "execution_count": 23,
   "metadata": {},
   "outputs": [
    {
     "data": {},
     "metadata": {},
     "output_type": "display_data"
    },
    {
     "data": {
      "application/vnd.holoviews_exec.v0+json": "",
      "text/html": [
       "<div id='1244'>\n",
       "\n",
       "\n",
       "\n",
       "\n",
       "\n",
       "  <div class=\"bk-root\" id=\"c15ed7db-8f46-4cb6-abbf-c18f5256edd8\" data-root-id=\"1244\"></div>\n",
       "</div>\n",
       "<script type=\"application/javascript\">(function(root) {\n",
       "  function embed_document(root) {\n",
       "    var docs_json = {\"34c92071-45f4-43ee-b18d-80b836c4af18\":{\"defs\":[{\"extends\":null,\"module\":null,\"name\":\"ReactiveHTML1\",\"overrides\":[],\"properties\":[]},{\"extends\":null,\"module\":null,\"name\":\"FlexBox1\",\"overrides\":[],\"properties\":[{\"default\":\"flex-start\",\"kind\":null,\"name\":\"align_content\"},{\"default\":\"flex-start\",\"kind\":null,\"name\":\"align_items\"},{\"default\":\"row\",\"kind\":null,\"name\":\"flex_direction\"},{\"default\":\"wrap\",\"kind\":null,\"name\":\"flex_wrap\"},{\"default\":\"flex-start\",\"kind\":null,\"name\":\"justify_content\"}]},{\"extends\":null,\"module\":null,\"name\":\"TemplateActions1\",\"overrides\":[],\"properties\":[{\"default\":0,\"kind\":null,\"name\":\"open_modal\"},{\"default\":0,\"kind\":null,\"name\":\"close_modal\"}]},{\"extends\":null,\"module\":null,\"name\":\"MaterialTemplateActions1\",\"overrides\":[],\"properties\":[{\"default\":0,\"kind\":null,\"name\":\"open_modal\"},{\"default\":0,\"kind\":null,\"name\":\"close_modal\"}]}],\"roots\":{\"references\":[{\"attributes\":{\"below\":[{\"id\":\"1258\"}],\"center\":[{\"id\":\"1260\"},{\"id\":\"1264\"}],\"height\":300,\"left\":[{\"id\":\"1261\"}],\"margin\":[5,5,5,5],\"min_border_bottom\":10,\"min_border_left\":10,\"min_border_right\":10,\"min_border_top\":10,\"renderers\":[{\"id\":\"1284\"}],\"sizing_mode\":\"fixed\",\"title\":{\"id\":\"1250\"},\"toolbar\":{\"id\":\"1271\"},\"width\":700,\"x_range\":{\"id\":\"1246\"},\"x_scale\":{\"id\":\"1254\"},\"y_range\":{\"id\":\"1247\"},\"y_scale\":{\"id\":\"1256\"}},\"id\":\"1249\",\"subtype\":\"Figure\",\"type\":\"Plot\"},{\"attributes\":{\"tools\":[{\"id\":\"1248\"},{\"id\":\"1265\"},{\"id\":\"1266\"},{\"id\":\"1267\"},{\"id\":\"1268\"},{\"id\":\"1269\"}]},\"id\":\"1271\",\"type\":\"Toolbar\"},{\"attributes\":{\"axis\":{\"id\":\"1258\"},\"coordinates\":null,\"grid_line_color\":null,\"group\":null,\"ticker\":null},\"id\":\"1260\",\"type\":\"Grid\"},{\"attributes\":{\"margin\":[5,5,5,5],\"name\":\"HSpacer01988\",\"sizing_mode\":\"stretch_width\"},\"id\":\"1245\",\"type\":\"Spacer\"},{\"attributes\":{},\"id\":\"1262\",\"type\":\"BasicTicker\"},{\"attributes\":{},\"id\":\"1259\",\"type\":\"CategoricalTicker\"},{\"attributes\":{\"axis_label\":\"Revenue\",\"coordinates\":null,\"formatter\":{\"id\":\"1291\"},\"group\":null,\"major_label_policy\":{\"id\":\"1292\"},\"ticker\":{\"id\":\"1262\"}},\"id\":\"1261\",\"type\":\"LinearAxis\"},{\"attributes\":{\"margin\":[5,5,5,5],\"name\":\"HSpacer01989\",\"sizing_mode\":\"stretch_width\"},\"id\":\"1313\",\"type\":\"Spacer\"},{\"attributes\":{\"axis\":{\"id\":\"1261\"},\"coordinates\":null,\"dimension\":1,\"grid_line_color\":null,\"group\":null,\"ticker\":null},\"id\":\"1264\",\"type\":\"Grid\"},{\"attributes\":{\"line_alpha\":0.1,\"line_color\":\"#30a2da\",\"line_width\":2,\"x\":{\"field\":\"Years\"},\"y\":{\"field\":\"Revenue\"}},\"id\":\"1282\",\"type\":\"Line\"},{\"attributes\":{},\"id\":\"1292\",\"type\":\"AllLabels\"},{\"attributes\":{\"line_alpha\":0.2,\"line_color\":\"#30a2da\",\"line_width\":2,\"x\":{\"field\":\"Years\"},\"y\":{\"field\":\"Revenue\"}},\"id\":\"1283\",\"type\":\"Line\"},{\"attributes\":{\"callback\":null,\"renderers\":[{\"id\":\"1284\"}],\"tags\":[\"hv_created\"],\"tooltips\":[[\"Years\",\"@{Years}\"],[\"Revenue\",\"@{Revenue}\"]]},\"id\":\"1248\",\"type\":\"HoverTool\"},{\"attributes\":{},\"id\":\"1300\",\"type\":\"UnionRenderers\"},{\"attributes\":{\"data\":{\"Revenue\":[1976157000,2049546000,2094850000,2160979000,2256851000,2501199000,2621250000,2671908000,2702776000,2839670000],\"Years\":[\"Q1 - 2018\",\"Q2 - 2018\",\"Q3 - 2018\",\"Q4 - 2018\",\"Q1 - 2019\",\"Q2 - 2019\",\"Q3 - 2019\",\"Q4 - 2019\",\"Q1 - 2020\",\"Q2 - 2020\"]},\"selected\":{\"id\":\"1279\"},\"selection_policy\":{\"id\":\"1300\"}},\"id\":\"1278\",\"type\":\"ColumnDataSource\"},{\"attributes\":{\"source\":{\"id\":\"1278\"}},\"id\":\"1285\",\"type\":\"CDSView\"},{\"attributes\":{\"end\":2926021300.0,\"reset_end\":2926021300.0,\"reset_start\":1889805700.0,\"start\":1889805700.0,\"tags\":[[[\"Revenue\",\"Revenue\",null]]]},\"id\":\"1247\",\"type\":\"Range1d\"},{\"attributes\":{\"bottom_units\":\"screen\",\"coordinates\":null,\"fill_alpha\":0.5,\"fill_color\":\"lightgrey\",\"group\":null,\"left_units\":\"screen\",\"level\":\"overlay\",\"line_alpha\":1.0,\"line_color\":\"black\",\"line_dash\":[4,4],\"line_width\":2,\"right_units\":\"screen\",\"syncable\":false,\"top_units\":\"screen\"},\"id\":\"1270\",\"type\":\"BoxAnnotation\"},{\"attributes\":{},\"id\":\"1265\",\"type\":\"SaveTool\"},{\"attributes\":{},\"id\":\"1289\",\"type\":\"AllLabels\"},{\"attributes\":{\"axis_label\":\"Years\",\"coordinates\":null,\"formatter\":{\"id\":\"1288\"},\"group\":null,\"major_label_orientation\":0.7853981633974483,\"major_label_policy\":{\"id\":\"1289\"},\"ticker\":{\"id\":\"1259\"}},\"id\":\"1258\",\"type\":\"CategoricalAxis\"},{\"attributes\":{},\"id\":\"1266\",\"type\":\"PanTool\"},{\"attributes\":{},\"id\":\"1291\",\"type\":\"BasicTickFormatter\"},{\"attributes\":{},\"id\":\"1269\",\"type\":\"ResetTool\"},{\"attributes\":{},\"id\":\"1288\",\"type\":\"CategoricalTickFormatter\"},{\"attributes\":{},\"id\":\"1279\",\"type\":\"Selection\"},{\"attributes\":{},\"id\":\"1267\",\"type\":\"WheelZoomTool\"},{\"attributes\":{\"line_color\":\"#30a2da\",\"line_width\":2,\"x\":{\"field\":\"Years\"},\"y\":{\"field\":\"Revenue\"}},\"id\":\"1281\",\"type\":\"Line\"},{\"attributes\":{\"line_color\":\"#30a2da\",\"line_width\":2,\"x\":{\"field\":\"Years\"},\"y\":{\"field\":\"Revenue\"}},\"id\":\"1286\",\"type\":\"Line\"},{\"attributes\":{\"children\":[{\"id\":\"1245\"},{\"id\":\"1249\"},{\"id\":\"1313\"}],\"margin\":[0,0,0,0],\"name\":\"Row01984\",\"tags\":[\"embedded\"]},\"id\":\"1244\",\"type\":\"Row\"},{\"attributes\":{\"overlay\":{\"id\":\"1270\"}},\"id\":\"1268\",\"type\":\"BoxZoomTool\"},{\"attributes\":{},\"id\":\"1256\",\"type\":\"LinearScale\"},{\"attributes\":{\"coordinates\":null,\"data_source\":{\"id\":\"1278\"},\"glyph\":{\"id\":\"1281\"},\"group\":null,\"hover_glyph\":null,\"muted_glyph\":{\"id\":\"1283\"},\"nonselection_glyph\":{\"id\":\"1282\"},\"selection_glyph\":{\"id\":\"1286\"},\"view\":{\"id\":\"1285\"}},\"id\":\"1284\",\"type\":\"GlyphRenderer\"},{\"attributes\":{\"factors\":[\"Q1 - 2018\",\"Q2 - 2018\",\"Q3 - 2018\",\"Q4 - 2018\",\"Q1 - 2019\",\"Q2 - 2019\",\"Q3 - 2019\",\"Q4 - 2019\",\"Q1 - 2020\",\"Q2 - 2020\"],\"tags\":[[[\"Years\",\"Years\",null]]]},\"id\":\"1246\",\"type\":\"FactorRange\"},{\"attributes\":{},\"id\":\"1254\",\"type\":\"CategoricalScale\"},{\"attributes\":{\"coordinates\":null,\"group\":null,\"text\":\"Revenue\",\"text_color\":\"black\",\"text_font_size\":\"12pt\"},\"id\":\"1250\",\"type\":\"Title\"}],\"root_ids\":[\"1244\"]},\"title\":\"Bokeh Application\",\"version\":\"2.4.1\"}};\n",
       "    var render_items = [{\"docid\":\"34c92071-45f4-43ee-b18d-80b836c4af18\",\"root_ids\":[\"1244\"],\"roots\":{\"1244\":\"c15ed7db-8f46-4cb6-abbf-c18f5256edd8\"}}];\n",
       "    root.Bokeh.embed.embed_items_notebook(docs_json, render_items);\n",
       "  }\n",
       "  if (root.Bokeh !== undefined && root.Bokeh.Panel !== undefined) {\n",
       "    embed_document(root);\n",
       "  } else {\n",
       "    var attempts = 0;\n",
       "    var timer = setInterval(function(root) {\n",
       "      if (root.Bokeh !== undefined && root.Bokeh.Panel !== undefined) {\n",
       "        clearInterval(timer);\n",
       "        embed_document(root);\n",
       "      } else if (document.readyState == \"complete\") {\n",
       "        attempts++;\n",
       "        if (attempts > 200) {\n",
       "          clearInterval(timer);\n",
       "          console.log(\"Bokeh: ERROR: Unable to run BokehJS code because BokehJS library is missing\");\n",
       "        }\n",
       "      }\n",
       "    }, 25, root)\n",
       "  }\n",
       "})(window);</script>"
      ],
      "text/plain": [
       ":Curve   [Years]   (Revenue)"
      ]
     },
     "execution_count": 23,
     "metadata": {
      "application/vnd.holoviews_exec.v0+json": {
       "id": "1244"
      }
     },
     "output_type": "execute_result"
    }
   ],
   "source": [
    "# Rotate the x-axis ticks by 45 degrees and add x- and y-axis labels to the plot\n",
    "us_canada_revenue[\"Revenue\"].hvplot(\n",
    "    xlabel=\"Years\",\n",
    "    ylabel=\"Revenue\",\n",
    "    rot=45\n",
    ")                "
   ]
  },
  {
   "cell_type": "markdown",
   "metadata": {},
   "source": [
    "## Step 4:  Add a title to the US and Canada revenue plot\n"
   ]
  },
  {
   "cell_type": "code",
   "execution_count": 30,
   "metadata": {},
   "outputs": [
    {
     "data": {},
     "metadata": {},
     "output_type": "display_data"
    },
    {
     "data": {
      "application/vnd.holoviews_exec.v0+json": "",
      "text/html": [
       "<div id='1482'>\n",
       "\n",
       "\n",
       "\n",
       "\n",
       "\n",
       "  <div class=\"bk-root\" id=\"ddada8b7-1b10-473d-8cc1-e8fa00c5f58f\" data-root-id=\"1482\"></div>\n",
       "</div>\n",
       "<script type=\"application/javascript\">(function(root) {\n",
       "  function embed_document(root) {\n",
       "    var docs_json = {\"9cd96add-006d-40ea-a746-9c1e840f61b0\":{\"defs\":[{\"extends\":null,\"module\":null,\"name\":\"ReactiveHTML1\",\"overrides\":[],\"properties\":[]},{\"extends\":null,\"module\":null,\"name\":\"FlexBox1\",\"overrides\":[],\"properties\":[{\"default\":\"flex-start\",\"kind\":null,\"name\":\"align_content\"},{\"default\":\"flex-start\",\"kind\":null,\"name\":\"align_items\"},{\"default\":\"row\",\"kind\":null,\"name\":\"flex_direction\"},{\"default\":\"wrap\",\"kind\":null,\"name\":\"flex_wrap\"},{\"default\":\"flex-start\",\"kind\":null,\"name\":\"justify_content\"}]},{\"extends\":null,\"module\":null,\"name\":\"TemplateActions1\",\"overrides\":[],\"properties\":[{\"default\":0,\"kind\":null,\"name\":\"open_modal\"},{\"default\":0,\"kind\":null,\"name\":\"close_modal\"}]},{\"extends\":null,\"module\":null,\"name\":\"MaterialTemplateActions1\",\"overrides\":[],\"properties\":[{\"default\":0,\"kind\":null,\"name\":\"open_modal\"},{\"default\":0,\"kind\":null,\"name\":\"close_modal\"}]}],\"roots\":{\"references\":[{\"attributes\":{\"line_alpha\":0.2,\"line_color\":\"#30a2da\",\"line_width\":2,\"x\":{\"field\":\"Years\"},\"y\":{\"field\":\"Revenue\"}},\"id\":\"1521\",\"type\":\"Line\"},{\"attributes\":{\"tools\":[{\"id\":\"1486\"},{\"id\":\"1503\"},{\"id\":\"1504\"},{\"id\":\"1505\"},{\"id\":\"1506\"},{\"id\":\"1507\"}]},\"id\":\"1509\",\"type\":\"Toolbar\"},{\"attributes\":{},\"id\":\"1529\",\"type\":\"BasicTickFormatter\"},{\"attributes\":{\"end\":2926021300.0,\"reset_end\":2926021300.0,\"reset_start\":1889805700.0,\"start\":1889805700.0,\"tags\":[[[\"Revenue\",\"Revenue\",null]]]},\"id\":\"1485\",\"type\":\"Range1d\"},{\"attributes\":{\"line_color\":\"#30a2da\",\"line_width\":2,\"x\":{\"field\":\"Years\"},\"y\":{\"field\":\"Revenue\"}},\"id\":\"1519\",\"type\":\"Line\"},{\"attributes\":{\"bottom_units\":\"screen\",\"coordinates\":null,\"fill_alpha\":0.5,\"fill_color\":\"lightgrey\",\"group\":null,\"left_units\":\"screen\",\"level\":\"overlay\",\"line_alpha\":1.0,\"line_color\":\"black\",\"line_dash\":[4,4],\"line_width\":2,\"right_units\":\"screen\",\"syncable\":false,\"top_units\":\"screen\"},\"id\":\"1508\",\"type\":\"BoxAnnotation\"},{\"attributes\":{\"source\":{\"id\":\"1516\"}},\"id\":\"1523\",\"type\":\"CDSView\"},{\"attributes\":{},\"id\":\"1503\",\"type\":\"SaveTool\"},{\"attributes\":{\"axis_label\":\"Years\",\"coordinates\":null,\"formatter\":{\"id\":\"1526\"},\"group\":null,\"major_label_orientation\":0.7853981633974483,\"major_label_policy\":{\"id\":\"1527\"},\"ticker\":{\"id\":\"1497\"}},\"id\":\"1496\",\"type\":\"CategoricalAxis\"},{\"attributes\":{},\"id\":\"1504\",\"type\":\"PanTool\"},{\"attributes\":{\"line_alpha\":0.1,\"line_color\":\"#30a2da\",\"line_width\":2,\"x\":{\"field\":\"Years\"},\"y\":{\"field\":\"Revenue\"}},\"id\":\"1520\",\"type\":\"Line\"},{\"attributes\":{},\"id\":\"1507\",\"type\":\"ResetTool\"},{\"attributes\":{\"axis\":{\"id\":\"1496\"},\"coordinates\":null,\"grid_line_color\":null,\"group\":null,\"ticker\":null},\"id\":\"1498\",\"type\":\"Grid\"},{\"attributes\":{\"children\":[{\"id\":\"1483\"},{\"id\":\"1487\"},{\"id\":\"1551\"}],\"margin\":[0,0,0,0],\"name\":\"Row02800\",\"tags\":[\"embedded\"]},\"id\":\"1482\",\"type\":\"Row\"},{\"attributes\":{},\"id\":\"1505\",\"type\":\"WheelZoomTool\"},{\"attributes\":{},\"id\":\"1517\",\"type\":\"Selection\"},{\"attributes\":{\"overlay\":{\"id\":\"1508\"}},\"id\":\"1506\",\"type\":\"BoxZoomTool\"},{\"attributes\":{},\"id\":\"1526\",\"type\":\"CategoricalTickFormatter\"},{\"attributes\":{\"margin\":[5,5,5,5],\"name\":\"HSpacer02805\",\"sizing_mode\":\"stretch_width\"},\"id\":\"1551\",\"type\":\"Spacer\"},{\"attributes\":{\"data\":{\"Revenue\":[1976157000,2049546000,2094850000,2160979000,2256851000,2501199000,2621250000,2671908000,2702776000,2839670000],\"Years\":[\"Q1 - 2018\",\"Q2 - 2018\",\"Q3 - 2018\",\"Q4 - 2018\",\"Q1 - 2019\",\"Q2 - 2019\",\"Q3 - 2019\",\"Q4 - 2019\",\"Q1 - 2020\",\"Q2 - 2020\"]},\"selected\":{\"id\":\"1517\"},\"selection_policy\":{\"id\":\"1538\"}},\"id\":\"1516\",\"type\":\"ColumnDataSource\"},{\"attributes\":{},\"id\":\"1530\",\"type\":\"AllLabels\"},{\"attributes\":{\"line_color\":\"#30a2da\",\"line_width\":2,\"x\":{\"field\":\"Years\"},\"y\":{\"field\":\"Revenue\"}},\"id\":\"1524\",\"type\":\"Line\"},{\"attributes\":{},\"id\":\"1492\",\"type\":\"CategoricalScale\"},{\"attributes\":{\"coordinates\":null,\"group\":null,\"text\":\"US and Canada revenue plot\",\"text_color\":\"black\",\"text_font_size\":\"12pt\"},\"id\":\"1488\",\"type\":\"Title\"},{\"attributes\":{},\"id\":\"1494\",\"type\":\"LinearScale\"},{\"attributes\":{},\"id\":\"1500\",\"type\":\"BasicTicker\"},{\"attributes\":{\"factors\":[\"Q1 - 2018\",\"Q2 - 2018\",\"Q3 - 2018\",\"Q4 - 2018\",\"Q1 - 2019\",\"Q2 - 2019\",\"Q3 - 2019\",\"Q4 - 2019\",\"Q1 - 2020\",\"Q2 - 2020\"],\"tags\":[[[\"Years\",\"Years\",null]]]},\"id\":\"1484\",\"type\":\"FactorRange\"},{\"attributes\":{},\"id\":\"1497\",\"type\":\"CategoricalTicker\"},{\"attributes\":{\"axis_label\":\"Revenue\",\"coordinates\":null,\"formatter\":{\"id\":\"1529\"},\"group\":null,\"major_label_policy\":{\"id\":\"1530\"},\"ticker\":{\"id\":\"1500\"}},\"id\":\"1499\",\"type\":\"LinearAxis\"},{\"attributes\":{\"callback\":null,\"renderers\":[{\"id\":\"1522\"}],\"tags\":[\"hv_created\"],\"tooltips\":[[\"Years\",\"@{Years}\"],[\"Revenue\",\"@{Revenue}\"]]},\"id\":\"1486\",\"type\":\"HoverTool\"},{\"attributes\":{\"below\":[{\"id\":\"1496\"}],\"center\":[{\"id\":\"1498\"},{\"id\":\"1502\"}],\"height\":300,\"left\":[{\"id\":\"1499\"}],\"margin\":[5,5,5,5],\"min_border_bottom\":10,\"min_border_left\":10,\"min_border_right\":10,\"min_border_top\":10,\"renderers\":[{\"id\":\"1522\"}],\"sizing_mode\":\"fixed\",\"title\":{\"id\":\"1488\"},\"toolbar\":{\"id\":\"1509\"},\"width\":700,\"x_range\":{\"id\":\"1484\"},\"x_scale\":{\"id\":\"1492\"},\"y_range\":{\"id\":\"1485\"},\"y_scale\":{\"id\":\"1494\"}},\"id\":\"1487\",\"subtype\":\"Figure\",\"type\":\"Plot\"},{\"attributes\":{\"axis\":{\"id\":\"1499\"},\"coordinates\":null,\"dimension\":1,\"grid_line_color\":null,\"group\":null,\"ticker\":null},\"id\":\"1502\",\"type\":\"Grid\"},{\"attributes\":{},\"id\":\"1527\",\"type\":\"AllLabels\"},{\"attributes\":{},\"id\":\"1538\",\"type\":\"UnionRenderers\"},{\"attributes\":{\"margin\":[5,5,5,5],\"name\":\"HSpacer02804\",\"sizing_mode\":\"stretch_width\"},\"id\":\"1483\",\"type\":\"Spacer\"},{\"attributes\":{\"coordinates\":null,\"data_source\":{\"id\":\"1516\"},\"glyph\":{\"id\":\"1519\"},\"group\":null,\"hover_glyph\":null,\"muted_glyph\":{\"id\":\"1521\"},\"nonselection_glyph\":{\"id\":\"1520\"},\"selection_glyph\":{\"id\":\"1524\"},\"view\":{\"id\":\"1523\"}},\"id\":\"1522\",\"type\":\"GlyphRenderer\"}],\"root_ids\":[\"1482\"]},\"title\":\"Bokeh Application\",\"version\":\"2.4.1\"}};\n",
       "    var render_items = [{\"docid\":\"9cd96add-006d-40ea-a746-9c1e840f61b0\",\"root_ids\":[\"1482\"],\"roots\":{\"1482\":\"ddada8b7-1b10-473d-8cc1-e8fa00c5f58f\"}}];\n",
       "    root.Bokeh.embed.embed_items_notebook(docs_json, render_items);\n",
       "  }\n",
       "  if (root.Bokeh !== undefined && root.Bokeh.Panel !== undefined) {\n",
       "    embed_document(root);\n",
       "  } else {\n",
       "    var attempts = 0;\n",
       "    var timer = setInterval(function(root) {\n",
       "      if (root.Bokeh !== undefined && root.Bokeh.Panel !== undefined) {\n",
       "        clearInterval(timer);\n",
       "        embed_document(root);\n",
       "      } else if (document.readyState == \"complete\") {\n",
       "        attempts++;\n",
       "        if (attempts > 200) {\n",
       "          clearInterval(timer);\n",
       "          console.log(\"Bokeh: ERROR: Unable to run BokehJS code because BokehJS library is missing\");\n",
       "        }\n",
       "      }\n",
       "    }, 25, root)\n",
       "  }\n",
       "})(window);</script>"
      ],
      "text/plain": [
       ":Curve   [Years]   (Revenue)"
      ]
     },
     "execution_count": 30,
     "metadata": {
      "application/vnd.holoviews_exec.v0+json": {
       "id": "1482"
      }
     },
     "output_type": "execute_result"
    }
   ],
   "source": [
    "# Add a title to your US and Canada revenue plot using the label parameter\n",
    "# YOUR CODE HERE\n",
    "us_canada_revenue[\"Revenue\"].hvplot(\n",
    "    xlabel=\"Years\",\n",
    "    ylabel=\"Revenue\",\n",
    "    rot=45\n",
    ").opts(\n",
    "    title= \"US and Canada revenue plot\"\n",
    ")   \n"
   ]
  },
  {
   "cell_type": "markdown",
   "metadata": {},
   "source": [
    "## Step 5: Use the yformatter option to format the y-axis values."
   ]
  },
  {
   "cell_type": "code",
   "execution_count": 31,
   "metadata": {},
   "outputs": [
    {
     "data": {},
     "metadata": {},
     "output_type": "display_data"
    },
    {
     "data": {
      "application/vnd.holoviews_exec.v0+json": "",
      "text/html": [
       "<div id='1603'>\n",
       "\n",
       "\n",
       "\n",
       "\n",
       "\n",
       "  <div class=\"bk-root\" id=\"a6a4e51b-05ae-4eb0-958b-6928f14c118a\" data-root-id=\"1603\"></div>\n",
       "</div>\n",
       "<script type=\"application/javascript\">(function(root) {\n",
       "  function embed_document(root) {\n",
       "    var docs_json = {\"5cccc2af-31c9-4a21-8ae6-dcce6cb62f00\":{\"defs\":[{\"extends\":null,\"module\":null,\"name\":\"ReactiveHTML1\",\"overrides\":[],\"properties\":[]},{\"extends\":null,\"module\":null,\"name\":\"FlexBox1\",\"overrides\":[],\"properties\":[{\"default\":\"flex-start\",\"kind\":null,\"name\":\"align_content\"},{\"default\":\"flex-start\",\"kind\":null,\"name\":\"align_items\"},{\"default\":\"row\",\"kind\":null,\"name\":\"flex_direction\"},{\"default\":\"wrap\",\"kind\":null,\"name\":\"flex_wrap\"},{\"default\":\"flex-start\",\"kind\":null,\"name\":\"justify_content\"}]},{\"extends\":null,\"module\":null,\"name\":\"TemplateActions1\",\"overrides\":[],\"properties\":[{\"default\":0,\"kind\":null,\"name\":\"open_modal\"},{\"default\":0,\"kind\":null,\"name\":\"close_modal\"}]},{\"extends\":null,\"module\":null,\"name\":\"MaterialTemplateActions1\",\"overrides\":[],\"properties\":[{\"default\":0,\"kind\":null,\"name\":\"open_modal\"},{\"default\":0,\"kind\":null,\"name\":\"close_modal\"}]}],\"roots\":{\"references\":[{\"attributes\":{},\"id\":\"1615\",\"type\":\"LinearScale\"},{\"attributes\":{\"below\":[{\"id\":\"1617\"}],\"center\":[{\"id\":\"1619\"},{\"id\":\"1623\"}],\"height\":300,\"left\":[{\"id\":\"1620\"}],\"margin\":[5,5,5,5],\"min_border_bottom\":10,\"min_border_left\":10,\"min_border_right\":10,\"min_border_top\":10,\"renderers\":[{\"id\":\"1643\"}],\"sizing_mode\":\"fixed\",\"title\":{\"id\":\"1609\"},\"toolbar\":{\"id\":\"1630\"},\"width\":700,\"x_range\":{\"id\":\"1605\"},\"x_scale\":{\"id\":\"1613\"},\"y_range\":{\"id\":\"1606\"},\"y_scale\":{\"id\":\"1615\"}},\"id\":\"1608\",\"subtype\":\"Figure\",\"type\":\"Plot\"},{\"attributes\":{\"tools\":[{\"id\":\"1607\"},{\"id\":\"1624\"},{\"id\":\"1625\"},{\"id\":\"1626\"},{\"id\":\"1627\"},{\"id\":\"1628\"}]},\"id\":\"1630\",\"type\":\"Toolbar\"},{\"attributes\":{\"axis\":{\"id\":\"1620\"},\"coordinates\":null,\"dimension\":1,\"grid_line_color\":null,\"group\":null,\"ticker\":null},\"id\":\"1623\",\"type\":\"Grid\"},{\"attributes\":{\"factors\":[\"Q1 - 2018\",\"Q2 - 2018\",\"Q3 - 2018\",\"Q4 - 2018\",\"Q1 - 2019\",\"Q2 - 2019\",\"Q3 - 2019\",\"Q4 - 2019\",\"Q1 - 2020\",\"Q2 - 2020\"],\"tags\":[[[\"Years\",\"Years\",null]]]},\"id\":\"1605\",\"type\":\"FactorRange\"},{\"attributes\":{},\"id\":\"1618\",\"type\":\"CategoricalTicker\"},{\"attributes\":{\"callback\":null,\"renderers\":[{\"id\":\"1643\"}],\"tags\":[\"hv_created\"],\"tooltips\":[[\"Years\",\"@{Years}\"],[\"Revenue\",\"@{Revenue}\"]]},\"id\":\"1607\",\"type\":\"HoverTool\"},{\"attributes\":{},\"id\":\"1621\",\"type\":\"BasicTicker\"},{\"attributes\":{},\"id\":\"1652\",\"type\":\"AllLabels\"},{\"attributes\":{\"line_alpha\":0.2,\"line_color\":\"#30a2da\",\"line_width\":2,\"x\":{\"field\":\"Years\"},\"y\":{\"field\":\"Revenue\"}},\"id\":\"1642\",\"type\":\"Line\"},{\"attributes\":{\"source\":{\"id\":\"1637\"}},\"id\":\"1644\",\"type\":\"CDSView\"},{\"attributes\":{\"coordinates\":null,\"data_source\":{\"id\":\"1637\"},\"glyph\":{\"id\":\"1640\"},\"group\":null,\"hover_glyph\":null,\"muted_glyph\":{\"id\":\"1642\"},\"nonselection_glyph\":{\"id\":\"1641\"},\"selection_glyph\":{\"id\":\"1645\"},\"view\":{\"id\":\"1644\"}},\"id\":\"1643\",\"type\":\"GlyphRenderer\"},{\"attributes\":{\"line_alpha\":0.1,\"line_color\":\"#30a2da\",\"line_width\":2,\"x\":{\"field\":\"Years\"},\"y\":{\"field\":\"Revenue\"}},\"id\":\"1641\",\"type\":\"Line\"},{\"attributes\":{},\"id\":\"1661\",\"type\":\"UnionRenderers\"},{\"attributes\":{\"format\":\"%.0f\"},\"id\":\"1646\",\"type\":\"PrintfTickFormatter\"},{\"attributes\":{},\"id\":\"1649\",\"type\":\"AllLabels\"},{\"attributes\":{\"axis_label\":\"Revenue\",\"coordinates\":null,\"formatter\":{\"id\":\"1646\"},\"group\":null,\"major_label_policy\":{\"id\":\"1652\"},\"ticker\":{\"id\":\"1621\"}},\"id\":\"1620\",\"type\":\"LinearAxis\"},{\"attributes\":{\"margin\":[5,5,5,5],\"name\":\"HSpacer03028\",\"sizing_mode\":\"stretch_width\"},\"id\":\"1673\",\"type\":\"Spacer\"},{\"attributes\":{},\"id\":\"1624\",\"type\":\"SaveTool\"},{\"attributes\":{},\"id\":\"1638\",\"type\":\"Selection\"},{\"attributes\":{\"end\":2926021300.0,\"reset_end\":2926021300.0,\"reset_start\":1889805700.0,\"start\":1889805700.0,\"tags\":[[[\"Revenue\",\"Revenue\",null]]]},\"id\":\"1606\",\"type\":\"Range1d\"},{\"attributes\":{},\"id\":\"1625\",\"type\":\"PanTool\"},{\"attributes\":{},\"id\":\"1648\",\"type\":\"CategoricalTickFormatter\"},{\"attributes\":{},\"id\":\"1628\",\"type\":\"ResetTool\"},{\"attributes\":{\"axis_label\":\"Years\",\"coordinates\":null,\"formatter\":{\"id\":\"1648\"},\"group\":null,\"major_label_orientation\":0.7853981633974483,\"major_label_policy\":{\"id\":\"1649\"},\"ticker\":{\"id\":\"1618\"}},\"id\":\"1617\",\"type\":\"CategoricalAxis\"},{\"attributes\":{},\"id\":\"1626\",\"type\":\"WheelZoomTool\"},{\"attributes\":{\"axis\":{\"id\":\"1617\"},\"coordinates\":null,\"grid_line_color\":null,\"group\":null,\"ticker\":null},\"id\":\"1619\",\"type\":\"Grid\"},{\"attributes\":{\"overlay\":{\"id\":\"1629\"}},\"id\":\"1627\",\"type\":\"BoxZoomTool\"},{\"attributes\":{\"children\":[{\"id\":\"1604\"},{\"id\":\"1608\"},{\"id\":\"1673\"}],\"margin\":[0,0,0,0],\"name\":\"Row03023\",\"tags\":[\"embedded\"]},\"id\":\"1603\",\"type\":\"Row\"},{\"attributes\":{\"margin\":[5,5,5,5],\"name\":\"HSpacer03027\",\"sizing_mode\":\"stretch_width\"},\"id\":\"1604\",\"type\":\"Spacer\"},{\"attributes\":{},\"id\":\"1613\",\"type\":\"CategoricalScale\"},{\"attributes\":{\"coordinates\":null,\"group\":null,\"text\":\"US and Canada revenue plot\",\"text_color\":\"black\",\"text_font_size\":\"12pt\"},\"id\":\"1609\",\"type\":\"Title\"},{\"attributes\":{\"data\":{\"Revenue\":[1976157000,2049546000,2094850000,2160979000,2256851000,2501199000,2621250000,2671908000,2702776000,2839670000],\"Years\":[\"Q1 - 2018\",\"Q2 - 2018\",\"Q3 - 2018\",\"Q4 - 2018\",\"Q1 - 2019\",\"Q2 - 2019\",\"Q3 - 2019\",\"Q4 - 2019\",\"Q1 - 2020\",\"Q2 - 2020\"]},\"selected\":{\"id\":\"1638\"},\"selection_policy\":{\"id\":\"1661\"}},\"id\":\"1637\",\"type\":\"ColumnDataSource\"},{\"attributes\":{\"line_color\":\"#30a2da\",\"line_width\":2,\"x\":{\"field\":\"Years\"},\"y\":{\"field\":\"Revenue\"}},\"id\":\"1645\",\"type\":\"Line\"},{\"attributes\":{\"line_color\":\"#30a2da\",\"line_width\":2,\"x\":{\"field\":\"Years\"},\"y\":{\"field\":\"Revenue\"}},\"id\":\"1640\",\"type\":\"Line\"},{\"attributes\":{\"bottom_units\":\"screen\",\"coordinates\":null,\"fill_alpha\":0.5,\"fill_color\":\"lightgrey\",\"group\":null,\"left_units\":\"screen\",\"level\":\"overlay\",\"line_alpha\":1.0,\"line_color\":\"black\",\"line_dash\":[4,4],\"line_width\":2,\"right_units\":\"screen\",\"syncable\":false,\"top_units\":\"screen\"},\"id\":\"1629\",\"type\":\"BoxAnnotation\"}],\"root_ids\":[\"1603\"]},\"title\":\"Bokeh Application\",\"version\":\"2.4.1\"}};\n",
       "    var render_items = [{\"docid\":\"5cccc2af-31c9-4a21-8ae6-dcce6cb62f00\",\"root_ids\":[\"1603\"],\"roots\":{\"1603\":\"a6a4e51b-05ae-4eb0-958b-6928f14c118a\"}}];\n",
       "    root.Bokeh.embed.embed_items_notebook(docs_json, render_items);\n",
       "  }\n",
       "  if (root.Bokeh !== undefined && root.Bokeh.Panel !== undefined) {\n",
       "    embed_document(root);\n",
       "  } else {\n",
       "    var attempts = 0;\n",
       "    var timer = setInterval(function(root) {\n",
       "      if (root.Bokeh !== undefined && root.Bokeh.Panel !== undefined) {\n",
       "        clearInterval(timer);\n",
       "        embed_document(root);\n",
       "      } else if (document.readyState == \"complete\") {\n",
       "        attempts++;\n",
       "        if (attempts > 200) {\n",
       "          clearInterval(timer);\n",
       "          console.log(\"Bokeh: ERROR: Unable to run BokehJS code because BokehJS library is missing\");\n",
       "        }\n",
       "      }\n",
       "    }, 25, root)\n",
       "  }\n",
       "})(window);</script>"
      ],
      "text/plain": [
       ":Curve   [Years]   (Revenue)"
      ]
     },
     "execution_count": 31,
     "metadata": {
      "application/vnd.holoviews_exec.v0+json": {
       "id": "1603"
      }
     },
     "output_type": "execute_result"
    }
   ],
   "source": [
    "# Use the yformatter to adjust the y-axis values\n",
    "# s_canada_revenue[\"Revenue\"].hvplot(\n",
    "us_canada_revenue[\"Revenue\"].hvplot(   \n",
    "    xlabel=\"Years\",\n",
    "    ylabel=\"Revenue\",\n",
    "    rot=45\n",
    ").opts(\n",
    "   yformatter='%.0f',\n",
    "   title=\"US and Canada revenue plot\" \n",
    ")\n"
   ]
  },
  {
   "cell_type": "markdown",
   "metadata": {},
   "source": [
    "## Step 6: Add a line_color of blue and hover_line_color of yellow to the plot."
   ]
  },
  {
   "cell_type": "code",
   "execution_count": 33,
   "metadata": {},
   "outputs": [
    {
     "data": {},
     "metadata": {},
     "output_type": "display_data"
    },
    {
     "data": {
      "application/vnd.holoviews_exec.v0+json": "",
      "text/html": [
       "<div id='1720'>\n",
       "\n",
       "\n",
       "\n",
       "\n",
       "\n",
       "  <div class=\"bk-root\" id=\"222dfd59-ee6f-4f28-bcf7-f36ad1d873a2\" data-root-id=\"1720\"></div>\n",
       "</div>\n",
       "<script type=\"application/javascript\">(function(root) {\n",
       "  function embed_document(root) {\n",
       "    var docs_json = {\"406f2e78-250c-4d46-8b0c-d077ea04791b\":{\"defs\":[{\"extends\":null,\"module\":null,\"name\":\"ReactiveHTML1\",\"overrides\":[],\"properties\":[]},{\"extends\":null,\"module\":null,\"name\":\"FlexBox1\",\"overrides\":[],\"properties\":[{\"default\":\"flex-start\",\"kind\":null,\"name\":\"align_content\"},{\"default\":\"flex-start\",\"kind\":null,\"name\":\"align_items\"},{\"default\":\"row\",\"kind\":null,\"name\":\"flex_direction\"},{\"default\":\"wrap\",\"kind\":null,\"name\":\"flex_wrap\"},{\"default\":\"flex-start\",\"kind\":null,\"name\":\"justify_content\"}]},{\"extends\":null,\"module\":null,\"name\":\"TemplateActions1\",\"overrides\":[],\"properties\":[{\"default\":0,\"kind\":null,\"name\":\"open_modal\"},{\"default\":0,\"kind\":null,\"name\":\"close_modal\"}]},{\"extends\":null,\"module\":null,\"name\":\"MaterialTemplateActions1\",\"overrides\":[],\"properties\":[{\"default\":0,\"kind\":null,\"name\":\"open_modal\"},{\"default\":0,\"kind\":null,\"name\":\"close_modal\"}]}],\"roots\":{\"references\":[{\"attributes\":{\"below\":[{\"id\":\"1734\"}],\"center\":[{\"id\":\"1736\"},{\"id\":\"1740\"}],\"height\":300,\"left\":[{\"id\":\"1737\"}],\"margin\":[5,5,5,5],\"min_border_bottom\":10,\"min_border_left\":10,\"min_border_right\":10,\"min_border_top\":10,\"renderers\":[{\"id\":\"1761\"}],\"sizing_mode\":\"fixed\",\"title\":{\"id\":\"1726\"},\"toolbar\":{\"id\":\"1747\"},\"width\":700,\"x_range\":{\"id\":\"1722\"},\"x_scale\":{\"id\":\"1730\"},\"y_range\":{\"id\":\"1723\"},\"y_scale\":{\"id\":\"1732\"}},\"id\":\"1725\",\"subtype\":\"Figure\",\"type\":\"Plot\"},{\"attributes\":{\"margin\":[5,5,5,5],\"name\":\"HSpacer03251\",\"sizing_mode\":\"stretch_width\"},\"id\":\"1791\",\"type\":\"Spacer\"},{\"attributes\":{},\"id\":\"1766\",\"type\":\"CategoricalTickFormatter\"},{\"attributes\":{\"axis_label\":\"Years\",\"coordinates\":null,\"formatter\":{\"id\":\"1766\"},\"group\":null,\"major_label_orientation\":0.7853981633974483,\"major_label_policy\":{\"id\":\"1767\"},\"ticker\":{\"id\":\"1735\"}},\"id\":\"1734\",\"type\":\"CategoricalAxis\"},{\"attributes\":{\"line_alpha\":0.2,\"line_color\":\"blue\",\"line_width\":2,\"x\":{\"field\":\"Years\"},\"y\":{\"field\":\"Revenue\"}},\"id\":\"1760\",\"type\":\"Line\"},{\"attributes\":{\"bottom_units\":\"screen\",\"coordinates\":null,\"fill_alpha\":0.5,\"fill_color\":\"lightgrey\",\"group\":null,\"left_units\":\"screen\",\"level\":\"overlay\",\"line_alpha\":1.0,\"line_color\":\"black\",\"line_dash\":[4,4],\"line_width\":2,\"right_units\":\"screen\",\"syncable\":false,\"top_units\":\"screen\"},\"id\":\"1746\",\"type\":\"BoxAnnotation\"},{\"attributes\":{},\"id\":\"1732\",\"type\":\"LinearScale\"},{\"attributes\":{\"line_color\":\"blue\",\"line_width\":2,\"x\":{\"field\":\"Years\"},\"y\":{\"field\":\"Revenue\"}},\"id\":\"1757\",\"type\":\"Line\"},{\"attributes\":{\"line_color\":\"blue\",\"line_width\":2,\"x\":{\"field\":\"Years\"},\"y\":{\"field\":\"Revenue\"}},\"id\":\"1763\",\"type\":\"Line\"},{\"attributes\":{},\"id\":\"1779\",\"type\":\"UnionRenderers\"},{\"attributes\":{\"coordinates\":null,\"data_source\":{\"id\":\"1754\"},\"glyph\":{\"id\":\"1757\"},\"group\":null,\"hover_glyph\":{\"id\":\"1759\"},\"muted_glyph\":{\"id\":\"1760\"},\"nonselection_glyph\":{\"id\":\"1758\"},\"selection_glyph\":{\"id\":\"1763\"},\"view\":{\"id\":\"1762\"}},\"id\":\"1761\",\"type\":\"GlyphRenderer\"},{\"attributes\":{\"tools\":[{\"id\":\"1724\"},{\"id\":\"1741\"},{\"id\":\"1742\"},{\"id\":\"1743\"},{\"id\":\"1744\"},{\"id\":\"1745\"}]},\"id\":\"1747\",\"type\":\"Toolbar\"},{\"attributes\":{\"factors\":[\"Q1 - 2018\",\"Q2 - 2018\",\"Q3 - 2018\",\"Q4 - 2018\",\"Q1 - 2019\",\"Q2 - 2019\",\"Q3 - 2019\",\"Q4 - 2019\",\"Q1 - 2020\",\"Q2 - 2020\"],\"tags\":[[[\"Years\",\"Years\",null]]]},\"id\":\"1722\",\"type\":\"FactorRange\"},{\"attributes\":{\"coordinates\":null,\"group\":null,\"text\":\"US and Canada revenue plot\",\"text_color\":\"black\",\"text_font_size\":\"12pt\"},\"id\":\"1726\",\"type\":\"Title\"},{\"attributes\":{},\"id\":\"1742\",\"type\":\"PanTool\"},{\"attributes\":{\"children\":[{\"id\":\"1721\"},{\"id\":\"1725\"},{\"id\":\"1791\"}],\"margin\":[0,0,0,0],\"name\":\"Row03246\",\"tags\":[\"embedded\"]},\"id\":\"1720\",\"type\":\"Row\"},{\"attributes\":{},\"id\":\"1741\",\"type\":\"SaveTool\"},{\"attributes\":{\"line_alpha\":0.1,\"line_color\":\"blue\",\"line_width\":2,\"x\":{\"field\":\"Years\"},\"y\":{\"field\":\"Revenue\"}},\"id\":\"1758\",\"type\":\"Line\"},{\"attributes\":{},\"id\":\"1770\",\"type\":\"AllLabels\"},{\"attributes\":{},\"id\":\"1735\",\"type\":\"CategoricalTicker\"},{\"attributes\":{\"callback\":null,\"renderers\":[{\"id\":\"1761\"}],\"tags\":[\"hv_created\"],\"tooltips\":[[\"Years\",\"@{Years}\"],[\"Revenue\",\"@{Revenue}\"]]},\"id\":\"1724\",\"type\":\"HoverTool\"},{\"attributes\":{},\"id\":\"1745\",\"type\":\"ResetTool\"},{\"attributes\":{},\"id\":\"1767\",\"type\":\"AllLabels\"},{\"attributes\":{},\"id\":\"1755\",\"type\":\"Selection\"},{\"attributes\":{\"end\":2926021300.0,\"reset_end\":2926021300.0,\"reset_start\":1889805700.0,\"start\":1889805700.0,\"tags\":[[[\"Revenue\",\"Revenue\",null]]]},\"id\":\"1723\",\"type\":\"Range1d\"},{\"attributes\":{},\"id\":\"1730\",\"type\":\"CategoricalScale\"},{\"attributes\":{\"margin\":[5,5,5,5],\"name\":\"HSpacer03250\",\"sizing_mode\":\"stretch_width\"},\"id\":\"1721\",\"type\":\"Spacer\"},{\"attributes\":{\"axis\":{\"id\":\"1737\"},\"coordinates\":null,\"dimension\":1,\"grid_line_color\":null,\"group\":null,\"ticker\":null},\"id\":\"1740\",\"type\":\"Grid\"},{\"attributes\":{\"data\":{\"Revenue\":[1976157000,2049546000,2094850000,2160979000,2256851000,2501199000,2621250000,2671908000,2702776000,2839670000],\"Years\":[\"Q1 - 2018\",\"Q2 - 2018\",\"Q3 - 2018\",\"Q4 - 2018\",\"Q1 - 2019\",\"Q2 - 2019\",\"Q3 - 2019\",\"Q4 - 2019\",\"Q1 - 2020\",\"Q2 - 2020\"]},\"selected\":{\"id\":\"1755\"},\"selection_policy\":{\"id\":\"1779\"}},\"id\":\"1754\",\"type\":\"ColumnDataSource\"},{\"attributes\":{\"overlay\":{\"id\":\"1746\"}},\"id\":\"1744\",\"type\":\"BoxZoomTool\"},{\"attributes\":{\"axis\":{\"id\":\"1734\"},\"coordinates\":null,\"grid_line_color\":null,\"group\":null,\"ticker\":null},\"id\":\"1736\",\"type\":\"Grid\"},{\"attributes\":{\"line_color\":\"yellow\",\"line_width\":2,\"x\":{\"field\":\"Years\"},\"y\":{\"field\":\"Revenue\"}},\"id\":\"1759\",\"type\":\"Line\"},{\"attributes\":{\"axis_label\":\"Revenue\",\"coordinates\":null,\"formatter\":{\"id\":\"1764\"},\"group\":null,\"major_label_policy\":{\"id\":\"1770\"},\"ticker\":{\"id\":\"1738\"}},\"id\":\"1737\",\"type\":\"LinearAxis\"},{\"attributes\":{\"format\":\"%.0f\"},\"id\":\"1764\",\"type\":\"PrintfTickFormatter\"},{\"attributes\":{},\"id\":\"1738\",\"type\":\"BasicTicker\"},{\"attributes\":{\"source\":{\"id\":\"1754\"}},\"id\":\"1762\",\"type\":\"CDSView\"},{\"attributes\":{},\"id\":\"1743\",\"type\":\"WheelZoomTool\"}],\"root_ids\":[\"1720\"]},\"title\":\"Bokeh Application\",\"version\":\"2.4.1\"}};\n",
       "    var render_items = [{\"docid\":\"406f2e78-250c-4d46-8b0c-d077ea04791b\",\"root_ids\":[\"1720\"],\"roots\":{\"1720\":\"222dfd59-ee6f-4f28-bcf7-f36ad1d873a2\"}}];\n",
       "    root.Bokeh.embed.embed_items_notebook(docs_json, render_items);\n",
       "  }\n",
       "  if (root.Bokeh !== undefined && root.Bokeh.Panel !== undefined) {\n",
       "    embed_document(root);\n",
       "  } else {\n",
       "    var attempts = 0;\n",
       "    var timer = setInterval(function(root) {\n",
       "      if (root.Bokeh !== undefined && root.Bokeh.Panel !== undefined) {\n",
       "        clearInterval(timer);\n",
       "        embed_document(root);\n",
       "      } else if (document.readyState == \"complete\") {\n",
       "        attempts++;\n",
       "        if (attempts > 200) {\n",
       "          clearInterval(timer);\n",
       "          console.log(\"Bokeh: ERROR: Unable to run BokehJS code because BokehJS library is missing\");\n",
       "        }\n",
       "      }\n",
       "    }, 25, root)\n",
       "  }\n",
       "})(window);</script>"
      ],
      "text/plain": [
       ":Curve   [Years]   (Revenue)"
      ]
     },
     "execution_count": 33,
     "metadata": {
      "application/vnd.holoviews_exec.v0+json": {
       "id": "1720"
      }
     },
     "output_type": "execute_result"
    }
   ],
   "source": [
    "# Add a line_color of blue and a hover_line_color of yellow\n",
    "# YOUR CODE HERE\n",
    "us_canada_revenue[\"Revenue\"].hvplot(   \n",
    "    xlabel=\"Years\",\n",
    "    ylabel=\"Revenue\",\n",
    "    rot=45\n",
    ").opts(\n",
    "   yformatter='%.0f',\n",
    "   title= \"US and Canada revenue plot\",\n",
    "   color= \"blue\",\n",
    "   hover_color= \"yellow\"\n",
    ") "
   ]
  },
  {
   "cell_type": "markdown",
   "metadata": {},
   "source": [
    "## Step 7. Save the plot you just created to a variable so that it can eventually be utilized in an overlay plot."
   ]
  },
  {
   "cell_type": "code",
   "execution_count": 35,
   "metadata": {},
   "outputs": [
    {
     "data": {},
     "metadata": {},
     "output_type": "display_data"
    },
    {
     "data": {
      "application/vnd.holoviews_exec.v0+json": "",
      "text/html": [
       "<div id='1838'>\n",
       "\n",
       "\n",
       "\n",
       "\n",
       "\n",
       "  <div class=\"bk-root\" id=\"23f76b7b-2949-4cac-a433-2cc2804090af\" data-root-id=\"1838\"></div>\n",
       "</div>\n",
       "<script type=\"application/javascript\">(function(root) {\n",
       "  function embed_document(root) {\n",
       "    var docs_json = {\"87c7024f-cb4b-4027-9d48-e0511ee32921\":{\"defs\":[{\"extends\":null,\"module\":null,\"name\":\"ReactiveHTML1\",\"overrides\":[],\"properties\":[]},{\"extends\":null,\"module\":null,\"name\":\"FlexBox1\",\"overrides\":[],\"properties\":[{\"default\":\"flex-start\",\"kind\":null,\"name\":\"align_content\"},{\"default\":\"flex-start\",\"kind\":null,\"name\":\"align_items\"},{\"default\":\"row\",\"kind\":null,\"name\":\"flex_direction\"},{\"default\":\"wrap\",\"kind\":null,\"name\":\"flex_wrap\"},{\"default\":\"flex-start\",\"kind\":null,\"name\":\"justify_content\"}]},{\"extends\":null,\"module\":null,\"name\":\"TemplateActions1\",\"overrides\":[],\"properties\":[{\"default\":0,\"kind\":null,\"name\":\"open_modal\"},{\"default\":0,\"kind\":null,\"name\":\"close_modal\"}]},{\"extends\":null,\"module\":null,\"name\":\"MaterialTemplateActions1\",\"overrides\":[],\"properties\":[{\"default\":0,\"kind\":null,\"name\":\"open_modal\"},{\"default\":0,\"kind\":null,\"name\":\"close_modal\"}]}],\"roots\":{\"references\":[{\"attributes\":{\"coordinates\":null,\"group\":null,\"text\":\"US and Canada revenue plot\",\"text_color\":\"black\",\"text_font_size\":\"12pt\"},\"id\":\"1844\",\"type\":\"Title\"},{\"attributes\":{\"axis_label\":\"Years\",\"coordinates\":null,\"formatter\":{\"id\":\"1884\"},\"group\":null,\"major_label_orientation\":0.7853981633974483,\"major_label_policy\":{\"id\":\"1885\"},\"ticker\":{\"id\":\"1853\"}},\"id\":\"1852\",\"type\":\"CategoricalAxis\"},{\"attributes\":{\"axis\":{\"id\":\"1852\"},\"coordinates\":null,\"grid_line_color\":null,\"group\":null,\"ticker\":null},\"id\":\"1854\",\"type\":\"Grid\"},{\"attributes\":{\"margin\":[5,5,5,5],\"name\":\"HSpacer03591\",\"sizing_mode\":\"stretch_width\"},\"id\":\"1909\",\"type\":\"Spacer\"},{\"attributes\":{},\"id\":\"1885\",\"type\":\"AllLabels\"},{\"attributes\":{},\"id\":\"1884\",\"type\":\"CategoricalTickFormatter\"},{\"attributes\":{},\"id\":\"1897\",\"type\":\"UnionRenderers\"},{\"attributes\":{},\"id\":\"1856\",\"type\":\"BasicTicker\"},{\"attributes\":{},\"id\":\"1853\",\"type\":\"CategoricalTicker\"},{\"attributes\":{},\"id\":\"1873\",\"type\":\"Selection\"},{\"attributes\":{\"children\":[{\"id\":\"1839\"},{\"id\":\"1843\"},{\"id\":\"1909\"}],\"margin\":[0,0,0,0],\"name\":\"Row03586\",\"tags\":[\"embedded\"]},\"id\":\"1838\",\"type\":\"Row\"},{\"attributes\":{\"end\":2926021300.0,\"reset_end\":2926021300.0,\"reset_start\":1889805700.0,\"start\":1889805700.0,\"tags\":[[[\"Revenue\",\"Revenue\",null]]]},\"id\":\"1841\",\"type\":\"Range1d\"},{\"attributes\":{\"axis_label\":\"Revenue\",\"coordinates\":null,\"formatter\":{\"id\":\"1882\"},\"group\":null,\"major_label_policy\":{\"id\":\"1888\"},\"ticker\":{\"id\":\"1856\"}},\"id\":\"1855\",\"type\":\"LinearAxis\"},{\"attributes\":{\"axis\":{\"id\":\"1855\"},\"coordinates\":null,\"dimension\":1,\"grid_line_color\":null,\"group\":null,\"ticker\":null},\"id\":\"1858\",\"type\":\"Grid\"},{\"attributes\":{\"line_color\":\"blue\",\"line_width\":2,\"x\":{\"field\":\"Years\"},\"y\":{\"field\":\"Revenue\"}},\"id\":\"1881\",\"type\":\"Line\"},{\"attributes\":{\"line_color\":\"yellow\",\"line_width\":2,\"x\":{\"field\":\"Years\"},\"y\":{\"field\":\"Revenue\"}},\"id\":\"1877\",\"type\":\"Line\"},{\"attributes\":{\"factors\":[\"Q1 - 2018\",\"Q2 - 2018\",\"Q3 - 2018\",\"Q4 - 2018\",\"Q1 - 2019\",\"Q2 - 2019\",\"Q3 - 2019\",\"Q4 - 2019\",\"Q1 - 2020\",\"Q2 - 2020\"],\"tags\":[[[\"Years\",\"Years\",null]]]},\"id\":\"1840\",\"type\":\"FactorRange\"},{\"attributes\":{\"margin\":[5,5,5,5],\"name\":\"HSpacer03590\",\"sizing_mode\":\"stretch_width\"},\"id\":\"1839\",\"type\":\"Spacer\"},{\"attributes\":{\"source\":{\"id\":\"1872\"}},\"id\":\"1880\",\"type\":\"CDSView\"},{\"attributes\":{\"coordinates\":null,\"data_source\":{\"id\":\"1872\"},\"glyph\":{\"id\":\"1875\"},\"group\":null,\"hover_glyph\":{\"id\":\"1877\"},\"muted_glyph\":{\"id\":\"1878\"},\"nonselection_glyph\":{\"id\":\"1876\"},\"selection_glyph\":{\"id\":\"1881\"},\"view\":{\"id\":\"1880\"}},\"id\":\"1879\",\"type\":\"GlyphRenderer\"},{\"attributes\":{\"callback\":null,\"renderers\":[{\"id\":\"1879\"}],\"tags\":[\"hv_created\"],\"tooltips\":[[\"Years\",\"@{Years}\"],[\"Revenue\",\"@{Revenue}\"]]},\"id\":\"1842\",\"type\":\"HoverTool\"},{\"attributes\":{\"data\":{\"Revenue\":[1976157000,2049546000,2094850000,2160979000,2256851000,2501199000,2621250000,2671908000,2702776000,2839670000],\"Years\":[\"Q1 - 2018\",\"Q2 - 2018\",\"Q3 - 2018\",\"Q4 - 2018\",\"Q1 - 2019\",\"Q2 - 2019\",\"Q3 - 2019\",\"Q4 - 2019\",\"Q1 - 2020\",\"Q2 - 2020\"]},\"selected\":{\"id\":\"1873\"},\"selection_policy\":{\"id\":\"1897\"}},\"id\":\"1872\",\"type\":\"ColumnDataSource\"},{\"attributes\":{\"line_alpha\":0.2,\"line_color\":\"blue\",\"line_width\":2,\"x\":{\"field\":\"Years\"},\"y\":{\"field\":\"Revenue\"}},\"id\":\"1878\",\"type\":\"Line\"},{\"attributes\":{\"tools\":[{\"id\":\"1842\"},{\"id\":\"1859\"},{\"id\":\"1860\"},{\"id\":\"1861\"},{\"id\":\"1862\"},{\"id\":\"1863\"}]},\"id\":\"1865\",\"type\":\"Toolbar\"},{\"attributes\":{\"bottom_units\":\"screen\",\"coordinates\":null,\"fill_alpha\":0.5,\"fill_color\":\"lightgrey\",\"group\":null,\"left_units\":\"screen\",\"level\":\"overlay\",\"line_alpha\":1.0,\"line_color\":\"black\",\"line_dash\":[4,4],\"line_width\":2,\"right_units\":\"screen\",\"syncable\":false,\"top_units\":\"screen\"},\"id\":\"1864\",\"type\":\"BoxAnnotation\"},{\"attributes\":{\"line_alpha\":0.1,\"line_color\":\"blue\",\"line_width\":2,\"x\":{\"field\":\"Years\"},\"y\":{\"field\":\"Revenue\"}},\"id\":\"1876\",\"type\":\"Line\"},{\"attributes\":{},\"id\":\"1859\",\"type\":\"SaveTool\"},{\"attributes\":{},\"id\":\"1888\",\"type\":\"AllLabels\"},{\"attributes\":{},\"id\":\"1848\",\"type\":\"CategoricalScale\"},{\"attributes\":{},\"id\":\"1860\",\"type\":\"PanTool\"},{\"attributes\":{},\"id\":\"1863\",\"type\":\"ResetTool\"},{\"attributes\":{},\"id\":\"1850\",\"type\":\"LinearScale\"},{\"attributes\":{\"line_color\":\"blue\",\"line_width\":2,\"x\":{\"field\":\"Years\"},\"y\":{\"field\":\"Revenue\"}},\"id\":\"1875\",\"type\":\"Line\"},{\"attributes\":{},\"id\":\"1861\",\"type\":\"WheelZoomTool\"},{\"attributes\":{\"format\":\"%.0f\"},\"id\":\"1882\",\"type\":\"PrintfTickFormatter\"},{\"attributes\":{\"overlay\":{\"id\":\"1864\"}},\"id\":\"1862\",\"type\":\"BoxZoomTool\"},{\"attributes\":{\"below\":[{\"id\":\"1852\"}],\"center\":[{\"id\":\"1854\"},{\"id\":\"1858\"}],\"height\":300,\"left\":[{\"id\":\"1855\"}],\"margin\":[5,5,5,5],\"min_border_bottom\":10,\"min_border_left\":10,\"min_border_right\":10,\"min_border_top\":10,\"renderers\":[{\"id\":\"1879\"}],\"sizing_mode\":\"fixed\",\"title\":{\"id\":\"1844\"},\"toolbar\":{\"id\":\"1865\"},\"width\":700,\"x_range\":{\"id\":\"1840\"},\"x_scale\":{\"id\":\"1848\"},\"y_range\":{\"id\":\"1841\"},\"y_scale\":{\"id\":\"1850\"}},\"id\":\"1843\",\"subtype\":\"Figure\",\"type\":\"Plot\"}],\"root_ids\":[\"1838\"]},\"title\":\"Bokeh Application\",\"version\":\"2.4.1\"}};\n",
       "    var render_items = [{\"docid\":\"87c7024f-cb4b-4027-9d48-e0511ee32921\",\"root_ids\":[\"1838\"],\"roots\":{\"1838\":\"23f76b7b-2949-4cac-a433-2cc2804090af\"}}];\n",
       "    root.Bokeh.embed.embed_items_notebook(docs_json, render_items);\n",
       "  }\n",
       "  if (root.Bokeh !== undefined && root.Bokeh.Panel !== undefined) {\n",
       "    embed_document(root);\n",
       "  } else {\n",
       "    var attempts = 0;\n",
       "    var timer = setInterval(function(root) {\n",
       "      if (root.Bokeh !== undefined && root.Bokeh.Panel !== undefined) {\n",
       "        clearInterval(timer);\n",
       "        embed_document(root);\n",
       "      } else if (document.readyState == \"complete\") {\n",
       "        attempts++;\n",
       "        if (attempts > 200) {\n",
       "          clearInterval(timer);\n",
       "          console.log(\"Bokeh: ERROR: Unable to run BokehJS code because BokehJS library is missing\");\n",
       "        }\n",
       "      }\n",
       "    }, 25, root)\n",
       "  }\n",
       "})(window);</script>"
      ],
      "text/plain": [
       ":Curve   [Years]   (Revenue)"
      ]
     },
     "execution_count": 35,
     "metadata": {
      "application/vnd.holoviews_exec.v0+json": {
       "id": "1838"
      }
     },
     "output_type": "execute_result"
    }
   ],
   "source": [
    "# Save the US and Canada revenue plot to a variable\n",
    "US_Canada_df = us_canada_revenue[\"Revenue\"].hvplot(   \n",
    "    xlabel=\"Years\",\n",
    "    ylabel=\"Revenue\",\n",
    "    rot=45\n",
    ").opts(\n",
    "   yformatter='%.0f',\n",
    "   title= \"US and Canada revenue plot\",\n",
    "   color= \"blue\",\n",
    "   hover_color= \"yellow\"\n",
    ") \n",
    "# Show the plot\n",
    "US_Canada_df"
   ]
  },
  {
   "cell_type": "markdown",
   "metadata": {},
   "source": [
    "## Step 8: Create a line plot that visualizes the growth in revenue for the Europe, Middle East and Africa region. Style it with the same options utilized in the first plot. However, make the line_color equal to orange. Be sure to save this plot to a variable as well."
   ]
  },
  {
   "cell_type": "code",
   "execution_count": 40,
   "metadata": {},
   "outputs": [],
   "source": [
    "# Create a DataFrame that slices the subscriber data for the Europe, Middle East and Africa\n",
    "emea_revenue = regional_revenue_df.loc[regional_revenue_df['Area'] == \"Europe, Middle East and Africa\"]\n",
    "\n",
    "# Set the index of the DataFrame to Years\n",
    "emea_revenue = emea_revenue.set_index('Years')\n"
   ]
  },
  {
   "cell_type": "code",
   "execution_count": 41,
   "metadata": {},
   "outputs": [
    {
     "data": {},
     "metadata": {},
     "output_type": "display_data"
    },
    {
     "data": {
      "application/vnd.holoviews_exec.v0+json": "",
      "text/html": [
       "<div id='1956'>\n",
       "\n",
       "\n",
       "\n",
       "\n",
       "\n",
       "  <div class=\"bk-root\" id=\"b984936e-45bc-492e-9c1d-817d2c714e17\" data-root-id=\"1956\"></div>\n",
       "</div>\n",
       "<script type=\"application/javascript\">(function(root) {\n",
       "  function embed_document(root) {\n",
       "    var docs_json = {\"121fc528-74fd-495e-9073-cf178b93b153\":{\"defs\":[{\"extends\":null,\"module\":null,\"name\":\"ReactiveHTML1\",\"overrides\":[],\"properties\":[]},{\"extends\":null,\"module\":null,\"name\":\"FlexBox1\",\"overrides\":[],\"properties\":[{\"default\":\"flex-start\",\"kind\":null,\"name\":\"align_content\"},{\"default\":\"flex-start\",\"kind\":null,\"name\":\"align_items\"},{\"default\":\"row\",\"kind\":null,\"name\":\"flex_direction\"},{\"default\":\"wrap\",\"kind\":null,\"name\":\"flex_wrap\"},{\"default\":\"flex-start\",\"kind\":null,\"name\":\"justify_content\"}]},{\"extends\":null,\"module\":null,\"name\":\"TemplateActions1\",\"overrides\":[],\"properties\":[{\"default\":0,\"kind\":null,\"name\":\"open_modal\"},{\"default\":0,\"kind\":null,\"name\":\"close_modal\"}]},{\"extends\":null,\"module\":null,\"name\":\"MaterialTemplateActions1\",\"overrides\":[],\"properties\":[{\"default\":0,\"kind\":null,\"name\":\"open_modal\"},{\"default\":0,\"kind\":null,\"name\":\"close_modal\"}]}],\"roots\":{\"references\":[{\"attributes\":{\"line_alpha\":0.1,\"line_color\":\"orange\",\"line_width\":2,\"x\":{\"field\":\"Years\"},\"y\":{\"field\":\"Revenue\"}},\"id\":\"1994\",\"type\":\"Line\"},{\"attributes\":{\"axis_label\":\"Years\",\"coordinates\":null,\"formatter\":{\"id\":\"2001\"},\"group\":null,\"major_label_orientation\":0.7853981633974483,\"major_label_policy\":{\"id\":\"2002\"},\"ticker\":{\"id\":\"1971\"}},\"id\":\"1970\",\"type\":\"CategoricalAxis\"},{\"attributes\":{\"overlay\":{\"id\":\"1982\"}},\"id\":\"1980\",\"type\":\"BoxZoomTool\"},{\"attributes\":{\"format\":\"%.0f\"},\"id\":\"1999\",\"type\":\"PrintfTickFormatter\"},{\"attributes\":{\"line_alpha\":0.2,\"line_color\":\"orange\",\"line_width\":2,\"x\":{\"field\":\"Years\"},\"y\":{\"field\":\"Revenue\"}},\"id\":\"1995\",\"type\":\"Line\"},{\"attributes\":{},\"id\":\"1981\",\"type\":\"ResetTool\"},{\"attributes\":{\"axis\":{\"id\":\"1970\"},\"coordinates\":null,\"grid_line_color\":null,\"group\":null,\"ticker\":null},\"id\":\"1972\",\"type\":\"Grid\"},{\"attributes\":{},\"id\":\"1978\",\"type\":\"PanTool\"},{\"attributes\":{},\"id\":\"2005\",\"type\":\"AllLabels\"},{\"attributes\":{\"line_color\":\"orange\",\"line_width\":2,\"x\":{\"field\":\"Years\"},\"y\":{\"field\":\"Revenue\"}},\"id\":\"1993\",\"type\":\"Line\"},{\"attributes\":{\"line_color\":\"orange\",\"line_width\":2,\"x\":{\"field\":\"Years\"},\"y\":{\"field\":\"Revenue\"}},\"id\":\"1998\",\"type\":\"Line\"},{\"attributes\":{\"callback\":null,\"renderers\":[{\"id\":\"1996\"}],\"tags\":[\"hv_created\"],\"tooltips\":[[\"Years\",\"@{Years}\"],[\"Revenue\",\"@{Revenue}\"]]},\"id\":\"1960\",\"type\":\"HoverTool\"},{\"attributes\":{},\"id\":\"2002\",\"type\":\"AllLabels\"},{\"attributes\":{},\"id\":\"1991\",\"type\":\"Selection\"},{\"attributes\":{},\"id\":\"1966\",\"type\":\"CategoricalScale\"},{\"attributes\":{\"coordinates\":null,\"group\":null,\"text\":\"emea_revenue revenue plot\",\"text_color\":\"black\",\"text_font_size\":\"12pt\"},\"id\":\"1962\",\"type\":\"Title\"},{\"attributes\":{\"bottom_units\":\"screen\",\"coordinates\":null,\"fill_alpha\":0.5,\"fill_color\":\"lightgrey\",\"group\":null,\"left_units\":\"screen\",\"level\":\"overlay\",\"line_alpha\":1.0,\"line_color\":\"black\",\"line_dash\":[4,4],\"line_width\":2,\"right_units\":\"screen\",\"syncable\":false,\"top_units\":\"screen\"},\"id\":\"1982\",\"type\":\"BoxAnnotation\"},{\"attributes\":{\"tools\":[{\"id\":\"1960\"},{\"id\":\"1977\"},{\"id\":\"1978\"},{\"id\":\"1979\"},{\"id\":\"1980\"},{\"id\":\"1981\"}]},\"id\":\"1983\",\"type\":\"Toolbar\"},{\"attributes\":{},\"id\":\"1968\",\"type\":\"LinearScale\"},{\"attributes\":{\"below\":[{\"id\":\"1970\"}],\"center\":[{\"id\":\"1972\"},{\"id\":\"1976\"}],\"height\":300,\"left\":[{\"id\":\"1973\"}],\"margin\":[5,5,5,5],\"min_border_bottom\":10,\"min_border_left\":10,\"min_border_right\":10,\"min_border_top\":10,\"renderers\":[{\"id\":\"1996\"}],\"sizing_mode\":\"fixed\",\"title\":{\"id\":\"1962\"},\"toolbar\":{\"id\":\"1983\"},\"width\":700,\"x_range\":{\"id\":\"1958\"},\"x_scale\":{\"id\":\"1966\"},\"y_range\":{\"id\":\"1959\"},\"y_scale\":{\"id\":\"1968\"}},\"id\":\"1961\",\"subtype\":\"Figure\",\"type\":\"Plot\"},{\"attributes\":{},\"id\":\"1974\",\"type\":\"BasicTicker\"},{\"attributes\":{\"margin\":[5,5,5,5],\"name\":\"HSpacer03813\",\"sizing_mode\":\"stretch_width\"},\"id\":\"1957\",\"type\":\"Spacer\"},{\"attributes\":{},\"id\":\"1971\",\"type\":\"CategoricalTicker\"},{\"attributes\":{\"axis_label\":\"Revenue\",\"coordinates\":null,\"formatter\":{\"id\":\"1999\"},\"group\":null,\"major_label_policy\":{\"id\":\"2005\"},\"ticker\":{\"id\":\"1974\"}},\"id\":\"1973\",\"type\":\"LinearAxis\"},{\"attributes\":{},\"id\":\"1979\",\"type\":\"WheelZoomTool\"},{\"attributes\":{},\"id\":\"2014\",\"type\":\"UnionRenderers\"},{\"attributes\":{\"axis\":{\"id\":\"1973\"},\"coordinates\":null,\"dimension\":1,\"grid_line_color\":null,\"group\":null,\"ticker\":null},\"id\":\"1976\",\"type\":\"Grid\"},{\"attributes\":{},\"id\":\"1977\",\"type\":\"SaveTool\"},{\"attributes\":{\"margin\":[5,5,5,5],\"name\":\"HSpacer03814\",\"sizing_mode\":\"stretch_width\"},\"id\":\"2026\",\"type\":\"Spacer\"},{\"attributes\":{\"source\":{\"id\":\"1990\"}},\"id\":\"1997\",\"type\":\"CDSView\"},{\"attributes\":{\"coordinates\":null,\"data_source\":{\"id\":\"1990\"},\"glyph\":{\"id\":\"1993\"},\"group\":null,\"hover_glyph\":null,\"muted_glyph\":{\"id\":\"1995\"},\"nonselection_glyph\":{\"id\":\"1994\"},\"selection_glyph\":{\"id\":\"1998\"},\"view\":{\"id\":\"1997\"}},\"id\":\"1996\",\"type\":\"GlyphRenderer\"},{\"attributes\":{\"data\":{\"Revenue\":[886649000,975497000,1004749000,1096812000,1233379000,1319087000,1428040000,1562561000,1723474000,1892537000],\"Years\":[\"Q1 - 2018\",\"Q2 - 2018\",\"Q3 - 2018\",\"Q4 - 2018\",\"Q1 - 2019\",\"Q2 - 2019\",\"Q3 - 2019\",\"Q4 - 2019\",\"Q1 - 2020\",\"Q2 - 2020\"]},\"selected\":{\"id\":\"1991\"},\"selection_policy\":{\"id\":\"2014\"}},\"id\":\"1990\",\"type\":\"ColumnDataSource\"},{\"attributes\":{},\"id\":\"2001\",\"type\":\"CategoricalTickFormatter\"},{\"attributes\":{\"factors\":[\"Q1 - 2018\",\"Q2 - 2018\",\"Q3 - 2018\",\"Q4 - 2018\",\"Q1 - 2019\",\"Q2 - 2019\",\"Q3 - 2019\",\"Q4 - 2019\",\"Q1 - 2020\",\"Q2 - 2020\"],\"tags\":[[[\"Years\",\"Years\",null]]]},\"id\":\"1958\",\"type\":\"FactorRange\"},{\"attributes\":{\"children\":[{\"id\":\"1957\"},{\"id\":\"1961\"},{\"id\":\"2026\"}],\"margin\":[0,0,0,0],\"name\":\"Row03809\",\"tags\":[\"embedded\"]},\"id\":\"1956\",\"type\":\"Row\"},{\"attributes\":{\"end\":1993125800.0,\"reset_end\":1993125800.0,\"reset_start\":786060200.0,\"start\":786060200.0,\"tags\":[[[\"Revenue\",\"Revenue\",null]]]},\"id\":\"1959\",\"type\":\"Range1d\"}],\"root_ids\":[\"1956\"]},\"title\":\"Bokeh Application\",\"version\":\"2.4.1\"}};\n",
       "    var render_items = [{\"docid\":\"121fc528-74fd-495e-9073-cf178b93b153\",\"root_ids\":[\"1956\"],\"roots\":{\"1956\":\"b984936e-45bc-492e-9c1d-817d2c714e17\"}}];\n",
       "    root.Bokeh.embed.embed_items_notebook(docs_json, render_items);\n",
       "  }\n",
       "  if (root.Bokeh !== undefined && root.Bokeh.Panel !== undefined) {\n",
       "    embed_document(root);\n",
       "  } else {\n",
       "    var attempts = 0;\n",
       "    var timer = setInterval(function(root) {\n",
       "      if (root.Bokeh !== undefined && root.Bokeh.Panel !== undefined) {\n",
       "        clearInterval(timer);\n",
       "        embed_document(root);\n",
       "      } else if (document.readyState == \"complete\") {\n",
       "        attempts++;\n",
       "        if (attempts > 200) {\n",
       "          clearInterval(timer);\n",
       "          console.log(\"Bokeh: ERROR: Unable to run BokehJS code because BokehJS library is missing\");\n",
       "        }\n",
       "      }\n",
       "    }, 25, root)\n",
       "  }\n",
       "})(window);</script>"
      ],
      "text/plain": [
       ":Curve   [Years]   (Revenue)"
      ]
     },
     "execution_count": 41,
     "metadata": {
      "application/vnd.holoviews_exec.v0+json": {
       "id": "1956"
      }
     },
     "output_type": "execute_result"
    }
   ],
   "source": [
    "# Create a styled line plot for the Europe, Middle East Africa region. \n",
    "# Make the line_color orange and be sure to set the plot equal to a variable. \n",
    "# YOUR CODE HERE  \n",
    "\n",
    "emea_revenue[\"Revenue\"].hvplot(   \n",
    "    xlabel=\"Years\",\n",
    "    ylabel=\"Revenue\",\n",
    "    rot=45\n",
    ").opts(\n",
    "   yformatter='%.0f',\n",
    "   title= \"emea_revenue revenue plot\",\n",
    "   color= \"orange\",\n",
    ")\n"
   ]
  },
  {
   "cell_type": "markdown",
   "metadata": {},
   "source": [
    "## Step 9: Create an overlay plot for the \"United States and Canada\" and the \"Europe, Middle East and Africa\" regions."
   ]
  },
  {
   "cell_type": "code",
   "execution_count": null,
   "metadata": {},
   "outputs": [],
   "source": [
    "# Create an overlay plot for the two visualizations\n",
    "\n",
    "# YOUR CODE HERE  "
   ]
  },
  {
   "cell_type": "markdown",
   "metadata": {},
   "source": [
    "## Step 10: Add a title to the overlay plot. Additionally, adjust height, width and background color."
   ]
  },
  {
   "cell_type": "code",
   "execution_count": null,
   "metadata": {},
   "outputs": [],
   "source": [
    "# Adjust the title, height, width and background color of the overlay plot\n",
    "# YOUR CODE HERE  \n"
   ]
  },
  {
   "cell_type": "markdown",
   "metadata": {},
   "source": [
    "## Step 11: Bonus - Create line plots for the Latin America and Asia Pacific Regions"
   ]
  },
  {
   "cell_type": "code",
   "execution_count": null,
   "metadata": {},
   "outputs": [],
   "source": [
    "# Create a DataFrame that slices the subscriber data for the Asia-Pacific region\n",
    "ap_revenue = # YOUR CODE HERE  \n",
    "\n",
    "# Set the index of the DataFrame to Years\n",
    "ap_revenue = # YOUR CODE HERE  "
   ]
  },
  {
   "cell_type": "code",
   "execution_count": null,
   "metadata": {},
   "outputs": [],
   "source": [
    "# Create a styled line plot for the Asia-Pacific region. \n",
    "# Make the line_color orange and be sure to set the plot equal to a variable. \n",
    "ap_plot = # YOUR CODE HERE  \n",
    "\n",
    "# Show the plot\n",
    "ap_plot"
   ]
  },
  {
   "cell_type": "code",
   "execution_count": null,
   "metadata": {},
   "outputs": [],
   "source": [
    "# Create a DataFrame that slices the subscriber data for the Latin America region\n",
    "lam_revenue = # YOUR CODE HERE  \n",
    "\n",
    "# Set the index of the DataFrame to Years\n",
    "lam_revenue = # YOUR CODE HERE  "
   ]
  },
  {
   "cell_type": "code",
   "execution_count": null,
   "metadata": {},
   "outputs": [],
   "source": [
    "# Create a styled line plot for the Latin America region. \n",
    "# Make the line_color orange and be sure to set the plot equal to a variable. \n",
    "lam_plot = # YOUR CODE HERE   \n",
    "\n",
    "# Show the plot\n",
    "lam_plot"
   ]
  },
  {
   "cell_type": "code",
   "execution_count": null,
   "metadata": {},
   "outputs": [],
   "source": [
    "# Create a compose plot for all four regions\n",
    "# YOUR CODE HERE  \n"
   ]
  }
 ],
 "metadata": {
  "interpreter": {
   "hash": "818f98e3acb0f00ff33d89b131253f508694b5c991f8fbffa352bfaeafca2825"
  },
  "kernelspec": {
   "display_name": "Python [conda env:blended]",
   "language": "python",
   "name": "python3"
  },
  "language_info": {
   "codemirror_mode": {
    "name": "ipython",
    "version": 3
   },
   "file_extension": ".py",
   "mimetype": "text/x-python",
   "name": "python",
   "nbconvert_exporter": "python",
   "pygments_lexer": "ipython3",
   "version": "3.7.11"
  }
 },
 "nbformat": 4,
 "nbformat_minor": 4
}
