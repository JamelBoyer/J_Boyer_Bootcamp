{
 "cells": [
  {
   "cell_type": "code",
   "execution_count": 2,
   "metadata": {},
   "outputs": [
    {
     "name": "stdout",
     "output_type": "stream",
     "text": [
      "true\n"
     ]
    }
   ],
   "source": [
    "name = \"Welcome to the Boba Shop! What is your name?\"\n",
    "\n",
    "if name == [\"\"] or [\"None\"]:\n",
    "                    print(\"true\") \n",
    "\n",
    "else:                print(\"false\")"
   ]
  }
 ],
 "metadata": {
  "interpreter": {
   "hash": "818f98e3acb0f00ff33d89b131253f508694b5c991f8fbffa352bfaeafca2825"
  },
  "kernelspec": {
   "display_name": "Python 3.7.11 ('dev')",
   "language": "python",
   "name": "python3"
  },
  "language_info": {
   "codemirror_mode": {
    "name": "ipython",
    "version": 3
   },
   "file_extension": ".py",
   "mimetype": "text/x-python",
   "name": "python",
   "nbconvert_exporter": "python",
   "pygments_lexer": "ipython3",
   "version": "3.7.11"
  },
  "orig_nbformat": 4
 },
 "nbformat": 4,
 "nbformat_minor": 2
}
