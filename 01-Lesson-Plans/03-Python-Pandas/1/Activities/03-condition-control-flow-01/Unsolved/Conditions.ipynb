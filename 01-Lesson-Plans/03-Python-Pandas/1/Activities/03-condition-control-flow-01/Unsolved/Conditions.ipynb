{
 "cells": [
  {
   "cell_type": "code",
   "execution_count": 8,
   "metadata": {},
   "outputs": [],
   "source": [
    "c1_name = \"Mr. Farley\"\n",
    "\n",
    "c1_age = 65\n",
    "\n",
    "c1_profession = \"Web Developer\"\n",
    "\n",
    "c1_salary = 100000\n",
    "\n",
    "\n",
    "c1_species = \"cat\"\n",
    "\n",
    "\n",
    "c1_location = \"San Francisco, CA\"\n",
    "\n",
    "\n",
    "c1_monthly_rent = 2000.\n",
    "\n",
    "\n",
    "c1_monthly_expenses = 1500.\n",
    "\n",
    "\n",
    "c1_yearly_rent = (c1_monthly_rent * 12)\n",
    "\n",
    "\n",
    "c1_yearly_expenses = (1500.00 * 12)\n",
    "\n",
    "\n",
    "c1_savings =  c1_salary - (c1_yearly_rent + c1_yearly_expenses)"
   ]
  },
  {
   "cell_type": "code",
   "execution_count": 9,
   "metadata": {},
   "outputs": [],
   "source": [
    "c2_name = \"Mr. Snuggles\"\n",
    "\n",
    "\n",
    "c2_age = 30\n",
    "\n",
    "\n",
    "c2_species = \"mouse\"\n",
    "\n",
    "\n",
    "c2_profession = \"Accountant\"\n",
    "\n",
    "\n",
    "c2_salary = 70000\n",
    "\n",
    "\n",
    "c2_location = \"Oakland, CA\"\n",
    "\n",
    "\n",
    "c2_monthly_rent = 4000\n",
    "\n",
    "\n",
    "c2_monthly_expenses = 500\n",
    "\n",
    "\n",
    "c2_yearly_rent = (c2_monthly_rent * 12)\n",
    "\n",
    "\n",
    "c2_yearly_expenses = (c2_monthly_expenses * 12)\n",
    "\n",
    "\n",
    "c2_savings = [c2_salary - (c2_yearly_rent + c2_yearly_expenses)]\n",
    "\n"
   ]
  },
  {
   "cell_type": "code",
   "execution_count": 11,
   "metadata": {},
   "outputs": [
    {
     "name": "stdout",
     "output_type": "stream",
     "text": [
      "Hello stranger\n"
     ]
    }
   ],
   "source": [
    "if c1_name !=\"Mr. Farley\":\n",
    "                    print(\"hHello Mr. Farley\")\n",
    "else:\n",
    "                     print(\"Hello stranger\")\n",
    "\n"
   ]
  }
 ],
 "metadata": {
  "interpreter": {
   "hash": "818f98e3acb0f00ff33d89b131253f508694b5c991f8fbffa352bfaeafca2825"
  },
  "kernelspec": {
   "display_name": "Python 3.7.11 ('dev')",
   "language": "python",
   "name": "python3"
  },
  "language_info": {
   "codemirror_mode": {
    "name": "ipython",
    "version": 3
   },
   "file_extension": ".py",
   "mimetype": "text/x-python",
   "name": "python",
   "nbconvert_exporter": "python",
   "pygments_lexer": "ipython3",
   "version": "3.7.11"
  },
  "orig_nbformat": 4
 },
 "nbformat": 4,
 "nbformat_minor": 2
}
