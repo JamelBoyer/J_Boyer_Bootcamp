{
 "cells": [
  {
   "cell_type": "code",
   "execution_count": 3,
   "metadata": {},
   "outputs": [
    {
     "name": "stdout",
     "output_type": "stream",
     "text": [
      "Hello World from new cell\n",
      "5\n",
      "hello world\n",
      "New cell for code\n"
     ]
    }
   ],
   "source": [
    "# print a statement: 'Hello World!'\n",
    "print ('Hello World from new cell')\n",
    "asset_misapproiation = 5\n",
    "\n",
    "5\n",
    "print (\"5\")\n",
    "print ('hello world')\n",
    "\n",
    "print('New cell for code')\n",
    "\n"
   ]
  },
  {
   "cell_type": "code",
   "execution_count": null,
   "metadata": {},
   "outputs": [],
   "source": [
    "# print a statement: 'Hello World from a new cell'\n"
   ]
  }
 ],
 "metadata": {
  "kernelspec": {
   "display_name": "Python 3",
   "language": "python",
   "name": "python3"
  },
  "language_info": {
   "codemirror_mode": {
    "name": "ipython",
    "version": 3
   },
   "file_extension": ".py",
   "mimetype": "text/x-python",
   "name": "python",
   "nbconvert_exporter": "python",
   "pygments_lexer": "ipython3",
   "version": "3.10.2"
  }
 },
 "nbformat": 4,
 "nbformat_minor": 5
}
