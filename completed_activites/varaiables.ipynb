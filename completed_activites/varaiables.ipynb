{
 "cells": [
  {
   "cell_type": "code",
   "execution_count": 1,
   "metadata": {},
   "outputs": [
    {
     "name": "stdout",
     "output_type": "stream",
     "text": [
      "Programmers: Ada Lovelace is a British Computer Programmer born in 1815.\n"
     ]
    }
   ],
   "source": [
    "statement_one = \"Programmers: Ada Lovelace is a British Computer Programmer born in 1815.\"\n",
    "print(statement_one)"
   ]
  },
  {
   "cell_type": "code",
   "execution_count": 2,
   "metadata": {},
   "outputs": [],
   "source": [
    "statement_two = \"She is commonly referred to as the First Computer Programmer.\""
   ]
  },
  {
   "cell_type": "code",
   "execution_count": 4,
   "metadata": {},
   "outputs": [],
   "source": [
    "statement_three = \"In 1842 she published the first Algorithm, the Analytical Engine, at the age of 27.\"\n"
   ]
  },
  {
   "cell_type": "code",
   "execution_count": 5,
   "metadata": {},
   "outputs": [],
   "source": [
    "statement_four = \"She was a British Citizen who lived in London, England until her passing in 1852 at the age of 37.\""
   ]
  },
  {
   "cell_type": "code",
   "execution_count": 7,
   "metadata": {},
   "outputs": [
    {
     "name": "stdout",
     "output_type": "stream",
     "text": [
      "Programmers: Ada Lovelace is a British Computer Programmer born in 1815. She is commonly referred to as the First Computer Programmer. In 1842 she published the first Algorithm, the Analytical Engine, at the age of 27. She was a British Citizen who lived in London, England until her passing in 1852 at the age of 37.\n"
     ]
    }
   ],
   "source": [
    "print(statement_one, statement_two, statement_three, statement_four)\n"
   ]
  }
 ],
 "metadata": {
  "interpreter": {
   "hash": "818f98e3acb0f00ff33d89b131253f508694b5c991f8fbffa352bfaeafca2825"
  },
  "kernelspec": {
   "display_name": "Python 3.7.11 ('dev')",
   "language": "python",
   "name": "python3"
  },
  "language_info": {
   "codemirror_mode": {
    "name": "ipython",
    "version": 3
   },
   "file_extension": ".py",
   "mimetype": "text/x-python",
   "name": "python",
   "nbconvert_exporter": "python",
   "pygments_lexer": "ipython3",
   "version": "3.7.11"
  },
  "orig_nbformat": 4
 },
 "nbformat": 4,
 "nbformat_minor": 2
}
