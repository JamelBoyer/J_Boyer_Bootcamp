{
 "cells": [
  {
   "cell_type": "markdown",
   "metadata": {},
   "source": [
    "# Unit 5 - Financial Planning"
   ]
  },
  {
   "cell_type": "code",
   "execution_count": 2,
   "metadata": {},
   "outputs": [],
   "source": [
    "# Initial imports\n",
    "import os\n",
    "import requests\n",
    "import pandas as pd\n",
    "from dotenv import load_dotenv\n",
    "import alpaca_trade_api as tradeapi\n",
    "from MCForecastTools import MCSimulation\n",
    "\n",
    "%matplotlib inline"
   ]
  },
  {
   "cell_type": "code",
   "execution_count": 3,
   "metadata": {},
   "outputs": [
    {
     "data": {
      "text/plain": [
       "True"
      ]
     },
     "execution_count": 3,
     "metadata": {},
     "output_type": "execute_result"
    }
   ],
   "source": [
    "# Load .env enviroment variables\n",
    "load_dotenv()"
   ]
  },
  {
   "cell_type": "markdown",
   "metadata": {},
   "source": [
    "## Part 1 - Personal Finance Planner"
   ]
  },
  {
   "cell_type": "markdown",
   "metadata": {},
   "source": [
    "### Collect Crypto Prices Using the `requests` Library"
   ]
  },
  {
   "cell_type": "code",
   "execution_count": 4,
   "metadata": {},
   "outputs": [],
   "source": [
    "# Set current amount of crypto assets\n",
    "\n",
    "my_btc = 1.2\n",
    "\n",
    "my_eth = 5.3"
   ]
  },
  {
   "cell_type": "code",
   "execution_count": 5,
   "metadata": {},
   "outputs": [],
   "source": [
    "# Crypto API URLs\n",
    "btc_url = \"https://api.alternative.me/v2/ticker/Bitcoin/?convert=USD\"\n",
    "eth_url = \"https://api.alternative.me/v2/ticker/Ethereum/?convert=USD\""
   ]
  },
  {
   "cell_type": "code",
   "execution_count": 6,
   "metadata": {},
   "outputs": [],
   "source": [
    "# Fetch current BTC price ()\n",
    "response = requests.get(\"https://api.alternative.me/v2/ticker/Bitcoin/?convert=USD\")\n",
    "\n",
    "btc_response_json = response.json()\n",
    "btc_response_json\n",
    "btc_response_json['data']['1']['quotes']['USD']['price']\n",
    "btc_price = btc_response_json['data']['1']['quotes']['USD']['price']\n",
    "\n",
    "\n",
    "# Compute current value of my crpto\n",
    "\n",
    "\n",
    "# Print current crypto wallet balance\n",
    "#print(f\"The current value of your {my_btc} BTC is ${my_btc_value:0.2f}\")\n",
    "#print(f\"The current value of your {my_eth} ETH is ${my_eth_value:0.2f}\")"
   ]
  },
  {
   "cell_type": "code",
   "execution_count": 7,
   "metadata": {},
   "outputs": [],
   "source": [
    "\n",
    "# Fetch current ETH price\n",
    "eth_response = requests.get(\"https://api.alternative.me/v2/ticker/Ethereum/?convert=USD\")\n",
    "eth_response_json = eth_response.json()\n",
    "eth_response_json['data']['1027']['quotes']['USD']['price']\n",
    "eth_price = eth_response_json['data']['1027']['quotes']['USD']['price']\n",
    "\n",
    "\n"
   ]
  },
  {
   "cell_type": "markdown",
   "metadata": {},
   "source": [
    "Fetch current BTC price"
   ]
  },
  {
   "cell_type": "code",
   "execution_count": 8,
   "metadata": {},
   "outputs": [
    {
     "data": {
      "text/plain": [
       "34725.0"
      ]
     },
     "execution_count": 8,
     "metadata": {},
     "output_type": "execute_result"
    }
   ],
   "source": [
    "btc_price "
   ]
  },
  {
   "cell_type": "markdown",
   "metadata": {},
   "source": [
    "Fetch current ETH price"
   ]
  },
  {
   "cell_type": "code",
   "execution_count": 122,
   "metadata": {},
   "outputs": [
    {
     "data": {
      "text/plain": [
       "2965.82"
      ]
     },
     "execution_count": 122,
     "metadata": {},
     "output_type": "execute_result"
    }
   ],
   "source": [
    "eth_price "
   ]
  },
  {
   "cell_type": "markdown",
   "metadata": {},
   "source": [
    "Compute current value of my crpto"
   ]
  },
  {
   "cell_type": "code",
   "execution_count": 123,
   "metadata": {},
   "outputs": [
    {
     "data": {
      "text/plain": [
       "47764.799999999996"
      ]
     },
     "execution_count": 123,
     "metadata": {},
     "output_type": "execute_result"
    }
   ],
   "source": [
    "# Compute current value of my crpto\n",
    "btc_price * my_btc "
   ]
  },
  {
   "cell_type": "code",
   "execution_count": 124,
   "metadata": {},
   "outputs": [
    {
     "data": {
      "text/plain": [
       "15718.846"
      ]
     },
     "execution_count": 124,
     "metadata": {},
     "output_type": "execute_result"
    }
   ],
   "source": [
    "eth_price * my_eth "
   ]
  },
  {
   "cell_type": "code",
   "execution_count": 125,
   "metadata": {},
   "outputs": [],
   "source": [
    "#print(f\"The current value of your {my_btc} BTC is ${btc_price}\")"
   ]
  },
  {
   "cell_type": "code",
   "execution_count": 126,
   "metadata": {},
   "outputs": [],
   "source": [
    "#print(f\"The current value of your {my_eth} ETH is ${eth_price:0.2f}\")"
   ]
  },
  {
   "cell_type": "markdown",
   "metadata": {},
   "source": [
    "### Collect Investments Data Using Alpaca: `SPY` (stocks) and `AGG` (bonds)"
   ]
  },
  {
   "cell_type": "code",
   "execution_count": 127,
   "metadata": {},
   "outputs": [],
   "source": [
    "# Set current amount of shares\n",
    "my_agg = 200\n",
    "my_spy = 50"
   ]
  },
  {
   "cell_type": "code",
   "execution_count": 128,
   "metadata": {},
   "outputs": [],
   "source": [
    "# Set Alpaca API key and secret\n",
    "# YOUR CODE HERE!\n",
    "# This is the SDK\n",
    "api_key = os.getenv(\"ALPACA_API_KEY\")\n",
    "api_s_key = os.getenv(\"ALPACA_SECRET_KEY\")\n",
    "\n",
    "# Create the Alpaca API object\n",
    "alpaca = tradeapi.REST(\n",
    "api_key,\n",
    "api_s_key,\n",
    "api_version = \"v2\"\n",
    ")"
   ]
  },
  {
   "cell_type": "code",
   "execution_count": 129,
   "metadata": {},
   "outputs": [],
   "source": [
    "#Format current date as ISO format\n",
    "#from datetime import datetime\n",
    "#today = pd.datetime.now().isoformat()\n",
    "today = pd.Timestamp(\"2022-04-22\", tz=\"America/New_York\").isoformat()\n"
   ]
  },
  {
   "cell_type": "code",
   "execution_count": 130,
   "metadata": {},
   "outputs": [
    {
     "data": {
      "text/html": [
       "<div>\n",
       "<style scoped>\n",
       "    .dataframe tbody tr th:only-of-type {\n",
       "        vertical-align: middle;\n",
       "    }\n",
       "\n",
       "    .dataframe tbody tr th {\n",
       "        vertical-align: top;\n",
       "    }\n",
       "\n",
       "    .dataframe thead th {\n",
       "        text-align: right;\n",
       "    }\n",
       "</style>\n",
       "<table border=\"1\" class=\"dataframe\">\n",
       "  <thead>\n",
       "    <tr style=\"text-align: right;\">\n",
       "      <th></th>\n",
       "      <th>open</th>\n",
       "      <th>high</th>\n",
       "      <th>low</th>\n",
       "      <th>close</th>\n",
       "      <th>volume</th>\n",
       "      <th>trade_count</th>\n",
       "      <th>vwap</th>\n",
       "      <th>symbol</th>\n",
       "    </tr>\n",
       "  </thead>\n",
       "  <tbody>\n",
       "    <tr>\n",
       "      <th>2022-04-22</th>\n",
       "      <td>102.73</td>\n",
       "      <td>103.1800</td>\n",
       "      <td>102.67</td>\n",
       "      <td>102.94</td>\n",
       "      <td>9152665</td>\n",
       "      <td>31498</td>\n",
       "      <td>102.925863</td>\n",
       "      <td>AGG</td>\n",
       "    </tr>\n",
       "    <tr>\n",
       "      <th>2022-04-22</th>\n",
       "      <td>436.94</td>\n",
       "      <td>438.0825</td>\n",
       "      <td>425.44</td>\n",
       "      <td>426.04</td>\n",
       "      <td>132156403</td>\n",
       "      <td>972064</td>\n",
       "      <td>429.813156</td>\n",
       "      <td>SPY</td>\n",
       "    </tr>\n",
       "  </tbody>\n",
       "</table>\n",
       "</div>"
      ],
      "text/plain": [
       "              open      high     low   close     volume  trade_count  \\\n",
       "2022-04-22  102.73  103.1800  102.67  102.94    9152665        31498   \n",
       "2022-04-22  436.94  438.0825  425.44  426.04  132156403       972064   \n",
       "\n",
       "                  vwap symbol  \n",
       "2022-04-22  102.925863    AGG  \n",
       "2022-04-22  429.813156    SPY  "
      ]
     },
     "execution_count": 130,
     "metadata": {},
     "output_type": "execute_result"
    }
   ],
   "source": [
    "# Set the tickers\n",
    "tickers = [\"AGG\", \"SPY\"]\n",
    "\n",
    "# Set timeframe to \"1Day\" for Alpaca API\n",
    "timeframe = \"1Day\"\n",
    "\n",
    "# Get current closing prices for SPY and AGG\n",
    "df_portfolio = alpaca.get_bars(\n",
    "       tickers,\n",
    "       timeframe,\n",
    "       start = today,\n",
    "       end = today             \n",
    ").df\n",
    "\n",
    "# Reorganize the DataFrame\n",
    "\n",
    "df_portfolio.index = df_portfolio.index.date\n",
    "\n",
    "#Example code api.get_bars(\"AGG\", timeframe, \"2021-06-08\", \"2021-06-08\", adjustment='raw').df\n",
    "df_portfolio\n"
   ]
  },
  {
   "cell_type": "code",
   "execution_count": 131,
   "metadata": {},
   "outputs": [],
   "source": [
    "\n",
    "\n",
    "# Separate ticker data\n",
    "\n",
    "AGG = df_portfolio [df_portfolio['symbol']=='AGG'].drop('symbol', axis=1)\n",
    "SPY = df_portfolio [df_portfolio['symbol']=='SPY'].drop('symbol', axis=1)\n",
    "\n",
    "\n",
    "\n",
    "\n"
   ]
  },
  {
   "cell_type": "code",
   "execution_count": 132,
   "metadata": {},
   "outputs": [
    {
     "data": {
      "text/html": [
       "<div>\n",
       "<style scoped>\n",
       "    .dataframe tbody tr th:only-of-type {\n",
       "        vertical-align: middle;\n",
       "    }\n",
       "\n",
       "    .dataframe tbody tr th {\n",
       "        vertical-align: top;\n",
       "    }\n",
       "\n",
       "    .dataframe thead th {\n",
       "        text-align: right;\n",
       "    }\n",
       "</style>\n",
       "<table border=\"1\" class=\"dataframe\">\n",
       "  <thead>\n",
       "    <tr style=\"text-align: right;\">\n",
       "      <th></th>\n",
       "      <th>open</th>\n",
       "      <th>high</th>\n",
       "      <th>low</th>\n",
       "      <th>close</th>\n",
       "      <th>volume</th>\n",
       "      <th>trade_count</th>\n",
       "      <th>vwap</th>\n",
       "    </tr>\n",
       "  </thead>\n",
       "  <tbody>\n",
       "    <tr>\n",
       "      <th>2022-04-22</th>\n",
       "      <td>102.73</td>\n",
       "      <td>103.18</td>\n",
       "      <td>102.67</td>\n",
       "      <td>102.94</td>\n",
       "      <td>9152665</td>\n",
       "      <td>31498</td>\n",
       "      <td>102.925863</td>\n",
       "    </tr>\n",
       "  </tbody>\n",
       "</table>\n",
       "</div>"
      ],
      "text/plain": [
       "              open    high     low   close   volume  trade_count        vwap\n",
       "2022-04-22  102.73  103.18  102.67  102.94  9152665        31498  102.925863"
      ]
     },
     "execution_count": 132,
     "metadata": {},
     "output_type": "execute_result"
    }
   ],
   "source": [
    "AGG"
   ]
  },
  {
   "cell_type": "code",
   "execution_count": 133,
   "metadata": {},
   "outputs": [
    {
     "data": {
      "text/html": [
       "<div>\n",
       "<style scoped>\n",
       "    .dataframe tbody tr th:only-of-type {\n",
       "        vertical-align: middle;\n",
       "    }\n",
       "\n",
       "    .dataframe tbody tr th {\n",
       "        vertical-align: top;\n",
       "    }\n",
       "\n",
       "    .dataframe thead th {\n",
       "        text-align: right;\n",
       "    }\n",
       "</style>\n",
       "<table border=\"1\" class=\"dataframe\">\n",
       "  <thead>\n",
       "    <tr style=\"text-align: right;\">\n",
       "      <th></th>\n",
       "      <th>open</th>\n",
       "      <th>high</th>\n",
       "      <th>low</th>\n",
       "      <th>close</th>\n",
       "      <th>volume</th>\n",
       "      <th>trade_count</th>\n",
       "      <th>vwap</th>\n",
       "    </tr>\n",
       "  </thead>\n",
       "  <tbody>\n",
       "    <tr>\n",
       "      <th>2022-04-22</th>\n",
       "      <td>436.94</td>\n",
       "      <td>438.0825</td>\n",
       "      <td>425.44</td>\n",
       "      <td>426.04</td>\n",
       "      <td>132156403</td>\n",
       "      <td>972064</td>\n",
       "      <td>429.813156</td>\n",
       "    </tr>\n",
       "  </tbody>\n",
       "</table>\n",
       "</div>"
      ],
      "text/plain": [
       "              open      high     low   close     volume  trade_count  \\\n",
       "2022-04-22  436.94  438.0825  425.44  426.04  132156403       972064   \n",
       "\n",
       "                  vwap  \n",
       "2022-04-22  429.813156  "
      ]
     },
     "execution_count": 133,
     "metadata": {},
     "output_type": "execute_result"
    }
   ],
   "source": [
    "SPY"
   ]
  },
  {
   "cell_type": "code",
   "execution_count": 134,
   "metadata": {},
   "outputs": [
    {
     "data": {
      "text/html": [
       "<div>\n",
       "<style scoped>\n",
       "    .dataframe tbody tr th:only-of-type {\n",
       "        vertical-align: middle;\n",
       "    }\n",
       "\n",
       "    .dataframe tbody tr th {\n",
       "        vertical-align: top;\n",
       "    }\n",
       "\n",
       "    .dataframe thead tr th {\n",
       "        text-align: left;\n",
       "    }\n",
       "</style>\n",
       "<table border=\"1\" class=\"dataframe\">\n",
       "  <thead>\n",
       "    <tr>\n",
       "      <th></th>\n",
       "      <th colspan=\"7\" halign=\"left\">AGG</th>\n",
       "      <th colspan=\"7\" halign=\"left\">SPY</th>\n",
       "    </tr>\n",
       "    <tr>\n",
       "      <th></th>\n",
       "      <th>open</th>\n",
       "      <th>high</th>\n",
       "      <th>low</th>\n",
       "      <th>close</th>\n",
       "      <th>volume</th>\n",
       "      <th>trade_count</th>\n",
       "      <th>vwap</th>\n",
       "      <th>open</th>\n",
       "      <th>high</th>\n",
       "      <th>low</th>\n",
       "      <th>close</th>\n",
       "      <th>volume</th>\n",
       "      <th>trade_count</th>\n",
       "      <th>vwap</th>\n",
       "    </tr>\n",
       "  </thead>\n",
       "  <tbody>\n",
       "    <tr>\n",
       "      <th>2022-04-22</th>\n",
       "      <td>102.73</td>\n",
       "      <td>103.18</td>\n",
       "      <td>102.67</td>\n",
       "      <td>102.94</td>\n",
       "      <td>9152665</td>\n",
       "      <td>31498</td>\n",
       "      <td>102.925863</td>\n",
       "      <td>436.94</td>\n",
       "      <td>438.0825</td>\n",
       "      <td>425.44</td>\n",
       "      <td>426.04</td>\n",
       "      <td>132156403</td>\n",
       "      <td>972064</td>\n",
       "      <td>429.813156</td>\n",
       "    </tr>\n",
       "  </tbody>\n",
       "</table>\n",
       "</div>"
      ],
      "text/plain": [
       "               AGG                                                           \\\n",
       "              open    high     low   close   volume trade_count        vwap   \n",
       "2022-04-22  102.73  103.18  102.67  102.94  9152665       31498  102.925863   \n",
       "\n",
       "               SPY                                                   \\\n",
       "              open      high     low   close     volume trade_count   \n",
       "2022-04-22  436.94  438.0825  425.44  426.04  132156403      972064   \n",
       "\n",
       "                        \n",
       "                  vwap  \n",
       "2022-04-22  429.813156  "
      ]
     },
     "execution_count": 134,
     "metadata": {},
     "output_type": "execute_result"
    }
   ],
   "source": [
    "# Concatenate the ticker DataFrames\n",
    "df_portfolio = pd.concat([AGG, SPY], axis=1, keys=['AGG','SPY'])\n",
    "# Preview DataFrame\n",
    "df_portfolio"
   ]
  },
  {
   "cell_type": "code",
   "execution_count": 135,
   "metadata": {},
   "outputs": [
    {
     "data": {
      "text/plain": [
       "102.94"
      ]
     },
     "execution_count": 135,
     "metadata": {},
     "output_type": "execute_result"
    }
   ],
   "source": [
    "# Pick AGG and SPY close prices\n",
    "#Print Closing Prices \n",
    "AGG_close_price = df_portfolio['AGG']['close'][0]  \n",
    "AGG_close_price \n",
    "\n",
    "\n"
   ]
  },
  {
   "cell_type": "code",
   "execution_count": 136,
   "metadata": {},
   "outputs": [
    {
     "data": {
      "text/plain": [
       "426.04"
      ]
     },
     "execution_count": 136,
     "metadata": {},
     "output_type": "execute_result"
    }
   ],
   "source": [
    "SPY_close_price = df_portfolio['SPY']['close'][0] \n",
    "SPY_close_price"
   ]
  },
  {
   "cell_type": "code",
   "execution_count": 137,
   "metadata": {},
   "outputs": [
    {
     "name": "stdout",
     "output_type": "stream",
     "text": [
      "Current AGG closing price: $102.94\n",
      "Current SPY closing price: $426.04\n"
     ]
    }
   ],
   "source": [
    "# Compute the current value of shares\n",
    "\n",
    "print(f\"Current AGG closing price: ${AGG_close_price}\")\n",
    "print(f\"Current SPY closing price: ${SPY_close_price}\")\n",
    "\n",
    "\n"
   ]
  },
  {
   "cell_type": "code",
   "execution_count": 138,
   "metadata": {},
   "outputs": [],
   "source": [
    "my_agg_value = AGG_close_price * my_agg\n",
    "my_spy_value = SPY_close_price * my_spy"
   ]
  },
  {
   "cell_type": "code",
   "execution_count": 139,
   "metadata": {},
   "outputs": [
    {
     "name": "stdout",
     "output_type": "stream",
     "text": [
      "The current value of your 50 SPY shares is $21302.00\n",
      "The current value of your 200 AGG shares is $20588.00\n"
     ]
    }
   ],
   "source": [
    "# Print current value of shares\n",
    "print(f\"The current value of your {my_spy} SPY shares is ${my_spy_value:0.2f}\")\n",
    "print(f\"The current value of your {my_agg} AGG shares is ${my_agg_value:0.2f}\")"
   ]
  },
  {
   "cell_type": "markdown",
   "metadata": {},
   "source": [
    "### Savings Health Analysis"
   ]
  },
  {
   "cell_type": "code",
   "execution_count": 140,
   "metadata": {},
   "outputs": [
    {
     "data": {
      "text/html": [
       "<div>\n",
       "<style scoped>\n",
       "    .dataframe tbody tr th:only-of-type {\n",
       "        vertical-align: middle;\n",
       "    }\n",
       "\n",
       "    .dataframe tbody tr th {\n",
       "        vertical-align: top;\n",
       "    }\n",
       "\n",
       "    .dataframe thead th {\n",
       "        text-align: right;\n",
       "    }\n",
       "</style>\n",
       "<table border=\"1\" class=\"dataframe\">\n",
       "  <thead>\n",
       "    <tr style=\"text-align: right;\">\n",
       "      <th></th>\n",
       "      <th>Pct of Amounts</th>\n",
       "    </tr>\n",
       "  </thead>\n",
       "  <tbody>\n",
       "    <tr>\n",
       "      <th>Crypto</th>\n",
       "      <td>19385.986877</td>\n",
       "    </tr>\n",
       "    <tr>\n",
       "      <th>Shares</th>\n",
       "      <td>40616.500000</td>\n",
       "    </tr>\n",
       "  </tbody>\n",
       "</table>\n",
       "</div>"
      ],
      "text/plain": [
       "        Pct of Amounts\n",
       "Crypto    19385.986877\n",
       "Shares    40616.500000"
      ]
     },
     "execution_count": 140,
     "metadata": {},
     "output_type": "execute_result"
    }
   ],
   "source": [
    "# Set monthly household income\n",
    "monthly_income = 12000\n",
    "\n",
    "# Consolidate financial assets data\n",
    "Crypto = 19385.986877\n",
    "Shares = 40616.500000\n",
    "\n",
    "investment_type = [\"Crypto\", \"Shares\"]\n",
    "\n",
    "# Create savings DataFrame\n",
    "df_savings  = pd.DataFrame(index=[investment_type])\n",
    "df_savings['Pct of Amounts'] = [Crypto, Shares]\n",
    "\n",
    "# Display savings DataFrame\n",
    "df_savings"
   ]
  },
  {
   "cell_type": "code",
   "execution_count": 141,
   "metadata": {},
   "outputs": [
    {
     "data": {
      "text/plain": [
       "<AxesSubplot:ylabel='Pct of Amounts'>"
      ]
     },
     "execution_count": 141,
     "metadata": {},
     "output_type": "execute_result"
    },
    {
     "data": {
      "image/png": "[encoded data removed]",
      "text/plain": [
       "<Figure size 1440x720 with 1 Axes>"
      ]
     },
     "metadata": {},
     "output_type": "display_data"
    }
   ],
   "source": [
    "# Plot savings pie chart\n",
    "labels = 'Crypto', 'Shares'\n",
    "df_savings.plot.pie(y='Pct of Amounts',subplots=False, autopct='%1.1f%%',labels=labels, figsize=(20,10))\n"
   ]
  },
  {
   "cell_type": "code",
   "execution_count": 142,
   "metadata": {},
   "outputs": [],
   "source": [
    "# Set ideal emergency fund\n",
    "emergency_fund = monthly_income * 3\n",
    "\n",
    "# Calculate total amount of savings\n",
    "total_savings = df_savings[\"Pct of Amounts\"][0] + df_savings[\"Pct of Amounts\"][1]\n",
    "\n",
    "# Validate saving health\n",
    "\n",
    "\n",
    "# YOUR CODE HERE!\n"
   ]
  },
  {
   "cell_type": "code",
   "execution_count": 143,
   "metadata": {},
   "outputs": [
    {
     "name": "stdout",
     "output_type": "stream",
     "text": [
      "you have emergency money\n"
     ]
    }
   ],
   "source": [
    "if total_savings > emergency_fund:\n",
    "    print(f\"you have emergency money\")\n",
    "\n",
    "elif total_savings < emergency_fund:\n",
    "  print(f\"you have work to do\")\n",
    "\n"
   ]
  },
  {
   "cell_type": "markdown",
   "metadata": {},
   "source": [
    "## Part 2 - Retirement Planning\n",
    "\n",
    "### Monte Carlo Simulation"
   ]
  },
  {
   "cell_type": "code",
   "execution_count": 144,
   "metadata": {},
   "outputs": [],
   "source": [
    "# Set start and end dates of five years back from today.\n",
    "# Sample results may vary from the solution based on the time frame chosen\n",
    "start_date = pd.Timestamp('2017-04-23', tz='America/New_York').isoformat()\n",
    "end_date = pd.Timestamp('2022-04-23', tz='America/New_York').isoformat()"
   ]
  },
  {
   "cell_type": "code",
   "execution_count": 145,
   "metadata": {},
   "outputs": [
    {
     "data": {
      "text/html": [
       "<div>\n",
       "<style scoped>\n",
       "    .dataframe tbody tr th:only-of-type {\n",
       "        vertical-align: middle;\n",
       "    }\n",
       "\n",
       "    .dataframe tbody tr th {\n",
       "        vertical-align: top;\n",
       "    }\n",
       "\n",
       "    .dataframe thead tr th {\n",
       "        text-align: left;\n",
       "    }\n",
       "</style>\n",
       "<table border=\"1\" class=\"dataframe\">\n",
       "  <thead>\n",
       "    <tr>\n",
       "      <th></th>\n",
       "      <th colspan=\"7\" halign=\"left\">AGG</th>\n",
       "      <th colspan=\"7\" halign=\"left\">SPY</th>\n",
       "    </tr>\n",
       "    <tr>\n",
       "      <th></th>\n",
       "      <th>open</th>\n",
       "      <th>high</th>\n",
       "      <th>low</th>\n",
       "      <th>close</th>\n",
       "      <th>volume</th>\n",
       "      <th>trade_count</th>\n",
       "      <th>vwap</th>\n",
       "      <th>open</th>\n",
       "      <th>high</th>\n",
       "      <th>low</th>\n",
       "      <th>close</th>\n",
       "      <th>volume</th>\n",
       "      <th>trade_count</th>\n",
       "      <th>vwap</th>\n",
       "    </tr>\n",
       "  </thead>\n",
       "  <tbody>\n",
       "    <tr>\n",
       "      <th>2017-04-24</th>\n",
       "      <td>109.05</td>\n",
       "      <td>109.2200</td>\n",
       "      <td>109.000</td>\n",
       "      <td>109.18</td>\n",
       "      <td>2745689</td>\n",
       "      <td>10549</td>\n",
       "      <td>109.150827</td>\n",
       "      <td>237.17</td>\n",
       "      <td>237.4100</td>\n",
       "      <td>234.5628</td>\n",
       "      <td>237.17</td>\n",
       "      <td>119209877</td>\n",
       "      <td>290927</td>\n",
       "      <td>236.615988</td>\n",
       "    </tr>\n",
       "    <tr>\n",
       "      <th>2017-04-25</th>\n",
       "      <td>108.99</td>\n",
       "      <td>109.0450</td>\n",
       "      <td>108.770</td>\n",
       "      <td>108.82</td>\n",
       "      <td>1888469</td>\n",
       "      <td>10064</td>\n",
       "      <td>108.912429</td>\n",
       "      <td>237.93</td>\n",
       "      <td>238.9500</td>\n",
       "      <td>237.8100</td>\n",
       "      <td>238.55</td>\n",
       "      <td>76698265</td>\n",
       "      <td>240232</td>\n",
       "      <td>238.459191</td>\n",
       "    </tr>\n",
       "    <tr>\n",
       "      <th>2017-04-26</th>\n",
       "      <td>108.85</td>\n",
       "      <td>108.9700</td>\n",
       "      <td>108.770</td>\n",
       "      <td>108.96</td>\n",
       "      <td>2893801</td>\n",
       "      <td>10145</td>\n",
       "      <td>108.884769</td>\n",
       "      <td>238.53</td>\n",
       "      <td>239.5300</td>\n",
       "      <td>238.3500</td>\n",
       "      <td>238.40</td>\n",
       "      <td>84702455</td>\n",
       "      <td>260064</td>\n",
       "      <td>238.801347</td>\n",
       "    </tr>\n",
       "    <tr>\n",
       "      <th>2017-04-27</th>\n",
       "      <td>108.94</td>\n",
       "      <td>109.1000</td>\n",
       "      <td>108.910</td>\n",
       "      <td>109.06</td>\n",
       "      <td>1660940</td>\n",
       "      <td>7367</td>\n",
       "      <td>109.026595</td>\n",
       "      <td>238.74</td>\n",
       "      <td>238.9500</td>\n",
       "      <td>237.9800</td>\n",
       "      <td>238.60</td>\n",
       "      <td>57410326</td>\n",
       "      <td>189214</td>\n",
       "      <td>238.526193</td>\n",
       "    </tr>\n",
       "    <tr>\n",
       "      <th>2017-04-28</th>\n",
       "      <td>108.98</td>\n",
       "      <td>109.2500</td>\n",
       "      <td>108.910</td>\n",
       "      <td>109.25</td>\n",
       "      <td>5774846</td>\n",
       "      <td>11215</td>\n",
       "      <td>109.197005</td>\n",
       "      <td>238.93</td>\n",
       "      <td>238.9300</td>\n",
       "      <td>237.9300</td>\n",
       "      <td>238.08</td>\n",
       "      <td>63532845</td>\n",
       "      <td>184967</td>\n",
       "      <td>238.219327</td>\n",
       "    </tr>\n",
       "    <tr>\n",
       "      <th>2017-05-01</th>\n",
       "      <td>108.86</td>\n",
       "      <td>108.9599</td>\n",
       "      <td>108.620</td>\n",
       "      <td>108.73</td>\n",
       "      <td>2510027</td>\n",
       "      <td>11008</td>\n",
       "      <td>108.743679</td>\n",
       "      <td>238.66</td>\n",
       "      <td>239.1700</td>\n",
       "      <td>238.1950</td>\n",
       "      <td>238.68</td>\n",
       "      <td>66882521</td>\n",
       "      <td>180740</td>\n",
       "      <td>238.682276</td>\n",
       "    </tr>\n",
       "    <tr>\n",
       "      <th>2017-05-02</th>\n",
       "      <td>108.68</td>\n",
       "      <td>108.9400</td>\n",
       "      <td>108.679</td>\n",
       "      <td>108.88</td>\n",
       "      <td>2841518</td>\n",
       "      <td>9263</td>\n",
       "      <td>108.831870</td>\n",
       "      <td>238.82</td>\n",
       "      <td>238.9800</td>\n",
       "      <td>238.3000</td>\n",
       "      <td>238.77</td>\n",
       "      <td>57375732</td>\n",
       "      <td>176648</td>\n",
       "      <td>238.630973</td>\n",
       "    </tr>\n",
       "    <tr>\n",
       "      <th>2017-05-03</th>\n",
       "      <td>108.97</td>\n",
       "      <td>108.9900</td>\n",
       "      <td>108.770</td>\n",
       "      <td>108.77</td>\n",
       "      <td>1923403</td>\n",
       "      <td>10987</td>\n",
       "      <td>108.902870</td>\n",
       "      <td>238.29</td>\n",
       "      <td>238.8775</td>\n",
       "      <td>237.7000</td>\n",
       "      <td>238.48</td>\n",
       "      <td>73137731</td>\n",
       "      <td>223568</td>\n",
       "      <td>238.418100</td>\n",
       "    </tr>\n",
       "    <tr>\n",
       "      <th>2017-05-04</th>\n",
       "      <td>108.55</td>\n",
       "      <td>108.7000</td>\n",
       "      <td>108.550</td>\n",
       "      <td>108.68</td>\n",
       "      <td>1897912</td>\n",
       "      <td>7501</td>\n",
       "      <td>108.629678</td>\n",
       "      <td>238.81</td>\n",
       "      <td>238.9225</td>\n",
       "      <td>237.7800</td>\n",
       "      <td>238.76</td>\n",
       "      <td>61462732</td>\n",
       "      <td>208872</td>\n",
       "      <td>238.541805</td>\n",
       "    </tr>\n",
       "    <tr>\n",
       "      <th>2017-05-05</th>\n",
       "      <td>108.72</td>\n",
       "      <td>108.7400</td>\n",
       "      <td>108.570</td>\n",
       "      <td>108.70</td>\n",
       "      <td>1421843</td>\n",
       "      <td>7385</td>\n",
       "      <td>108.675918</td>\n",
       "      <td>239.16</td>\n",
       "      <td>239.7200</td>\n",
       "      <td>238.6800</td>\n",
       "      <td>239.70</td>\n",
       "      <td>62001269</td>\n",
       "      <td>204885</td>\n",
       "      <td>239.253410</td>\n",
       "    </tr>\n",
       "  </tbody>\n",
       "</table>\n",
       "</div>"
      ],
      "text/plain": [
       "               AGG                                                  \\\n",
       "              open      high      low   close   volume trade_count   \n",
       "2017-04-24  109.05  109.2200  109.000  109.18  2745689       10549   \n",
       "2017-04-25  108.99  109.0450  108.770  108.82  1888469       10064   \n",
       "2017-04-26  108.85  108.9700  108.770  108.96  2893801       10145   \n",
       "2017-04-27  108.94  109.1000  108.910  109.06  1660940        7367   \n",
       "2017-04-28  108.98  109.2500  108.910  109.25  5774846       11215   \n",
       "2017-05-01  108.86  108.9599  108.620  108.73  2510027       11008   \n",
       "2017-05-02  108.68  108.9400  108.679  108.88  2841518        9263   \n",
       "2017-05-03  108.97  108.9900  108.770  108.77  1923403       10987   \n",
       "2017-05-04  108.55  108.7000  108.550  108.68  1897912        7501   \n",
       "2017-05-05  108.72  108.7400  108.570  108.70  1421843        7385   \n",
       "\n",
       "                           SPY                                         \\\n",
       "                  vwap    open      high       low   close     volume   \n",
       "2017-04-24  109.150827  237.17  237.4100  234.5628  237.17  119209877   \n",
       "2017-04-25  108.912429  237.93  238.9500  237.8100  238.55   76698265   \n",
       "2017-04-26  108.884769  238.53  239.5300  238.3500  238.40   84702455   \n",
       "2017-04-27  109.026595  238.74  238.9500  237.9800  238.60   57410326   \n",
       "2017-04-28  109.197005  238.93  238.9300  237.9300  238.08   63532845   \n",
       "2017-05-01  108.743679  238.66  239.1700  238.1950  238.68   66882521   \n",
       "2017-05-02  108.831870  238.82  238.9800  238.3000  238.77   57375732   \n",
       "2017-05-03  108.902870  238.29  238.8775  237.7000  238.48   73137731   \n",
       "2017-05-04  108.629678  238.81  238.9225  237.7800  238.76   61462732   \n",
       "2017-05-05  108.675918  239.16  239.7200  238.6800  239.70   62001269   \n",
       "\n",
       "                                    \n",
       "           trade_count        vwap  \n",
       "2017-04-24      290927  236.615988  \n",
       "2017-04-25      240232  238.459191  \n",
       "2017-04-26      260064  238.801347  \n",
       "2017-04-27      189214  238.526193  \n",
       "2017-04-28      184967  238.219327  \n",
       "2017-05-01      180740  238.682276  \n",
       "2017-05-02      176648  238.630973  \n",
       "2017-05-03      223568  238.418100  \n",
       "2017-05-04      208872  238.541805  \n",
       "2017-05-05      204885  239.253410  "
      ]
     },
     "execution_count": 145,
     "metadata": {},
     "output_type": "execute_result"
    }
   ],
   "source": [
    "# Get 5 years' worth of historical data for SPY and AGG\n",
    "# YOUR CODE HERE!\n",
    "\n",
    "df_portfolio = alpaca.get_bars(\n",
    "        tickers,\n",
    "        timeframe,\n",
    "        start=start_date,\n",
    "        end=end_date             \n",
    ").df\n",
    "\n",
    "# Reorganize the DataFrame\n",
    "df_portfolio.index = df_portfolio.index.date\n",
    "df_portfolio\n",
    "# Separate ticker data\n",
    "AGG = df_portfolio [df_portfolio['symbol']=='AGG'].drop('symbol', axis=1)\n",
    "SPY = df_portfolio [df_portfolio['symbol']=='SPY'].drop('symbol', axis=1)\n",
    "df_portfolio\n",
    "\n",
    "# Concatenate the ticker DataFrames\n",
    "df_portfolio = pd.concat([AGG, SPY], axis=1, keys=['AGG','SPY'])\n",
    "\n",
    "# Display sample data\n",
    "df_portfolio.head(10)"
   ]
  },
  {
   "cell_type": "markdown",
   "metadata": {},
   "source": [
    "Configure and execute a Monte Carlo Simulation of `500` runs and `30` years for the `40/60` portfolio."
   ]
  },
  {
   "cell_type": "code",
   "execution_count": 146,
   "metadata": {},
   "outputs": [],
   "source": [
    "# Configuring a Monte Carlo simulation to forecast 30 years cumulative returns\n",
    "MC_thirty_year = MCSimulation(\n",
    "    portfolio_data = df_portfolio,\n",
    "    weights = [.40,.60],\n",
    "    num_simulation = 500,\n",
    "    num_trading_days = 252*30\n",
    ")"
   ]
  },
  {
   "cell_type": "code",
   "execution_count": 147,
   "metadata": {},
   "outputs": [
    {
     "data": {
      "text/plain": [
       "<bound method DataFrame.dropna of                AGG                                                   \\\n",
       "              open      high      low   close    volume trade_count   \n",
       "2017-04-24  109.05  109.2200  109.000  109.18   2745689       10549   \n",
       "2017-04-25  108.99  109.0450  108.770  108.82   1888469       10064   \n",
       "2017-04-26  108.85  108.9700  108.770  108.96   2893801       10145   \n",
       "2017-04-27  108.94  109.1000  108.910  109.06   1660940        7367   \n",
       "2017-04-28  108.98  109.2500  108.910  109.25   5774846       11215   \n",
       "...            ...       ...      ...     ...       ...         ...   \n",
       "2022-04-18  103.97  104.0150  103.610  103.65   8630794       35583   \n",
       "2022-04-19  103.26  103.4264  102.974  103.02   7845969       32656   \n",
       "2022-04-20  103.36  103.7356  103.300  103.61   8434303       32866   \n",
       "2022-04-21  103.44  103.4700  102.790  103.04  11393860       35595   \n",
       "2022-04-22  102.73  103.1800  102.670  102.94   9152665       31498   \n",
       "\n",
       "                                        SPY                              \\\n",
       "                  vwap daily_return    open      high       low   close   \n",
       "2017-04-24  109.150827          NaN  237.17  237.4100  234.5628  237.17   \n",
       "2017-04-25  108.912429    -0.003297  237.93  238.9500  237.8100  238.55   \n",
       "2017-04-26  108.884769     0.001287  238.53  239.5300  238.3500  238.40   \n",
       "2017-04-27  109.026595     0.000918  238.74  238.9500  237.9800  238.60   \n",
       "2017-04-28  109.197005     0.001742  238.93  238.9300  237.9300  238.08   \n",
       "...                ...          ...     ...       ...       ...     ...   \n",
       "2022-04-18  103.732544    -0.003078  436.73  439.7500  435.6100  437.97   \n",
       "2022-04-19  103.193615    -0.006078  437.87  445.8000  437.6800  445.04   \n",
       "2022-04-20  103.528935     0.005727  446.95  447.5700  443.4800  444.71   \n",
       "2022-04-21  103.047589    -0.005501  448.58  450.0100  437.1000  438.06   \n",
       "2022-04-22  102.925863    -0.000970  436.94  438.0825  425.4400  426.04   \n",
       "\n",
       "                                                            \n",
       "               volume trade_count        vwap daily_return  \n",
       "2017-04-24  119209877      290927  236.615988          NaN  \n",
       "2017-04-25   76698265      240232  238.459191     0.005819  \n",
       "2017-04-26   84702455      260064  238.801347    -0.000629  \n",
       "2017-04-27   57410326      189214  238.526193     0.000839  \n",
       "2017-04-28   63532845      184967  238.219327    -0.002179  \n",
       "...               ...         ...         ...          ...  \n",
       "2022-04-18   65814949      573478  437.862483     0.000411  \n",
       "2022-04-19   77678099      597840  443.072191     0.016143  \n",
       "2022-04-20   64737457      591762  445.610168    -0.000742  \n",
       "2022-04-21   85097110      719682  442.772969    -0.014954  \n",
       "2022-04-22  132156403      972064  429.813156    -0.027439  \n",
       "\n",
       "[1260 rows x 16 columns]>"
      ]
     },
     "execution_count": 147,
     "metadata": {},
     "output_type": "execute_result"
    }
   ],
   "source": [
    "# Printing the simulation input data\n",
    "MC_thirty_year.portfolio_data.head()\n",
    "MC_thirty_year.portfolio_data.dropna\n",
    "\n",
    "\n",
    "\n"
   ]
  },
  {
   "cell_type": "code",
   "execution_count": 148,
   "metadata": {},
   "outputs": [
    {
     "name": "stdout",
     "output_type": "stream",
     "text": [
      "Running Monte Carlo simulation number 0.\n",
      "Running Monte Carlo simulation number 10.\n",
      "Running Monte Carlo simulation number 20.\n",
      "Running Monte Carlo simulation number 30.\n",
      "Running Monte Carlo simulation number 40.\n",
      "Running Monte Carlo simulation number 50.\n",
      "Running Monte Carlo simulation number 60.\n",
      "Running Monte Carlo simulation number 70.\n",
      "Running Monte Carlo simulation number 80.\n",
      "Running Monte Carlo simulation number 90.\n",
      "Running Monte Carlo simulation number 100.\n"
     ]
    },
    {
     "name": "stderr",
     "output_type": "stream",
     "text": [
      "c:\\Users\\Jamel\\Rutgers_Bootcamp\\J_Boyer_Bootcamp\\02-Homework\\05-APIs\\Instructions\\Starter_Code\\MCForecastTools.py:117: PerformanceWarning: DataFrame is highly fragmented.  This is usually the result of calling `frame.insert` many times, which has poor performance.  Consider joining all columns at once using pd.concat(axis=1) instead.  To get a de-fragmented frame, use `newframe = frame.copy()`\n",
      "  portfolio_cumulative_returns[n] = (1 + sim_df.fillna(0)).cumprod()\n"
     ]
    },
    {
     "name": "stdout",
     "output_type": "stream",
     "text": [
      "Running Monte Carlo simulation number 110.\n",
      "Running Monte Carlo simulation number 120.\n",
      "Running Monte Carlo simulation number 130.\n",
      "Running Monte Carlo simulation number 140.\n",
      "Running Monte Carlo simulation number 150.\n",
      "Running Monte Carlo simulation number 160.\n",
      "Running Monte Carlo simulation number 170.\n",
      "Running Monte Carlo simulation number 180.\n",
      "Running Monte Carlo simulation number 190.\n",
      "Running Monte Carlo simulation number 200.\n",
      "Running Monte Carlo simulation number 210.\n",
      "Running Monte Carlo simulation number 220.\n",
      "Running Monte Carlo simulation number 230.\n",
      "Running Monte Carlo simulation number 240.\n",
      "Running Monte Carlo simulation number 250.\n",
      "Running Monte Carlo simulation number 260.\n",
      "Running Monte Carlo simulation number 270.\n",
      "Running Monte Carlo simulation number 280.\n",
      "Running Monte Carlo simulation number 290.\n",
      "Running Monte Carlo simulation number 300.\n",
      "Running Monte Carlo simulation number 310.\n",
      "Running Monte Carlo simulation number 320.\n",
      "Running Monte Carlo simulation number 330.\n",
      "Running Monte Carlo simulation number 340.\n",
      "Running Monte Carlo simulation number 350.\n",
      "Running Monte Carlo simulation number 360.\n",
      "Running Monte Carlo simulation number 370.\n",
      "Running Monte Carlo simulation number 380.\n",
      "Running Monte Carlo simulation number 390.\n",
      "Running Monte Carlo simulation number 400.\n",
      "Running Monte Carlo simulation number 410.\n",
      "Running Monte Carlo simulation number 420.\n",
      "Running Monte Carlo simulation number 430.\n",
      "Running Monte Carlo simulation number 440.\n",
      "Running Monte Carlo simulation number 450.\n",
      "Running Monte Carlo simulation number 460.\n",
      "Running Monte Carlo simulation number 470.\n",
      "Running Monte Carlo simulation number 480.\n",
      "Running Monte Carlo simulation number 490.\n"
     ]
    },
    {
     "data": {
      "text/html": [
       "<div>\n",
       "<style scoped>\n",
       "    .dataframe tbody tr th:only-of-type {\n",
       "        vertical-align: middle;\n",
       "    }\n",
       "\n",
       "    .dataframe tbody tr th {\n",
       "        vertical-align: top;\n",
       "    }\n",
       "\n",
       "    .dataframe thead th {\n",
       "        text-align: right;\n",
       "    }\n",
       "</style>\n",
       "<table border=\"1\" class=\"dataframe\">\n",
       "  <thead>\n",
       "    <tr style=\"text-align: right;\">\n",
       "      <th></th>\n",
       "      <th>0</th>\n",
       "      <th>1</th>\n",
       "      <th>2</th>\n",
       "      <th>3</th>\n",
       "      <th>4</th>\n",
       "      <th>5</th>\n",
       "      <th>6</th>\n",
       "      <th>7</th>\n",
       "      <th>8</th>\n",
       "      <th>9</th>\n",
       "      <th>...</th>\n",
       "      <th>490</th>\n",
       "      <th>491</th>\n",
       "      <th>492</th>\n",
       "      <th>493</th>\n",
       "      <th>494</th>\n",
       "      <th>495</th>\n",
       "      <th>496</th>\n",
       "      <th>497</th>\n",
       "      <th>498</th>\n",
       "      <th>499</th>\n",
       "    </tr>\n",
       "  </thead>\n",
       "  <tbody>\n",
       "    <tr>\n",
       "      <th>0</th>\n",
       "      <td>1.000000</td>\n",
       "      <td>1.000000</td>\n",
       "      <td>1.000000</td>\n",
       "      <td>1.000000</td>\n",
       "      <td>1.000000</td>\n",
       "      <td>1.000000</td>\n",
       "      <td>1.000000</td>\n",
       "      <td>1.000000</td>\n",
       "      <td>1.000000</td>\n",
       "      <td>1.000000</td>\n",
       "      <td>...</td>\n",
       "      <td>1.000000</td>\n",
       "      <td>1.000000</td>\n",
       "      <td>1.000000</td>\n",
       "      <td>1.000000</td>\n",
       "      <td>1.000000</td>\n",
       "      <td>1.000000</td>\n",
       "      <td>1.000000</td>\n",
       "      <td>1.000000</td>\n",
       "      <td>1.000000</td>\n",
       "      <td>1.000000</td>\n",
       "    </tr>\n",
       "    <tr>\n",
       "      <th>1</th>\n",
       "      <td>1.007188</td>\n",
       "      <td>1.004638</td>\n",
       "      <td>1.002944</td>\n",
       "      <td>1.007697</td>\n",
       "      <td>0.993306</td>\n",
       "      <td>1.016040</td>\n",
       "      <td>0.998358</td>\n",
       "      <td>0.983522</td>\n",
       "      <td>0.997540</td>\n",
       "      <td>0.997259</td>\n",
       "      <td>...</td>\n",
       "      <td>1.007459</td>\n",
       "      <td>1.000562</td>\n",
       "      <td>1.007234</td>\n",
       "      <td>0.996434</td>\n",
       "      <td>1.002853</td>\n",
       "      <td>0.997909</td>\n",
       "      <td>1.013122</td>\n",
       "      <td>1.004365</td>\n",
       "      <td>1.014574</td>\n",
       "      <td>0.991391</td>\n",
       "    </tr>\n",
       "    <tr>\n",
       "      <th>2</th>\n",
       "      <td>1.001158</td>\n",
       "      <td>1.011120</td>\n",
       "      <td>1.001151</td>\n",
       "      <td>1.012180</td>\n",
       "      <td>0.991687</td>\n",
       "      <td>1.028714</td>\n",
       "      <td>0.986763</td>\n",
       "      <td>0.971748</td>\n",
       "      <td>1.004394</td>\n",
       "      <td>0.992313</td>\n",
       "      <td>...</td>\n",
       "      <td>0.998256</td>\n",
       "      <td>1.002042</td>\n",
       "      <td>1.012197</td>\n",
       "      <td>1.005290</td>\n",
       "      <td>1.013017</td>\n",
       "      <td>1.002395</td>\n",
       "      <td>1.001539</td>\n",
       "      <td>1.024076</td>\n",
       "      <td>1.026592</td>\n",
       "      <td>1.000086</td>\n",
       "    </tr>\n",
       "    <tr>\n",
       "      <th>3</th>\n",
       "      <td>1.003048</td>\n",
       "      <td>1.014668</td>\n",
       "      <td>1.012363</td>\n",
       "      <td>1.002006</td>\n",
       "      <td>0.983647</td>\n",
       "      <td>1.029707</td>\n",
       "      <td>0.986007</td>\n",
       "      <td>0.980483</td>\n",
       "      <td>1.004877</td>\n",
       "      <td>0.987666</td>\n",
       "      <td>...</td>\n",
       "      <td>0.996728</td>\n",
       "      <td>0.991037</td>\n",
       "      <td>1.022148</td>\n",
       "      <td>0.996511</td>\n",
       "      <td>1.010591</td>\n",
       "      <td>0.998151</td>\n",
       "      <td>1.001415</td>\n",
       "      <td>1.008046</td>\n",
       "      <td>1.021924</td>\n",
       "      <td>0.987841</td>\n",
       "    </tr>\n",
       "    <tr>\n",
       "      <th>4</th>\n",
       "      <td>0.995399</td>\n",
       "      <td>1.022437</td>\n",
       "      <td>1.008120</td>\n",
       "      <td>1.004882</td>\n",
       "      <td>0.970483</td>\n",
       "      <td>1.045319</td>\n",
       "      <td>0.985238</td>\n",
       "      <td>0.984370</td>\n",
       "      <td>1.010228</td>\n",
       "      <td>0.991236</td>\n",
       "      <td>...</td>\n",
       "      <td>0.995135</td>\n",
       "      <td>0.995137</td>\n",
       "      <td>1.032041</td>\n",
       "      <td>1.010693</td>\n",
       "      <td>0.998489</td>\n",
       "      <td>0.992359</td>\n",
       "      <td>1.016330</td>\n",
       "      <td>1.000810</td>\n",
       "      <td>1.027019</td>\n",
       "      <td>0.988087</td>\n",
       "    </tr>\n",
       "    <tr>\n",
       "      <th>...</th>\n",
       "      <td>...</td>\n",
       "      <td>...</td>\n",
       "      <td>...</td>\n",
       "      <td>...</td>\n",
       "      <td>...</td>\n",
       "      <td>...</td>\n",
       "      <td>...</td>\n",
       "      <td>...</td>\n",
       "      <td>...</td>\n",
       "      <td>...</td>\n",
       "      <td>...</td>\n",
       "      <td>...</td>\n",
       "      <td>...</td>\n",
       "      <td>...</td>\n",
       "      <td>...</td>\n",
       "      <td>...</td>\n",
       "      <td>...</td>\n",
       "      <td>...</td>\n",
       "      <td>...</td>\n",
       "      <td>...</td>\n",
       "      <td>...</td>\n",
       "    </tr>\n",
       "    <tr>\n",
       "      <th>7556</th>\n",
       "      <td>7.653829</td>\n",
       "      <td>6.345101</td>\n",
       "      <td>7.891489</td>\n",
       "      <td>5.000200</td>\n",
       "      <td>10.684158</td>\n",
       "      <td>20.973042</td>\n",
       "      <td>7.721861</td>\n",
       "      <td>9.637783</td>\n",
       "      <td>13.274616</td>\n",
       "      <td>0.868111</td>\n",
       "      <td>...</td>\n",
       "      <td>23.445354</td>\n",
       "      <td>10.465902</td>\n",
       "      <td>4.176103</td>\n",
       "      <td>9.309316</td>\n",
       "      <td>16.568724</td>\n",
       "      <td>9.278997</td>\n",
       "      <td>4.892215</td>\n",
       "      <td>10.028713</td>\n",
       "      <td>24.983548</td>\n",
       "      <td>10.070904</td>\n",
       "    </tr>\n",
       "    <tr>\n",
       "      <th>7557</th>\n",
       "      <td>7.605194</td>\n",
       "      <td>6.399976</td>\n",
       "      <td>7.947064</td>\n",
       "      <td>4.943369</td>\n",
       "      <td>10.655060</td>\n",
       "      <td>20.942354</td>\n",
       "      <td>7.774588</td>\n",
       "      <td>9.742914</td>\n",
       "      <td>13.169386</td>\n",
       "      <td>0.868128</td>\n",
       "      <td>...</td>\n",
       "      <td>23.661400</td>\n",
       "      <td>10.497796</td>\n",
       "      <td>4.115805</td>\n",
       "      <td>9.334834</td>\n",
       "      <td>16.501181</td>\n",
       "      <td>9.251352</td>\n",
       "      <td>4.876579</td>\n",
       "      <td>10.082170</td>\n",
       "      <td>24.889743</td>\n",
       "      <td>9.969780</td>\n",
       "    </tr>\n",
       "    <tr>\n",
       "      <th>7558</th>\n",
       "      <td>7.571092</td>\n",
       "      <td>6.425157</td>\n",
       "      <td>8.094875</td>\n",
       "      <td>4.933120</td>\n",
       "      <td>10.533948</td>\n",
       "      <td>21.102692</td>\n",
       "      <td>7.670510</td>\n",
       "      <td>9.683295</td>\n",
       "      <td>13.390156</td>\n",
       "      <td>0.887058</td>\n",
       "      <td>...</td>\n",
       "      <td>23.425823</td>\n",
       "      <td>10.576860</td>\n",
       "      <td>4.146608</td>\n",
       "      <td>9.431512</td>\n",
       "      <td>16.291702</td>\n",
       "      <td>9.247850</td>\n",
       "      <td>4.932222</td>\n",
       "      <td>10.056596</td>\n",
       "      <td>24.995265</td>\n",
       "      <td>10.013974</td>\n",
       "    </tr>\n",
       "    <tr>\n",
       "      <th>7559</th>\n",
       "      <td>7.508312</td>\n",
       "      <td>6.366199</td>\n",
       "      <td>8.145997</td>\n",
       "      <td>4.903330</td>\n",
       "      <td>10.524995</td>\n",
       "      <td>20.894998</td>\n",
       "      <td>7.644184</td>\n",
       "      <td>9.703663</td>\n",
       "      <td>13.316320</td>\n",
       "      <td>0.885225</td>\n",
       "      <td>...</td>\n",
       "      <td>23.377564</td>\n",
       "      <td>10.545684</td>\n",
       "      <td>4.162075</td>\n",
       "      <td>9.459527</td>\n",
       "      <td>16.186839</td>\n",
       "      <td>9.301225</td>\n",
       "      <td>4.972619</td>\n",
       "      <td>9.984045</td>\n",
       "      <td>24.728162</td>\n",
       "      <td>10.022265</td>\n",
       "    </tr>\n",
       "    <tr>\n",
       "      <th>7560</th>\n",
       "      <td>7.503147</td>\n",
       "      <td>6.282618</td>\n",
       "      <td>8.195081</td>\n",
       "      <td>4.965254</td>\n",
       "      <td>10.571644</td>\n",
       "      <td>20.859937</td>\n",
       "      <td>7.608319</td>\n",
       "      <td>9.887762</td>\n",
       "      <td>13.259682</td>\n",
       "      <td>0.885313</td>\n",
       "      <td>...</td>\n",
       "      <td>23.446884</td>\n",
       "      <td>10.573536</td>\n",
       "      <td>4.139141</td>\n",
       "      <td>9.448548</td>\n",
       "      <td>16.428419</td>\n",
       "      <td>9.397812</td>\n",
       "      <td>5.055227</td>\n",
       "      <td>9.941035</td>\n",
       "      <td>24.584286</td>\n",
       "      <td>10.123308</td>\n",
       "    </tr>\n",
       "  </tbody>\n",
       "</table>\n",
       "<p>7561 rows × 500 columns</p>\n",
       "</div>"
      ],
      "text/plain": [
       "           0         1         2         3          4          5         6    \\\n",
       "0     1.000000  1.000000  1.000000  1.000000   1.000000   1.000000  1.000000   \n",
       "1     1.007188  1.004638  1.002944  1.007697   0.993306   1.016040  0.998358   \n",
       "2     1.001158  1.011120  1.001151  1.012180   0.991687   1.028714  0.986763   \n",
       "3     1.003048  1.014668  1.012363  1.002006   0.983647   1.029707  0.986007   \n",
       "4     0.995399  1.022437  1.008120  1.004882   0.970483   1.045319  0.985238   \n",
       "...        ...       ...       ...       ...        ...        ...       ...   \n",
       "7556  7.653829  6.345101  7.891489  5.000200  10.684158  20.973042  7.721861   \n",
       "7557  7.605194  6.399976  7.947064  4.943369  10.655060  20.942354  7.774588   \n",
       "7558  7.571092  6.425157  8.094875  4.933120  10.533948  21.102692  7.670510   \n",
       "7559  7.508312  6.366199  8.145997  4.903330  10.524995  20.894998  7.644184   \n",
       "7560  7.503147  6.282618  8.195081  4.965254  10.571644  20.859937  7.608319   \n",
       "\n",
       "           7          8         9    ...        490        491       492  \\\n",
       "0     1.000000   1.000000  1.000000  ...   1.000000   1.000000  1.000000   \n",
       "1     0.983522   0.997540  0.997259  ...   1.007459   1.000562  1.007234   \n",
       "2     0.971748   1.004394  0.992313  ...   0.998256   1.002042  1.012197   \n",
       "3     0.980483   1.004877  0.987666  ...   0.996728   0.991037  1.022148   \n",
       "4     0.984370   1.010228  0.991236  ...   0.995135   0.995137  1.032041   \n",
       "...        ...        ...       ...  ...        ...        ...       ...   \n",
       "7556  9.637783  13.274616  0.868111  ...  23.445354  10.465902  4.176103   \n",
       "7557  9.742914  13.169386  0.868128  ...  23.661400  10.497796  4.115805   \n",
       "7558  9.683295  13.390156  0.887058  ...  23.425823  10.576860  4.146608   \n",
       "7559  9.703663  13.316320  0.885225  ...  23.377564  10.545684  4.162075   \n",
       "7560  9.887762  13.259682  0.885313  ...  23.446884  10.573536  4.139141   \n",
       "\n",
       "           493        494       495       496        497        498        499  \n",
       "0     1.000000   1.000000  1.000000  1.000000   1.000000   1.000000   1.000000  \n",
       "1     0.996434   1.002853  0.997909  1.013122   1.004365   1.014574   0.991391  \n",
       "2     1.005290   1.013017  1.002395  1.001539   1.024076   1.026592   1.000086  \n",
       "3     0.996511   1.010591  0.998151  1.001415   1.008046   1.021924   0.987841  \n",
       "4     1.010693   0.998489  0.992359  1.016330   1.000810   1.027019   0.988087  \n",
       "...        ...        ...       ...       ...        ...        ...        ...  \n",
       "7556  9.309316  16.568724  9.278997  4.892215  10.028713  24.983548  10.070904  \n",
       "7557  9.334834  16.501181  9.251352  4.876579  10.082170  24.889743   9.969780  \n",
       "7558  9.431512  16.291702  9.247850  4.932222  10.056596  24.995265  10.013974  \n",
       "7559  9.459527  16.186839  9.301225  4.972619   9.984045  24.728162  10.022265  \n",
       "7560  9.448548  16.428419  9.397812  5.055227   9.941035  24.584286  10.123308  \n",
       "\n",
       "[7561 rows x 500 columns]"
      ]
     },
     "execution_count": 148,
     "metadata": {},
     "output_type": "execute_result"
    }
   ],
   "source": [
    "# Running a Monte Carlo simulation to forecast 30 years cumulative returns\n",
    "MC_thirty_year.calc_cumulative_return()"
   ]
  },
  {
   "cell_type": "code",
   "execution_count": 149,
   "metadata": {},
   "outputs": [
    {
     "data": {
      "text/plain": [
       "<AxesSubplot:title={'center':'500 Simulations of Cumulative Portfolio Return Trajectories Over the Next 7560 Trading Days.'}>"
      ]
     },
     "execution_count": 149,
     "metadata": {},
     "output_type": "execute_result"
    },
    {
     "data": {
      "image/png": "[encoded data removed]",
      "text/plain": [
       "<Figure size 432x288 with 1 Axes>"
      ]
     },
     "metadata": {
      "needs_background": "light"
     },
     "output_type": "display_data"
    }
   ],
   "source": [
    "# Plot simulation outcomes\n",
    "MC_thirty_year.plot_simulation()"
   ]
  },
  {
   "cell_type": "code",
   "execution_count": 150,
   "metadata": {},
   "outputs": [
    {
     "data": {
      "image/png": "[encoded data removed]",
      "text/plain": [
       "<Figure size 432x288 with 1 Axes>"
      ]
     },
     "metadata": {
      "needs_background": "light"
     },
     "output_type": "display_data"
    }
   ],
   "source": [
    "# Plot probability distribution and confidence intervals\n",
    "dist_plot = MC_thirty_year.plot_distribution()"
   ]
  },
  {
   "cell_type": "markdown",
   "metadata": {},
   "source": [
    "### Retirement Analysis"
   ]
  },
  {
   "cell_type": "code",
   "execution_count": 151,
   "metadata": {},
   "outputs": [
    {
     "data": {
      "text/plain": [
       "count           500.000000\n",
       "mean             10.116171\n",
       "std               7.341686\n",
       "min               0.885313\n",
       "25%               5.327052\n",
       "50%               7.752584\n",
       "75%              12.244574\n",
       "max              48.461765\n",
       "95% CI Lower      2.321182\n",
       "95% CI Upper     31.861304\n",
       "Name: 7560, dtype: float64"
      ]
     },
     "execution_count": 151,
     "metadata": {},
     "output_type": "execute_result"
    }
   ],
   "source": [
    "# Fetch summary statistics from the Monte Carlo simulation results\n",
    "tbl = MC_thirty_year.summarize_cumulative_return()\n",
    "\n",
    "# Print summary statistics\n",
    "tbl"
   ]
  },
  {
   "cell_type": "markdown",
   "metadata": {},
   "source": [
    "### Calculate the expected portfolio return at the `95%` lower and upper confidence intervals based on a `$20,000` initial investment."
   ]
  },
  {
   "cell_type": "code",
   "execution_count": 152,
   "metadata": {},
   "outputs": [],
   "source": [
    "# Set initial investment\n",
    "initial_investment = 20000\n",
    "\n",
    "# Use the lower and upper `95%` confidence intervals to calculate the range of the possible outcomes of our $20,000\n",
    "ci_lower = round(tbl[8]*initial_investment,2)\n",
    "ci_upper = round(tbl[9]*initial_investment,2)\n"
   ]
  },
  {
   "cell_type": "code",
   "execution_count": 153,
   "metadata": {},
   "outputs": [
    {
     "name": "stdout",
     "output_type": "stream",
     "text": [
      "the expected portfolio return at the `95%` lower and upper confidence intervals based on $20000 in the portfolio $46423.64 and $637226.08\n"
     ]
    }
   ],
   "source": [
    "print(f\"the expected portfolio return at the `95%` lower and upper confidence intervals based on ${initial_investment} in the portfolio\"\n",
    "\n",
    "      f\" ${ci_lower} and ${ci_upper}\")"
   ]
  },
  {
   "cell_type": "markdown",
   "metadata": {},
   "source": [
    "### Calculate the expected portfolio return at the `95%` lower and upper confidence intervals based on a `50%` increase in the initial investment."
   ]
  },
  {
   "cell_type": "code",
   "execution_count": 154,
   "metadata": {},
   "outputs": [
    {
     "name": "stdout",
     "output_type": "stream",
     "text": [
      "There is a 95% chance that an initial investment of $30000.0 in the portfolio over the next 30 years will end within in the range of $69635.46 and $955839.12\n"
     ]
    }
   ],
   "source": [
    "# Set initial investment\n",
    "initial_investment = 20000 * 1.5\n",
    "\n",
    "# Use the lower and upper `95%` confidence intervals to calculate the range of the possible outcomes of our $30,000\n",
    "ci_lower = round(tbl[8]*initial_investment,2)\n",
    "ci_upper = round(tbl[9]*initial_investment,2)\n",
    "\n",
    "# Print results\n",
    "print(f\"There is a 95% chance that an initial investment of ${initial_investment} in the portfolio\"\n",
    "      f\" over the next 30 years will end within in the range of\"\n",
    "      f\" ${ci_lower} and ${ci_upper}\")"
   ]
  },
  {
   "cell_type": "markdown",
   "metadata": {},
   "source": [
    "## Optional Challenge - Early Retirement\n",
    "\n",
    "\n",
    "### Five Years Retirement Option"
   ]
  },
  {
   "cell_type": "code",
   "execution_count": 155,
   "metadata": {},
   "outputs": [],
   "source": [
    "# Configuring a Monte Carlo simulation to forecast 5 years cumulative returns\n",
    "# YOUR CODE HERE!"
   ]
  },
  {
   "cell_type": "code",
   "execution_count": 156,
   "metadata": {},
   "outputs": [],
   "source": [
    "# Running a Monte Carlo simulation to forecast 5 years cumulative returns\n",
    "# YOUR CODE HERE!"
   ]
  },
  {
   "cell_type": "code",
   "execution_count": 157,
   "metadata": {},
   "outputs": [],
   "source": [
    "# Plot simulation outcomes\n",
    "# YOUR CODE HERE!"
   ]
  },
  {
   "cell_type": "code",
   "execution_count": 158,
   "metadata": {},
   "outputs": [],
   "source": [
    "# Plot probability distribution and confidence intervals\n",
    "# YOUR CODE HERE!"
   ]
  },
  {
   "cell_type": "code",
   "execution_count": 159,
   "metadata": {},
   "outputs": [],
   "source": [
    "# Fetch summary statistics from the Monte Carlo simulation results\n",
    "# YOUR CODE HERE!\n",
    "\n",
    "# Print summary statistics\n",
    "# YOUR CODE HERE!"
   ]
  },
  {
   "cell_type": "code",
   "execution_count": 160,
   "metadata": {},
   "outputs": [
    {
     "ename": "NameError",
     "evalue": "name 'ci_lower_five' is not defined",
     "output_type": "error",
     "traceback": [
      "\u001b[1;31m---------------------------------------------------------------------------\u001b[0m",
      "\u001b[1;31mNameError\u001b[0m                                 Traceback (most recent call last)",
      "\u001b[1;32m~\\AppData\\Local\\Temp/ipykernel_46620/2498605119.py\u001b[0m in \u001b[0;36m<module>\u001b[1;34m\u001b[0m\n\u001b[0;32m      6\u001b[0m \u001b[1;33m\u001b[0m\u001b[0m\n\u001b[0;32m      7\u001b[0m \u001b[1;31m# Print results\u001b[0m\u001b[1;33m\u001b[0m\u001b[1;33m\u001b[0m\u001b[1;33m\u001b[0m\u001b[0m\n\u001b[1;32m----> 8\u001b[1;33m print(f\"There is a 95% chance that an initial investment of ${initial_investment} in the portfolio\"\n\u001b[0m\u001b[0;32m      9\u001b[0m       \u001b[1;34mf\" over the next 5 years will end within in the range of\"\u001b[0m\u001b[1;33m\u001b[0m\u001b[1;33m\u001b[0m\u001b[0m\n\u001b[0;32m     10\u001b[0m       f\" ${ci_lower_five} and ${ci_upper_five}\")\n",
      "\u001b[1;31mNameError\u001b[0m: name 'ci_lower_five' is not defined"
     ]
    }
   ],
   "source": [
    "# Set initial investment\n",
    "# YOUR CODE HERE!\n",
    "\n",
    "# Use the lower and upper `95%` confidence intervals to calculate the range of the possible outcomes of our $60,000\n",
    "# YOUR CODE HERE!\n",
    "\n",
    "# Print results\n",
    "print(f\"There is a 95% chance that an initial investment of ${initial_investment} in the portfolio\"\n",
    "      f\" over the next 5 years will end within in the range of\"\n",
    "      f\" ${ci_lower_five} and ${ci_upper_five}\")"
   ]
  },
  {
   "cell_type": "markdown",
   "metadata": {},
   "source": [
    "### Ten Years Retirement Option"
   ]
  },
  {
   "cell_type": "code",
   "execution_count": null,
   "metadata": {},
   "outputs": [],
   "source": [
    "# Configuring a Monte Carlo simulation to forecast 10 years cumulative returns\n",
    "# YOUR CODE HERE!"
   ]
  },
  {
   "cell_type": "code",
   "execution_count": null,
   "metadata": {},
   "outputs": [],
   "source": [
    "# Running a Monte Carlo simulation to forecast 10 years cumulative returns\n",
    "# YOUR CODE HERE!"
   ]
  },
  {
   "cell_type": "code",
   "execution_count": null,
   "metadata": {},
   "outputs": [],
   "source": [
    "# Plot simulation outcomes\n",
    "# YOUR CODE HERE!"
   ]
  },
  {
   "cell_type": "code",
   "execution_count": null,
   "metadata": {},
   "outputs": [],
   "source": [
    "# Plot probability distribution and confidence intervals\n",
    "# YOUR CODE HERE!"
   ]
  },
  {
   "cell_type": "code",
   "execution_count": null,
   "metadata": {},
   "outputs": [],
   "source": [
    "# Fetch summary statistics from the Monte Carlo simulation results\n",
    "# YOUR CODE HERE!\n",
    "\n",
    "# Print summary statistics\n",
    "# YOUR CODE HERE!"
   ]
  },
  {
   "cell_type": "code",
   "execution_count": null,
   "metadata": {},
   "outputs": [],
   "source": [
    "# Set initial investment\n",
    "# YOUR CODE HERE!\n",
    "\n",
    "# Use the lower and upper `95%` confidence intervals to calculate the range of the possible outcomes of our $60,000\n",
    "# YOUR CODE HERE!\n",
    "\n",
    "# Print results\n",
    "print(f\"There is a 95% chance that an initial investment of ${initial_investment} in the portfolio\"\n",
    "      f\" over the next 10 years will end within in the range of\"\n",
    "      f\" ${ci_lower_ten} and ${ci_upper_ten}\")"
   ]
  },
  {
   "cell_type": "code",
   "execution_count": null,
   "metadata": {},
   "outputs": [],
   "source": []
  }
 ],
 "metadata": {
  "interpreter": {
   "hash": "03c8badc5be32fc0cacd69503f53fc960b03e871ffffc1aa8d43ba998b7ba002"
  },
  "kernelspec": {
   "display_name": "Python 3.7.11 ('alpacaenv')",
   "language": "python",
   "name": "python3"
  },
  "language_info": {
   "codemirror_mode": {
    "name": "ipython",
    "version": 3
   },
   "file_extension": ".py",
   "mimetype": "text/x-python",
   "name": "python",
   "nbconvert_exporter": "python",
   "pygments_lexer": "ipython3",
   "version": "3.7.11"
  },
  "nteract": {
   "version": "0.28.0"
  }
 },
 "nbformat": 4,
 "nbformat_minor": 4
}
